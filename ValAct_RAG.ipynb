{
 "cells": [
  {
   "cell_type": "markdown",
   "id": "57226901",
   "metadata": {},
   "source": [
    "# Converting the PDF files into vector database"
   ]
  },
  {
   "cell_type": "markdown",
   "id": "7f7c8d88",
   "metadata": {},
   "source": [
    "# 1. Initial setup"
   ]
  },
  {
   "cell_type": "code",
   "execution_count": 1,
   "id": "06fc759e",
   "metadata": {},
   "outputs": [],
   "source": [
    "# Initial imports\n",
    "from dotenv import load_dotenv\n",
    "import os\n",
    "import re\n",
    "from IPython.display import display, Markdown\n",
    "import json\n",
    "\n",
    "# Load the variables from .env file and set the API key (or user may manually set the API key)\n",
    "load_dotenv()  \n",
    "\n",
    "os.environ[\"OPENAI_API_KEY\"] = os.getenv('OPENAI_API_KEY')\n",
    "os.environ[\"ANTHROPIC_API_KEY\"] = os.getenv('ANTHROPIC_API_KEY')\n",
    "os.environ[\"MATHPIX_API_ID\"] = os.getenv('MATHPIX_API_KEY')\n",
    "os.environ[\"PINECONE_API_KEY\"] = os.getenv('PINECONE_API_KEY')\n",
    "pinecone_api_key = os.getenv('PINECONE_API_KEY')\n",
    "\n",
    "from common.utils import (\n",
    "    pdf_to_md,\n",
    "    split_mds,\n",
    ")\n",
    "\n",
    "from common.summarizer import summarize_collections\n",
    "\n",
    "# Langchain framework\n",
    "from langchain_core.output_parsers import StrOutputParser\n",
    "from langchain_core.runnables import RunnablePassthrough\n",
    "from langchain_core.runnables import RunnableParallel # for RAG with source\n",
    "from langchain_core.prompts import ChatPromptTemplate\n",
    "from langchain_openai import ChatOpenAI, OpenAIEmbeddings\n",
    "from langchain_anthropic import ChatAnthropic\n",
    "from langchain_text_splitters import MarkdownHeaderTextSplitter\n",
    "from langchain_pinecone import PineconeVectorStore\n",
    "from pinecone import Pinecone\n",
    "from langchain_community.document_loaders import TextLoader\n",
    "\n",
    "## Initial variable setup\n",
    "embeddings_model = OpenAIEmbeddings(model=\"text-embedding-3-large\")\n",
    "\n",
    "USE_Anthropic = True\n",
    "\n",
    "if USE_Anthropic:\n",
    "    llm = ChatAnthropic(model_name=\"claude-3-sonnet-20240229\", temperature=0)\n",
    "else:\n",
    "    llm = ChatOpenAI(model_name=\"gpt-3.5-turbo\", temperature=0) # context window size 16k for GPT 3.5 Turbo"
   ]
  },
  {
   "cell_type": "markdown",
   "id": "b04673e4",
   "metadata": {},
   "source": [
    "# 2. Load PDF files and convert to a vector DB"
   ]
  },
  {
   "cell_type": "markdown",
   "id": "be7ad53a",
   "metadata": {},
   "source": [
    "## 2.1a Convert PDFs to markdown files"
   ]
  },
  {
   "cell_type": "code",
   "execution_count": 2,
   "id": "fb282c6c",
   "metadata": {},
   "outputs": [
    {
     "name": "stdout",
     "output_type": "stream",
     "text": [
      "Status: loaded, waiting for processing to complete\n"
     ]
    }
   ],
   "source": [
    "############################################################################\n",
    "# Run only to convert pdf to markdown files\n",
    "############################################################################\n",
    "\n",
    "collection_list=[\n",
    "    #\"Cayman\",\n",
    "    # \"AI_BigData\",\n",
    "    # \"ASOP_life\",\n",
    "    \"Bermuda\",\n",
    "    # \"CFT\",\n",
    "    # \"GAAP\",\n",
    "    # \"RiskFinance\",\n",
    "    # \"PBR\",\n",
    "    # \"VM21\",\n",
    "    # \"VM22\",\n",
    "    # \"Asset\",\n",
    "    # \"IFRS17\",\n",
    "    # \"SAP\",\n",
    "]\n",
    "for collection_name in collection_list:\n",
    "    # Put new files in the upload subfolder\n",
    "    folder_path = './data/upload/pdf/'+collection_name\n",
    "    download_path = './data/upload/md/'+collection_name\n",
    "    os.makedirs(download_path, exist_ok=True)\n",
    "\n",
    "    # Use loader option 5 to use Mathpix OCR to load formula, tables\n",
    "    pdf_to_md(folder_path, download_path, loader_option = 5)"
   ]
  },
  {
   "cell_type": "markdown",
   "id": "6c447db3",
   "metadata": {},
   "source": [
    "## 2.1b Image formatter in Markdown files"
   ]
  },
  {
   "cell_type": "code",
   "execution_count": 3,
   "id": "17ed2b74",
   "metadata": {},
   "outputs": [
    {
     "name": "stdout",
     "output_type": "stream",
     "text": [
      "Processed: ./data/upload/md/Bermuda/2024-BMA-03-28-Instruction-Handbook-EBS.md\n"
     ]
    }
   ],
   "source": [
    "def process_img_script(file_path):\n",
    "    with open(file_path, \"r\", encoding=\"utf-8\") as file:\n",
    "        content = file.read()\n",
    "\n",
    "    def replace_image_link(match):\n",
    "        url = match.group(1)\n",
    "        return f'<img src=\"{url}\" alt=\"image\" style=\"width:100%;height:auto;\">'\n",
    "\n",
    "    modified_content = re.sub(r\"!\\[\\]\\((.*?)\\)\", replace_image_link, content)\n",
    "\n",
    "    with open(file_path, \"w\", encoding=\"utf-8\") as file:\n",
    "        file.write(modified_content)\n",
    "\n",
    "\n",
    "def process_img_mds(folder_path):\n",
    "    for root, dirs, files in os.walk(folder_path):\n",
    "        for file in files:\n",
    "            if file.endswith(\".md\"):\n",
    "                file_path = os.path.join(root, file)\n",
    "                process_img_script(file_path)\n",
    "                print(f\"Processed: {file_path}\")\n",
    "\n",
    "# Specify the folder path containing the .md files\n",
    "#folder_path = './data/md/test'\n",
    "for collection_name in collection_list:\n",
    "    folder_path = './data/upload/md/'+collection_name\n",
    "    process_img_mds(folder_path)"
   ]
  },
  {
   "cell_type": "markdown",
   "id": "c6e6668b",
   "metadata": {},
   "source": [
    "## 2.1c Summarize the markdown files"
   ]
  },
  {
   "cell_type": "code",
   "execution_count": 4,
   "id": "e929fa71",
   "metadata": {},
   "outputs": [],
   "source": [
    "summarize_collections(collection_list)"
   ]
  },
  {
   "cell_type": "markdown",
   "id": "c6c1a99b",
   "metadata": {},
   "source": [
    "## 2.2 Set up pincone"
   ]
  },
  {
   "cell_type": "code",
   "execution_count": 5,
   "id": "249d8d14",
   "metadata": {},
   "outputs": [
    {
     "data": {
      "text/plain": [
       "langchain_pinecone.vectorstores.PineconeVectorStore"
      ]
     },
     "execution_count": 5,
     "metadata": {},
     "output_type": "execute_result"
    }
   ],
   "source": [
    "pc = Pinecone(api_key=pinecone_api_key)\n",
    "index_name = \"valact-rag\"\n",
    "index = pc.Index(index_name)\n",
    "index.describe_index_stats()\n",
    "vectorstore = PineconeVectorStore(\n",
    "    index = index,\n",
    "    embedding=embeddings_model,\n",
    ")\n",
    "type(vectorstore)"
   ]
  },
  {
   "cell_type": "markdown",
   "id": "ce916cb5",
   "metadata": {},
   "source": [
    "### Tests"
   ]
  },
  {
   "cell_type": "code",
   "execution_count": null,
   "id": "f7872c64",
   "metadata": {},
   "outputs": [],
   "source": [
    "query = \"Explain contractual service margin\"  \n",
    "vectorstore.similarity_search(  \n",
    "    query,  # our search query  \n",
    "    k=1,  # return 3 most relevant docs \n",
    "    namespace=\"IFRS17\", \n",
    ") "
   ]
  },
  {
   "cell_type": "code",
   "execution_count": null,
   "id": "0a8f4ce8",
   "metadata": {},
   "outputs": [],
   "source": [
    "from langchain.chains import RetrievalQA\n",
    "query = \"Explain contractual service margin\"  \n",
    "\n",
    "vectorstore = PineconeVectorStore(\n",
    "    index = index,\n",
    "    embedding=embeddings_model,\n",
    "    namespace=\"IFRS17\",\n",
    ")\n",
    "\n",
    "qa = RetrievalQA.from_chain_type(  \n",
    "    llm=llm,  \n",
    "    chain_type=\"stuff\",  \n",
    "    retriever=vectorstore.as_retriever()  \n",
    ")  \n",
    "qa.invoke(query) "
   ]
  },
  {
   "cell_type": "markdown",
   "id": "7e08bbd1",
   "metadata": {},
   "source": [
    "## 2.3a Loading markdown files to vector database (use Header Text Splitter)"
   ]
  },
  {
   "cell_type": "code",
   "execution_count": 12,
   "id": "71bf3dd7",
   "metadata": {},
   "outputs": [],
   "source": [
    "############################################################################\n",
    "# Run to load markdown files to vector database\n",
    "############################################################################\n",
    "collection_list=[\n",
    "    # \"Cayman\",\n",
    "    # \"AI_BigData\",\n",
    "    # \"ASOP_life\",\n",
    "    \"Bermuda\",\n",
    "    # \"CFT\",\n",
    "    # \"GAAP\", # use this\n",
    "    # \"RiskFinance\",\n",
    "    # \"PBR\",\n",
    "    # \"Asset\",\n",
    "    # \"IFRS17\",\n",
    "    # \"Product\",\n",
    "    # \"SAP\"\n",
    "]\n",
    "\n",
    "for collection_name in collection_list:\n",
    "    folder_path = './data/upload/md/'+collection_name\n",
    "\n",
    "    # Call the function to load and extract text from PDFs in the specified folder\n",
    "    splits = split_mds(\n",
    "        folder_path, \n",
    "        IsSemantic=True,\n",
    "        breakpoint_threshold_type_input=\"standard_deviation\",\n",
    "        breakpoint_threshold_amount_input=2,\n",
    "        embeddings_model=embeddings_model,\n",
    "    )\n",
    "    # BREAKPOINT_DEFAULTS: Dict[BreakpointThresholdType, float] = {\n",
    "    #     \"percentile\": 95,\n",
    "    #     \"standard_deviation\": 3,\n",
    "    #     \"interquartile\": 1.5,\n",
    "    # }\n",
    "\n",
    "    # Create a vector database from the document splits\n",
    "    vectorstore.add_documents(\n",
    "        documents=splits,\n",
    "        namespace=collection_name,\n",
    "    )\n"
   ]
  },
  {
   "cell_type": "markdown",
   "id": "84bf1e7f",
   "metadata": {},
   "source": [
    "## 2.3b Update document_list.json file to be used in the Streamlit Selector\n",
    "You have to move the pdf files under the pdf folder"
   ]
  },
  {
   "cell_type": "code",
   "execution_count": 8,
   "id": "3d973e76",
   "metadata": {},
   "outputs": [],
   "source": [
    "def save_json(data, file_path):\n",
    "    with open(file_path, \"w\") as file:\n",
    "        json.dump(data, file)\n",
    "\n",
    "def scan_directory(base_path):\n",
    "    folders_files = {}\n",
    "    for folder in os.listdir(base_path):\n",
    "        folder_path = os.path.join(base_path, folder)\n",
    "        if os.path.isdir(folder_path):\n",
    "            files = [\"All\"]\n",
    "            for file in os.listdir(folder_path):\n",
    "                # Exclude system files like .DS_Store\n",
    "                if file != \".DS_Store\":\n",
    "                    files.append(file)\n",
    "            files[1:] = sorted(files[1:])\n",
    "            folders_files[folder] = files\n",
    "    return folders_files\n",
    "base_path = \"./data/pdf\"\n",
    "\n",
    "document_list = scan_directory(base_path)\n",
    "\n",
    "save_json(document_list, \"./data/document_list.json\")\n"
   ]
  },
  {
   "cell_type": "markdown",
   "id": "c0889ce5",
   "metadata": {},
   "source": [
    "## 2.3c json file consistency check"
   ]
  },
  {
   "cell_type": "code",
   "execution_count": 10,
   "id": "c1faec62",
   "metadata": {},
   "outputs": [
    {
     "name": "stdout",
     "output_type": "stream",
     "text": [
      "Checking collection: SAP\n",
      "Checking collection: ASOP_life\n",
      "Checking collection: Asset\n",
      "Checking collection: Bermuda\n",
      "Checking collection: AI_BigData\n",
      "Checking collection: CFT\n",
      "Checking collection: Product\n",
      "Checking collection: Cayman\n",
      "Checking collection: RiskFinance\n",
      "Checking collection: IFRS17\n",
      "Checking collection: GAAP\n",
      "Checking collection: PBR\n"
     ]
    }
   ],
   "source": [
    "import json\n",
    "\n",
    "# Read the link.json file\n",
    "with open(\"./data/document_link.json\") as link_file:\n",
    "    link_data = json.load(link_file)\n",
    "\n",
    "# Read the list.json file\n",
    "with open('./data/document_list.json') as list_file:\n",
    "    list_data = json.load(list_file)\n",
    "\n",
    "# Loop through each collection in the list.json file\n",
    "for collection, items in list_data.items():\n",
    "    print(f\"Checking collection: {collection}\")\n",
    "    \n",
    "    # Loop through each item in the collection\n",
    "    for item in items:\n",
    "        # Check if the item exists as a key in the link.json file\n",
    "        if item not in link_data:\n",
    "            print(f\"  Item not found: {item}\")"
   ]
  },
  {
   "cell_type": "markdown",
   "id": "96c125b4",
   "metadata": {},
   "source": [
    "## 2.3d Move MD files under the MD folder"
   ]
  },
  {
   "cell_type": "markdown",
   "id": "dd03b050",
   "metadata": {},
   "source": [
    "## 2.4 Pinecone Status"
   ]
  },
  {
   "cell_type": "code",
   "execution_count": 11,
   "id": "c93a9dc7",
   "metadata": {},
   "outputs": [
    {
     "data": {
      "text/plain": [
       "{'dimension': 3072,\n",
       " 'index_fullness': 0.0,\n",
       " 'namespaces': {'AI_BigData': {'vector_count': 780},\n",
       "                'ASOP_life': {'vector_count': 904},\n",
       "                'Asset': {'vector_count': 408},\n",
       "                'Bermuda': {'vector_count': 1060},\n",
       "                'CFT': {'vector_count': 501},\n",
       "                'Cayman': {'vector_count': 190},\n",
       "                'GAAP': {'vector_count': 831},\n",
       "                'IFRS17': {'vector_count': 161},\n",
       "                'PBR': {'vector_count': 1338},\n",
       "                'Product': {'vector_count': 1463},\n",
       "                'RiskFinance': {'vector_count': 1530},\n",
       "                'SAP': {'vector_count': 267}},\n",
       " 'total_vector_count': 9433}"
      ]
     },
     "execution_count": 11,
     "metadata": {},
     "output_type": "execute_result"
    }
   ],
   "source": [
    "index.describe_index_stats()"
   ]
  },
  {
   "cell_type": "markdown",
   "id": "100d0da6",
   "metadata": {},
   "source": [
    "## 2.5 Pinecone Namespace Deletion"
   ]
  },
  {
   "cell_type": "code",
   "execution_count": null,
   "id": "510d7552",
   "metadata": {},
   "outputs": [],
   "source": [
    "collection_list=[\n",
    "    # \"Cayman\",\n",
    "    # \"AI_BigData\",\n",
    "    # \"ASOP_life\",\n",
    "    # \"Bermuda\",\n",
    "    # \"CFT\",\n",
    "    # \"GAAP\",\n",
    "    # \"RiskFinance\",\n",
    "    # \"PBR\",\n",
    "    # \"VM21\",\n",
    "    # \"VM22\",\n",
    "    # \"Asset\",\n",
    "    # \"IFRS17\",\n",
    "    # \"Product\",\n",
    "]\n",
    "\n",
    "for collection_name in collection_list:\n",
    "    index.delete(delete_all=True, namespace=collection_name)"
   ]
  },
  {
   "cell_type": "markdown",
   "id": "d46105ba",
   "metadata": {},
   "source": [
    "# 3. For test purposes"
   ]
  },
  {
   "cell_type": "markdown",
   "id": "90a4d0e8",
   "metadata": {},
   "source": [
    "## 3.1. Retrieve from the vector store"
   ]
  },
  {
   "cell_type": "code",
   "execution_count": null,
   "id": "9744b63c",
   "metadata": {},
   "outputs": [],
   "source": [
    "## Retrieve and RAG chain\n",
    "# Create a retriever using the vector database as the search source\n",
    "# You may choose a specific document to filter the search\n",
    "retriever = vectorstore.as_retriever(search_type=\"mmr\", \n",
    "                                     search_kwargs={\n",
    "                                        'k': 6, \n",
    "                                        'lambda_mult': 0.5,\n",
    "                                        # 'filter': {'source': '201611-Guidance-Notes-for-Commercial-Insurers-and-Groups-Statutory-Reporting-Regime-30-Nov-2016.pdf'}\n",
    "                                        }\n",
    "                                    ) \n",
    "# Use MMR (Maximum Marginal Relevance) to find a set of documents that are both similar to the input query and diverse among themselves\n",
    "# Increase the number of documents to get, and increase diversity (lambda mult 0.5 being default, 0 being the most diverse, 1 being the least)\n",
    "\n",
    "# Load the RAG (Retrieval-Augmented Generation) prompt\n",
    "qa_system_prompt = \"\"\"You are a helpful assistant to help actuaries with question-answering tasks. \\\n",
    "Use the following pieces of retrieved context to answer the question. \\\n",
    "ASOP or asop means Actuarial Standards of Practice. \\\n",
    "CFT means Cash Flow Testing. AAT means Asset Adequacy Testing. \\\n",
    "BMA means Bermuda Monetary Authority. \\\n",
    "SBA means scenario-based approach. BEL means best estimate liabilities.\\\n",
    "After you answer, provide the sources you used to answer the question. \\\n",
    "If you don't know the answer, just say that you don't know. \\\n",
    "\n",
    "{context}\"\"\"\n",
    "prompt = ChatPromptTemplate.from_messages(\n",
    "    [\n",
    "        (\"system\", qa_system_prompt),\n",
    "        (\"human\", \"{question}\"),\n",
    "    ]\n",
    ")\n",
    "\n",
    "# Define a function to format the documents with their sources and pages\n",
    "def format_docs_with_sources(docs):\n",
    "    formatted_docs = \"\\n\\n\".join(doc.page_content for doc in docs)\n",
    "    #sources_pages = \"\\n\".join(f\"{doc.metadata['source']} (Page {doc.metadata['page'] + 1})\" for doc in docs)\n",
    "    sources_pages = \"\\n\".join(f\"{doc.metadata['source']})\" for doc in docs)\n",
    "    # Added 1 to the page number assuming 'page' starts at 0 and we want to present it in a user-friendly way\n",
    "\n",
    "    return f\"Documents:\\n{formatted_docs}\\n\\nSources and Pages:\\n{sources_pages}\"\n",
    "\n",
    "# Create a RAG chain using the formatted documents as the context\n",
    "rag_chain_from_docs = (\n",
    "    RunnablePassthrough.assign(context=(lambda x: format_docs_with_sources(x[\"context\"])))\n",
    "    | prompt\n",
    "    | llm\n",
    "    | StrOutputParser()\n",
    ")\n",
    "\n",
    "# Create a parallel chain for retrieving and generating answers\n",
    "rag_chain_with_source = RunnableParallel(\n",
    "    {\"context\": retriever, \"question\": RunnablePassthrough()}\n",
    ").assign(answer=rag_chain_from_docs)"
   ]
  },
  {
   "cell_type": "markdown",
   "id": "9243e34a",
   "metadata": {},
   "source": [
    "## 3.3. Generate Q&A Function"
   ]
  },
  {
   "cell_type": "code",
   "execution_count": null,
   "id": "1ceedb0b",
   "metadata": {},
   "outputs": [],
   "source": [
    "def generate_output():\n",
    "    # Prompt the user for a question on ASOP\n",
    "    usr_input = input(\"What is your question on ASOP?: \")\n",
    "\n",
    "    # Invoke the RAG chain with the user input as the question\n",
    "    output = rag_chain_with_source.invoke(usr_input)\n",
    "\n",
    "    # Generate the Markdown output with the question, answer, and context\n",
    "    markdown_output = \"### Question\\n{}\\n\\n### Answer\\n{}\\n\\n### Context\\n\".format(output['question'], output['answer'])\n",
    "\n",
    "    last_page_content = None  # Variable to store the last page content\n",
    "    i = 1 # Source indicator\n",
    "\n",
    "    # Iterate over the context documents to format and include them in the output\n",
    "    for doc in output['context']:\n",
    "        current_page_content = doc.page_content.replace('\\n', '  \\n')  # Get the current page content\n",
    "        \n",
    "        # Check if the current content is different from the last one\n",
    "        if current_page_content != last_page_content:\n",
    "            #markdown_output += \"- **Source {}**: {}, page {}:\\n\\n{}\\n\".format(i, doc.metadata['source'], doc.metadata['page'], current_page_content)\n",
    "            markdown_output += \"- **Source {}**: {}:\\n\\n{}\\n\".format(i, doc.metadata['source'], current_page_content)\n",
    "            i = i + 1\n",
    "        last_page_content = current_page_content  # Update the last page content\n",
    "    \n",
    "    # Display the Markdown output\n",
    "    display(Markdown(markdown_output))"
   ]
  },
  {
   "cell_type": "markdown",
   "id": "9d54daa6",
   "metadata": {},
   "source": [
    "### Example questions related to ASOPs\n",
    "- explain ASOP No. 14\n",
    "- How are expenses relfected in cash flow testing based on ASOP No. 22?\n",
    "- What is catastrophe risk?\n",
    "- When do I update assumptions?\n",
    "- What should I do when I do not have credible data to develop non-economic assumptions?"
   ]
  },
  {
   "cell_type": "code",
   "execution_count": null,
   "id": "36183436",
   "metadata": {},
   "outputs": [],
   "source": [
    "generate_output()"
   ]
  },
  {
   "cell_type": "markdown",
   "id": "628913a4",
   "metadata": {},
   "source": [
    "# 4. Management of the vector database"
   ]
  },
  {
   "cell_type": "code",
   "execution_count": null,
   "id": "0bce4af6",
   "metadata": {},
   "outputs": [],
   "source": [
    "index.describe_index_stats()"
   ]
  },
  {
   "cell_type": "code",
   "execution_count": null,
   "id": "1e514b59",
   "metadata": {},
   "outputs": [],
   "source": [
    "# Delete all documents from the namespace\n",
    "index.delete(delete_all=True, namespace='IFRS17')"
   ]
  },
  {
   "cell_type": "markdown",
   "id": "6a69705c",
   "metadata": {},
   "source": [
    "## 4.1a Remove documents from the vector database"
   ]
  },
  {
   "cell_type": "code",
   "execution_count": 6,
   "id": "7a3835ae",
   "metadata": {},
   "outputs": [
    {
     "name": "stdout",
     "output_type": "stream",
     "text": [
      "20ec6c23-0a7d-45e7-809f-3fcca01defad\n",
      "6e9d662b-cc8e-433a-9bbe-a43a0bd38d0e\n",
      "0b2c4711-87a2-44a1-b754-39d585dc09a6\n",
      "3f8457d6-a728-4379-8fd5-38a1ee5d9c4c\n",
      "21060964-8792-48d5-9c64-447bf09bbeac\n",
      "aa5ce18e-89e9-42d7-9880-b97e7a82cbbd\n",
      "0aa2cf69-4219-43e7-a794-68c9fa84cda9\n",
      "95cf3da9-7599-441f-af66-925f6adef374\n",
      "f6ae815f-222c-4aaf-9caa-29347e0148d2\n",
      "1d191164-f453-4ae8-b55d-faa952368c88\n",
      "1cbc7bf6-7ccb-4a6c-8804-c976d2be56ff\n",
      "ef6c0b3b-9e7d-40a6-8f5d-faecca3c06f7\n",
      "dfd92ff5-998e-4c58-b388-f5e4d7c5617a\n",
      "817c1628-705b-419d-a5de-05b7808872e9\n",
      "bc86d073-4796-4dcf-851d-ac4b2caef7ae\n",
      "c8cebb34-32c8-493f-847e-1fd31f48c026\n",
      "98090085-d004-4b86-9f1d-e72df6b14b3e\n",
      "3b1dc999-9141-4b58-95da-47176e9c45f7\n",
      "51f2fa21-7c1b-464c-9366-6bf49be28266\n",
      "1ab91a94-01b1-4fbd-8ef0-2f706080ed3e\n",
      "87f6ea08-00a7-4bc8-a576-6d7df79c217d\n",
      "7aebabb3-e9e8-4717-88ae-0e331f041e68\n",
      "2a3be094-bcc7-4f96-9974-c55efbae9c15\n",
      "1189d18f-7032-4f26-8fad-0d9e6e9995d6\n",
      "d796dfdf-042b-430c-a5ec-72576d6e6c26\n",
      "4cbca40f-bdde-46b5-bd6e-903ac4caf5fb\n",
      "49bb263c-881f-44e9-8a30-093c9af2e97e\n",
      "968a1b2a-5ee1-4154-a40a-52ddf90be401\n",
      "2390e839-0692-42f6-b86d-d2cfc14d9388\n",
      "9c0df210-1898-444f-a26f-caa5ea602796\n",
      "e1c246fe-e189-4bf9-9a37-a715b359eb3d\n",
      "c34229e2-f594-48eb-9d1c-bd23ece19005\n",
      "878e751b-9c6d-44f1-83c3-e19d30dc945f\n",
      "c15ce5fd-2126-4a15-a1ad-57852939ac6d\n",
      "bb191e13-dba1-40ba-8c1a-a16c2db433df\n",
      "58cd385d-79bf-40ab-810c-f762d33935c8\n",
      "51384f04-ca79-4a5e-99cc-b90c8f11a6f2\n",
      "0fcb9e4a-ab3b-44a6-8719-218320aa548a\n",
      "4b83d899-9ade-4bed-af2b-fb28b32bad00\n",
      "7e16d65c-02e6-472c-bad0-7c11876de585\n",
      "0bd9caab-1d84-47c3-833b-4a8aa3507559\n",
      "76037000-0b46-4368-a4c4-f65aef3c2174\n",
      "b76c9858-5af2-4af5-a40e-5e9ef6361f17\n",
      "b28e99d5-37b8-4692-bb7e-164a6db6fe83\n",
      "ebaaf109-e6d5-44a5-83db-e0b876dce868\n",
      "12132bc7-eb4b-447e-a70a-b9f9333ba6cf\n",
      "00ffbcb1-5d22-45ff-bd4e-c80d21f92fa5\n",
      "5e51d096-b3e7-495c-b47a-74acc794aa84\n",
      "d879b20f-36d0-4407-aeaa-32531ed4b330\n",
      "a51205ba-0507-45f7-8133-4130e73ccec5\n",
      "21a69d40-c81a-4c91-a9e8-7028e86bf417\n",
      "fb085dbb-957d-4b3b-b581-90051fb31163\n",
      "f9e91b23-8a75-4e0d-93b6-780fbe83a362\n",
      "8895d742-4e04-4f97-b93f-0ac6e8566f86\n",
      "1719f413-8b1d-47cb-bc66-adda8fd3c0a3\n",
      "2a002d81-e2b2-45c7-a533-04960917b558\n",
      "2076e53f-c0cc-440a-bb1e-3d1465b2674a\n",
      "e0727985-8463-4ca5-b38e-526dd89d02a0\n",
      "e1da16e9-0d2e-4433-aa83-758331981447\n",
      "14c3be64-ba96-4ef8-9053-a6b5f5148fc8\n",
      "419f4860-24cf-4895-94bb-54dc397441d7\n",
      "e5d3ea10-a4bc-451e-8491-2b1a52119753\n",
      "fa6344f5-069b-4804-aeed-7d32a12a4ce6\n",
      "f9804bf2-8994-4c47-b7c5-8208ae8c7deb\n",
      "c632cc0d-ba25-4b27-8af3-592551f165df\n",
      "26ece7aa-cc0b-4dc1-885f-d7c44b160a1d\n",
      "4f3daaac-d7d7-403d-b0f8-dcaf939e7ebe\n",
      "6a95394a-24f2-4b38-b992-ce016e21992f\n",
      "e2ea0c1d-2f11-4dcd-b251-c9d2c73b09b5\n",
      "d2c5bed9-e32e-48be-90b1-09965489f92a\n",
      "83640237-c3bc-4c18-a9ee-a1711c6599b1\n",
      "fe9b1427-f971-46ff-8268-b1c7b78d9330\n",
      "4037e049-36ed-4b59-8676-7cb103c11b3a\n",
      "7f6dfbee-d139-44d7-b267-065791f0743d\n",
      "8ab969eb-d591-4f7c-859e-850dfe03082b\n",
      "77b61584-b8c7-463d-9f54-048db9b51b48\n",
      "4ddcfbe5-9e75-49d4-b5a7-2d1fca9e3c55\n",
      "e24e7db8-a46c-4ead-bb82-0ebde4fd4c12\n",
      "1a8d89ea-3eeb-40f6-aa43-d1e19877d2bd\n",
      "36251753-e417-4c68-b563-a8c132517698\n",
      "88a0de49-7acb-4eca-990f-c0ca801b0ca5\n",
      "6d8c9b02-9f02-4622-9215-8fc7d830ab5a\n",
      "aa19f8b9-7c4d-40ba-babc-deb6748bc251\n",
      "65773cac-c859-4b61-b4b5-21faadc5f54c\n",
      "4803b96a-84fb-4285-b7f1-ca61c48bed81\n",
      "c0ad5b69-0f22-472f-91f1-cd64923f5b1b\n",
      "bf3c27b6-ec8f-4fda-863d-2948696228f5\n",
      "844cfcf3-5b5f-4f54-8f95-95d8ea4f609a\n",
      "73c5085e-0ba7-4a11-87e6-39ec398af941\n",
      "32d0d207-fa54-49e8-aad1-568b1433abd9\n",
      "36a316f5-2ea4-485e-b326-239150155517\n",
      "2ec155cf-d310-4d1b-a322-717579f76613\n",
      "41b06c70-f925-444b-9741-90e11d160d6a\n",
      "fcdb4df2-a21d-4610-9e4e-6416972b871c\n",
      "c5943609-3bda-4214-a159-cb3c612a8a54\n",
      "fdb9110e-4bcb-482d-95dd-5de365c12e2f\n",
      "d5611085-e047-48e0-90f0-87ebec77276a\n",
      "2745b64e-6298-4702-b18e-03fbae467ca8\n",
      "f69a72f0-87dc-4f16-942a-98f20e90912c\n",
      "5f3add84-a2ba-49df-8508-bd59f948c15d\n",
      "9b266e99-5009-424b-ab11-2082be586cd3\n",
      "cc37bc23-9a83-4429-a4c1-8294aa10d479\n",
      "04648a8b-9da6-4424-905e-6c86fe3528f9\n",
      "6dc37b91-412c-4267-b90e-70b0ccbee217\n",
      "9e3db734-ec8b-40f1-8e87-2b3b85c09169\n",
      "c5da89a3-b737-4f3d-a247-0ce630590ac0\n",
      "d3a623c3-f0f8-4b7a-8b86-4c72fde64ccd\n",
      "b6feaa82-5404-4e88-b11f-f37fdd9b1561\n",
      "0cbee80a-81ec-4984-bb5f-2d6807e04998\n",
      "f63bf6a8-5e82-4395-b082-d5649c238e2d\n",
      "26a3e819-267b-4f3d-8b6d-ed60da436df8\n",
      "93aa0da6-1d57-44d7-a6aa-50f3ed48ede0\n",
      "bebb09ad-7eb3-4db4-8d44-f42185d0b9f9\n",
      "63b2783c-3ce6-445a-8b22-64da50c5e467\n",
      "60c0b5d8-aaae-410b-92a6-d7cc24f679a7\n",
      "9bdd0207-dc8f-4c63-86ce-d86d765314b9\n",
      "91515494-0b0e-407b-8311-caf193ab19f1\n",
      "edd2e3c4-7e1e-49ce-bd23-2c19da1a07c6\n",
      "b5f4ddea-3123-4862-9f2b-3c95ad5089f2\n",
      "176d1689-1ffb-49a7-acce-98acfc54e0f8\n",
      "6d69f8a4-e3e6-44ed-b997-9bf948f231e6\n",
      "26c72ef0-73ae-4742-96e6-eaa3a70a5d1a\n",
      "f06c1f4c-4f6e-476f-95ae-039972cf5b41\n",
      "5a4c8854-be47-41c2-b475-7b98267e98f2\n",
      "4e5ac968-a3a8-46e5-8e6d-a717affdda0c\n",
      "2b4fc387-59d0-4527-910b-8a42880e8ebf\n",
      "050d0a36-18bb-4b39-9b92-69c35cef4a93\n",
      "40dda944-c9f9-4644-b768-65a33cbfa3b8\n",
      "b08c66f8-d7d1-4690-af2b-fd34f72efc99\n",
      "9579eed7-fedd-4b30-87be-c555cc2a86fb\n",
      "88e8eef7-f60d-4b19-aec8-564eed0e23c9\n",
      "5295e650-eb61-47ad-a135-f6a2da780a5d\n",
      "288b16a6-c999-4ab8-b381-5d0bd3ca6b77\n",
      "5b918628-a55a-4e9e-845a-aacdc0010633\n"
     ]
    },
    {
     "data": {
      "text/plain": [
       "{}"
      ]
     },
     "execution_count": 6,
     "metadata": {},
     "output_type": "execute_result"
    }
   ],
   "source": [
    "metadata_filter = {\"source\": \"202307-NAIC-VM-22 Subgroup Draft.pdf\"}\n",
    "namespace_name = 'PBR'\n",
    "\n",
    "# Query the index with the metadata filter\n",
    "results = index.query(\n",
    "    vector=[0.0]*3072, \n",
    "    top_k=10000, \n",
    "    include_metadata=True, \n",
    "    filter=metadata_filter,\n",
    "    namespace=namespace_name,\n",
    ")\n",
    "ids = [result.id for result in results['matches']]\n",
    "for id in ids:\n",
    "    print(id)\n",
    "index.delete(ids=ids, namespace=namespace_name)"
   ]
  },
  {
   "cell_type": "markdown",
   "id": "377cda5f",
   "metadata": {},
   "source": [
    "## 4.1b Rename a namespace"
   ]
  },
  {
   "cell_type": "code",
   "execution_count": null,
   "id": "a8d4c821",
   "metadata": {},
   "outputs": [],
   "source": [
    "metadata_filter = {\"source\": \"202307-NAIC-VM-22 Subgroup Draft.pdf\"}\n",
    "namespace_name = 'VM22'\n",
    "new_namespace_name = 'PBR'\n",
    "\n",
    "# Query the index with the metadata filter\n",
    "results = index.query(\n",
    "    vector=[0.0]*3072, \n",
    "    top_k=10000, \n",
    "    include_metadata=True, \n",
    "    filter=metadata_filter,\n",
    "    namespace=namespace_name,\n",
    ")\n",
    "\n",
    "ids = [result.id for result in results['matches']]\n",
    "fetch_data = index.fetch(ids=ids, namespace=namespace_name)\n",
    "for id in ids:\n",
    "    print(id)\n",
    "    values = fetch_data.vectors[id].values\n",
    "    metadata = fetch_data.vectors[id].metadata\n",
    "    index.upsert(\n",
    "        vectors = [\n",
    "            {\n",
    "                \"id\": id,\n",
    "                \"values\": values,\n",
    "                \"metadata\": metadata,\n",
    "            }\n",
    "        ],\n",
    "        namespace=new_namespace_name\n",
    "    )\n",
    "index.delete(ids=ids, namespace=namespace_name)"
   ]
  },
  {
   "cell_type": "markdown",
   "id": "27f71297",
   "metadata": {},
   "source": [
    "## 4.1c Update part of info - rename metadata"
   ]
  },
  {
   "cell_type": "code",
   "execution_count": null,
   "id": "d0a2d8a4",
   "metadata": {},
   "outputs": [],
   "source": [
    "old_name = \"2023-12-20-11-08-13-2023-Year-End-Long-Term-Instructions-Handbook.pdf\"\n",
    "new_name = \"2023-BMA-2023YE-Long-Term-Instructions-Handbook.pdf\"\n",
    "\n",
    "metadata_filter = {\"source\": old_name}\n",
    "namespace_name = 'Bermuda'\n",
    "\n",
    "# Query the index with the metadata filter\n",
    "results = index.query(\n",
    "    vector=[0.0]*3072, \n",
    "    top_k=10000, \n",
    "    include_metadata=True, \n",
    "    filter=metadata_filter,\n",
    "    namespace=namespace_name,\n",
    ")\n",
    "\n",
    "ids = [result.id for result in results['matches']]\n",
    "fetch_data = index.fetch(ids=ids, namespace=namespace_name)\n",
    "for id in ids:\n",
    "    print(id)\n",
    "    index.update(\n",
    "        id=id, \n",
    "        set_metadata={\"source\": new_name}, \n",
    "        namespace=namespace_name\n",
    "    )        "
   ]
  },
  {
   "cell_type": "code",
   "execution_count": null,
   "id": "4d462724",
   "metadata": {},
   "outputs": [],
   "source": [
    "#index.fetch(ids=[ids[0]], namespace=namespace_name)"
   ]
  },
  {
   "cell_type": "code",
   "execution_count": null,
   "id": "bc846031",
   "metadata": {},
   "outputs": [],
   "source": [
    "# json file summary update\n",
    "with open('./data/summary.json', 'r') as f:\n",
    "    data = json.load(f)\n",
    "# Update the existing data with the new key-value pair\n",
    "data[new_name] = data.pop(old_name)\n",
    "\n",
    "with open('./data/summary.json', 'w') as f:\n",
    "    json.dump(data, f, indent=4)"
   ]
  },
  {
   "cell_type": "code",
   "execution_count": null,
   "id": "002869e6",
   "metadata": {},
   "outputs": [],
   "source": [
    "\n",
    "# md and pdf file update\n",
    "# Construct the paths to the folders\n",
    "md_folder = os.path.join(\"data/md\", namespace_name)\n",
    "pdf_folder = os.path.join(\"data/pdf\", namespace_name)\n",
    "\n",
    "# Construct the old and new file paths\n",
    "old_file_name_md = old_name.replace(\".pdf\", \".md\")\n",
    "new_file_name_md = new_name.replace(\".pdf\", \".md\")\n",
    "old_md_path = os.path.join(md_folder, old_file_name_md)\n",
    "new_md_path = os.path.join(md_folder, new_file_name_md)\n",
    "\n",
    "# Check if the old MD file exists before renaming\n",
    "if os.path.exists(old_md_path):\n",
    "    # Rename the MD file\n",
    "    os.rename(old_md_path, new_md_path)\n",
    "else:\n",
    "    print(f\"Skipping MD file rename: {old_md_path} does not exist.\")\n",
    "\n",
    "# Construct the old and new file paths\n",
    "old_pdf_path = os.path.join(pdf_folder, old_name)\n",
    "new_pdf_path = os.path.join(pdf_folder, new_name)\n",
    "\n",
    "# Rename the file\n",
    "os.rename(old_pdf_path, new_pdf_path)"
   ]
  },
  {
   "cell_type": "markdown",
   "id": "354529f9",
   "metadata": {},
   "source": [
    "## 4.2 Print IDs for a document"
   ]
  },
  {
   "cell_type": "code",
   "execution_count": 5,
   "id": "7ca7b9c1",
   "metadata": {},
   "outputs": [
    {
     "name": "stdout",
     "output_type": "stream",
     "text": [
      "20ec6c23-0a7d-45e7-809f-3fcca01defad\n",
      "6e9d662b-cc8e-433a-9bbe-a43a0bd38d0e\n",
      "0b2c4711-87a2-44a1-b754-39d585dc09a6\n",
      "3f8457d6-a728-4379-8fd5-38a1ee5d9c4c\n",
      "21060964-8792-48d5-9c64-447bf09bbeac\n",
      "aa5ce18e-89e9-42d7-9880-b97e7a82cbbd\n",
      "0aa2cf69-4219-43e7-a794-68c9fa84cda9\n",
      "95cf3da9-7599-441f-af66-925f6adef374\n",
      "f6ae815f-222c-4aaf-9caa-29347e0148d2\n",
      "1d191164-f453-4ae8-b55d-faa952368c88\n",
      "1cbc7bf6-7ccb-4a6c-8804-c976d2be56ff\n",
      "ef6c0b3b-9e7d-40a6-8f5d-faecca3c06f7\n",
      "dfd92ff5-998e-4c58-b388-f5e4d7c5617a\n",
      "817c1628-705b-419d-a5de-05b7808872e9\n",
      "bc86d073-4796-4dcf-851d-ac4b2caef7ae\n",
      "c8cebb34-32c8-493f-847e-1fd31f48c026\n",
      "98090085-d004-4b86-9f1d-e72df6b14b3e\n",
      "3b1dc999-9141-4b58-95da-47176e9c45f7\n",
      "51f2fa21-7c1b-464c-9366-6bf49be28266\n",
      "1ab91a94-01b1-4fbd-8ef0-2f706080ed3e\n",
      "87f6ea08-00a7-4bc8-a576-6d7df79c217d\n",
      "7aebabb3-e9e8-4717-88ae-0e331f041e68\n",
      "2a3be094-bcc7-4f96-9974-c55efbae9c15\n",
      "1189d18f-7032-4f26-8fad-0d9e6e9995d6\n",
      "d796dfdf-042b-430c-a5ec-72576d6e6c26\n",
      "4cbca40f-bdde-46b5-bd6e-903ac4caf5fb\n",
      "49bb263c-881f-44e9-8a30-093c9af2e97e\n",
      "968a1b2a-5ee1-4154-a40a-52ddf90be401\n",
      "2390e839-0692-42f6-b86d-d2cfc14d9388\n",
      "9c0df210-1898-444f-a26f-caa5ea602796\n",
      "e1c246fe-e189-4bf9-9a37-a715b359eb3d\n",
      "c34229e2-f594-48eb-9d1c-bd23ece19005\n",
      "878e751b-9c6d-44f1-83c3-e19d30dc945f\n",
      "c15ce5fd-2126-4a15-a1ad-57852939ac6d\n",
      "bb191e13-dba1-40ba-8c1a-a16c2db433df\n",
      "58cd385d-79bf-40ab-810c-f762d33935c8\n",
      "51384f04-ca79-4a5e-99cc-b90c8f11a6f2\n",
      "0fcb9e4a-ab3b-44a6-8719-218320aa548a\n",
      "4b83d899-9ade-4bed-af2b-fb28b32bad00\n",
      "7e16d65c-02e6-472c-bad0-7c11876de585\n",
      "0bd9caab-1d84-47c3-833b-4a8aa3507559\n",
      "76037000-0b46-4368-a4c4-f65aef3c2174\n",
      "b76c9858-5af2-4af5-a40e-5e9ef6361f17\n",
      "b28e99d5-37b8-4692-bb7e-164a6db6fe83\n",
      "ebaaf109-e6d5-44a5-83db-e0b876dce868\n",
      "12132bc7-eb4b-447e-a70a-b9f9333ba6cf\n",
      "00ffbcb1-5d22-45ff-bd4e-c80d21f92fa5\n",
      "5e51d096-b3e7-495c-b47a-74acc794aa84\n",
      "d879b20f-36d0-4407-aeaa-32531ed4b330\n",
      "a51205ba-0507-45f7-8133-4130e73ccec5\n",
      "21a69d40-c81a-4c91-a9e8-7028e86bf417\n",
      "fb085dbb-957d-4b3b-b581-90051fb31163\n",
      "f9e91b23-8a75-4e0d-93b6-780fbe83a362\n",
      "8895d742-4e04-4f97-b93f-0ac6e8566f86\n",
      "1719f413-8b1d-47cb-bc66-adda8fd3c0a3\n",
      "2a002d81-e2b2-45c7-a533-04960917b558\n",
      "2076e53f-c0cc-440a-bb1e-3d1465b2674a\n",
      "e0727985-8463-4ca5-b38e-526dd89d02a0\n",
      "e1da16e9-0d2e-4433-aa83-758331981447\n",
      "14c3be64-ba96-4ef8-9053-a6b5f5148fc8\n",
      "419f4860-24cf-4895-94bb-54dc397441d7\n",
      "e5d3ea10-a4bc-451e-8491-2b1a52119753\n",
      "fa6344f5-069b-4804-aeed-7d32a12a4ce6\n",
      "f9804bf2-8994-4c47-b7c5-8208ae8c7deb\n",
      "c632cc0d-ba25-4b27-8af3-592551f165df\n",
      "26ece7aa-cc0b-4dc1-885f-d7c44b160a1d\n",
      "4f3daaac-d7d7-403d-b0f8-dcaf939e7ebe\n",
      "6a95394a-24f2-4b38-b992-ce016e21992f\n",
      "e2ea0c1d-2f11-4dcd-b251-c9d2c73b09b5\n",
      "d2c5bed9-e32e-48be-90b1-09965489f92a\n",
      "83640237-c3bc-4c18-a9ee-a1711c6599b1\n",
      "fe9b1427-f971-46ff-8268-b1c7b78d9330\n",
      "4037e049-36ed-4b59-8676-7cb103c11b3a\n",
      "7f6dfbee-d139-44d7-b267-065791f0743d\n",
      "8ab969eb-d591-4f7c-859e-850dfe03082b\n",
      "77b61584-b8c7-463d-9f54-048db9b51b48\n",
      "4ddcfbe5-9e75-49d4-b5a7-2d1fca9e3c55\n",
      "e24e7db8-a46c-4ead-bb82-0ebde4fd4c12\n",
      "1a8d89ea-3eeb-40f6-aa43-d1e19877d2bd\n",
      "36251753-e417-4c68-b563-a8c132517698\n",
      "88a0de49-7acb-4eca-990f-c0ca801b0ca5\n",
      "6d8c9b02-9f02-4622-9215-8fc7d830ab5a\n",
      "aa19f8b9-7c4d-40ba-babc-deb6748bc251\n",
      "65773cac-c859-4b61-b4b5-21faadc5f54c\n",
      "4803b96a-84fb-4285-b7f1-ca61c48bed81\n",
      "c0ad5b69-0f22-472f-91f1-cd64923f5b1b\n",
      "bf3c27b6-ec8f-4fda-863d-2948696228f5\n",
      "844cfcf3-5b5f-4f54-8f95-95d8ea4f609a\n",
      "73c5085e-0ba7-4a11-87e6-39ec398af941\n",
      "32d0d207-fa54-49e8-aad1-568b1433abd9\n",
      "36a316f5-2ea4-485e-b326-239150155517\n",
      "2ec155cf-d310-4d1b-a322-717579f76613\n",
      "41b06c70-f925-444b-9741-90e11d160d6a\n",
      "fcdb4df2-a21d-4610-9e4e-6416972b871c\n",
      "c5943609-3bda-4214-a159-cb3c612a8a54\n",
      "fdb9110e-4bcb-482d-95dd-5de365c12e2f\n",
      "d5611085-e047-48e0-90f0-87ebec77276a\n",
      "2745b64e-6298-4702-b18e-03fbae467ca8\n",
      "f69a72f0-87dc-4f16-942a-98f20e90912c\n",
      "5f3add84-a2ba-49df-8508-bd59f948c15d\n",
      "9b266e99-5009-424b-ab11-2082be586cd3\n",
      "cc37bc23-9a83-4429-a4c1-8294aa10d479\n",
      "04648a8b-9da6-4424-905e-6c86fe3528f9\n",
      "6dc37b91-412c-4267-b90e-70b0ccbee217\n",
      "9e3db734-ec8b-40f1-8e87-2b3b85c09169\n",
      "c5da89a3-b737-4f3d-a247-0ce630590ac0\n",
      "d3a623c3-f0f8-4b7a-8b86-4c72fde64ccd\n",
      "b6feaa82-5404-4e88-b11f-f37fdd9b1561\n",
      "0cbee80a-81ec-4984-bb5f-2d6807e04998\n",
      "f63bf6a8-5e82-4395-b082-d5649c238e2d\n",
      "26a3e819-267b-4f3d-8b6d-ed60da436df8\n",
      "93aa0da6-1d57-44d7-a6aa-50f3ed48ede0\n",
      "bebb09ad-7eb3-4db4-8d44-f42185d0b9f9\n",
      "63b2783c-3ce6-445a-8b22-64da50c5e467\n",
      "60c0b5d8-aaae-410b-92a6-d7cc24f679a7\n",
      "9bdd0207-dc8f-4c63-86ce-d86d765314b9\n",
      "91515494-0b0e-407b-8311-caf193ab19f1\n",
      "edd2e3c4-7e1e-49ce-bd23-2c19da1a07c6\n",
      "b5f4ddea-3123-4862-9f2b-3c95ad5089f2\n",
      "176d1689-1ffb-49a7-acce-98acfc54e0f8\n",
      "6d69f8a4-e3e6-44ed-b997-9bf948f231e6\n",
      "26c72ef0-73ae-4742-96e6-eaa3a70a5d1a\n",
      "f06c1f4c-4f6e-476f-95ae-039972cf5b41\n",
      "5a4c8854-be47-41c2-b475-7b98267e98f2\n",
      "4e5ac968-a3a8-46e5-8e6d-a717affdda0c\n",
      "2b4fc387-59d0-4527-910b-8a42880e8ebf\n",
      "050d0a36-18bb-4b39-9b92-69c35cef4a93\n",
      "40dda944-c9f9-4644-b768-65a33cbfa3b8\n",
      "b08c66f8-d7d1-4690-af2b-fd34f72efc99\n",
      "9579eed7-fedd-4b30-87be-c555cc2a86fb\n",
      "88e8eef7-f60d-4b19-aec8-564eed0e23c9\n",
      "5295e650-eb61-47ad-a135-f6a2da780a5d\n",
      "288b16a6-c999-4ab8-b381-5d0bd3ca6b77\n",
      "5b918628-a55a-4e9e-845a-aacdc0010633\n"
     ]
    }
   ],
   "source": [
    "metadata_filter = {\"source\": \"202307-NAIC-VM-22 Subgroup Draft.pdf\"}\n",
    "namespace_name = 'PBR'\n",
    "\n",
    "# Query the index with the metadata filter\n",
    "results = index.query(\n",
    "    vector=[0.0]*3072, \n",
    "    top_k=10000, \n",
    "    include_metadata=True, \n",
    "    filter=metadata_filter,\n",
    "    namespace=namespace_name,\n",
    ")\n",
    "\n",
    "ids = [result.id for result in results['matches']]\n",
    "for id in ids:\n",
    "    print(id)"
   ]
  },
  {
   "cell_type": "markdown",
   "id": "74103e1e",
   "metadata": {},
   "source": [
    "## 4.3 Get file names from a namespace"
   ]
  },
  {
   "cell_type": "code",
   "execution_count": 7,
   "id": "3369bdcd",
   "metadata": {},
   "outputs": [
    {
     "name": "stdout",
     "output_type": "stream",
     "text": [
      "Distinct sources: ['2024-NAIC-GOES-field-test-instructions.pdf', '202401 VM-20.pdf', '2022-AAA-PBR-Reflecting_COVID-19_Life_Mortality.pdf', '2020-VM20_practice_note.pdf', '2016-AAA-PBR-ModelGovernanceChecklist.pdf', '2019-AAA-PBR_Assumptions_Resource_Manual.pdf', '2024-NAIC-VM22 Field Test Specs.pdf', '2022-AAA-VM21-VA_Practice_note.pdf', '2017-AAA-Model_Governance_Practice_Note.pdf', '2008-AAA-credibility_practice_note.pdf', '202401 VM-31.pdf', '202401 VM-21 pbr_data_valuation_manual_future_edition.pdf', '202401 VM-50-51.pdf', '2023-SOA_Governance-PBR.pdf', '2019-AAA-PBA_Projections_Practice_Note.pdf', '2019-AAA-PBRchecklist.pdf', '202401 VM-G.pdf']\n"
     ]
    }
   ],
   "source": [
    "namespace_name = 'PBR'\n",
    "response = index.query(\n",
    "    vector=[0.0]*3072,\n",
    "    top_k=10000,\n",
    "    include_metadata=True,\n",
    "    namespace=namespace_name,\n",
    ")\n",
    "\n",
    "# Extract the distinct \"source\" names from the response\n",
    "sources = [result[\"metadata\"][\"source\"] for result in response[\"matches\"]]\n",
    "\n",
    "distinct_sources = list(set(sources))\n",
    "print(\"Distinct sources:\", distinct_sources)"
   ]
  },
  {
   "cell_type": "markdown",
   "id": "1f60081f",
   "metadata": {},
   "source": [
    "# 5. Tests - to remove"
   ]
  },
  {
   "cell_type": "code",
   "execution_count": null,
   "id": "6bd988ae",
   "metadata": {},
   "outputs": [],
   "source": [
    "import matplotlib.pyplot as plt\n",
    "\n",
    "# Create a list to store the text lengths for each split\n",
    "text_lengths = []\n",
    "split_lentgh = len(splits)\n",
    "print(split_lentgh)\n",
    "for i, doc in enumerate(splits):\n",
    "    text_length = len(doc.page_content)\n",
    "    text_lengths.append(text_length)\n",
    "    if(text_length>40960):\n",
    "        print(doc.metadata['source'])\n",
    "\n",
    "# Create a histogram of text lengths\n",
    "plt.figure(figsize=(10, 6))\n",
    "plt.hist(text_lengths, bins=20, edgecolor='black')\n",
    "plt.xlabel('Text Length (bytes)')\n",
    "plt.ylabel('Frequency')\n",
    "plt.title('Histogram of Text Lengths')\n",
    "plt.grid(True)\n",
    "plt.show()"
   ]
  },
  {
   "cell_type": "code",
   "execution_count": null,
   "id": "875b217f",
   "metadata": {},
   "outputs": [],
   "source": [
    "splits[11]"
   ]
  },
  {
   "cell_type": "code",
   "execution_count": null,
   "id": "9bd68491",
   "metadata": {},
   "outputs": [],
   "source": [
    "md_file = \"./data/md/GAAP/2005-AAA-DIGB36_PracticNote.md\"\n",
    "\n",
    "headers_to_split_on = [\n",
    "    (\"#\", \"Header 1\"),\n",
    "    (\"##\", \"Header 2\"),\n",
    "    (\"###\", \"Header 3\"),\n",
    "]\n",
    "markdown_splitter = MarkdownHeaderTextSplitter(\n",
    "    headers_to_split_on=headers_to_split_on, \n",
    "    strip_headers=False,\n",
    ")\n",
    "loader = TextLoader(md_file)\n",
    "loaded_docs = loader.load()\n",
    "# MD splits\n",
    "md_header_splits = markdown_splitter.split_text(loaded_docs[0].page_content)\n",
    "len(md_header_splits)\n"
   ]
  },
  {
   "cell_type": "markdown",
   "id": "73f5ad02",
   "metadata": {},
   "source": []
  }
 ],
 "metadata": {
  "kernelspec": {
   "display_name": "ValAct_RAG",
   "language": "python",
   "name": "python3"
  },
  "language_info": {
   "codemirror_mode": {
    "name": "ipython",
    "version": 3
   },
   "file_extension": ".py",
   "mimetype": "text/x-python",
   "name": "python",
   "nbconvert_exporter": "python",
   "pygments_lexer": "ipython3",
   "version": "3.12.2"
  }
 },
 "nbformat": 4,
 "nbformat_minor": 5
}
