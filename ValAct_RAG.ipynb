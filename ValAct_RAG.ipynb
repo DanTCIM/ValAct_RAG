{
 "cells": [
  {
   "cell_type": "markdown",
   "id": "57226901",
   "metadata": {},
   "source": [
    "# Converting the PDF files into vector database  "
   ]
  },
  {
   "cell_type": "markdown",
   "id": "7f7c8d88",
   "metadata": {},
   "source": [
    "# 1. Initial setup\n",
    "## 1.1. Imports\n",
    "This setup includes loading environment variables from a `.env` file, setting the required environment variables, and importing the necessary modules for further processing. It ensures that the code has access to the required APIs and functions for the subsequent tasks."
   ]
  },
  {
   "cell_type": "code",
   "execution_count": 1,
   "id": "06fc759e",
   "metadata": {},
   "outputs": [],
   "source": [
    "# Initial imports\n",
    "from dotenv import load_dotenv\n",
    "import glob\n",
    "import os\n",
    "from IPython.display import display, Markdown\n",
    "import chromadb\n",
    "import json\n",
    "\n",
    "# Load the variables from .env file and set the API key (or user may manually set the API key)\n",
    "load_dotenv()  \n",
    "\n",
    "os.environ[\"OPENAI_API_KEY\"] = os.getenv('OPENAI_API_KEY')\n",
    "os.environ[\"ANTHROPIC_API_KEY\"] = os.getenv('ANTHROPIC_API_KEY')\n",
    "os.environ[\"MATHPIX_API_ID\"] = os.getenv('MATHPIX_API_KEY')\n",
    "#openai.api_key = os.getenv('OPENAI_API_KEY')\n",
    "\n",
    "# Langchain framework\n",
    "from langchain import hub\n",
    "from langchain_community.vectorstores import Chroma\n",
    "from langchain_core.output_parsers import StrOutputParser\n",
    "from langchain_core.runnables import RunnablePassthrough\n",
    "from langchain_core.runnables import RunnableParallel # for RAG with source\n",
    "from langchain_core.prompts import ChatPromptTemplate\n",
    "from langchain_openai import ChatOpenAI, OpenAIEmbeddings\n",
    "from langchain_anthropic import ChatAnthropic\n",
    "from langchain_experimental.text_splitter import SemanticChunker\n",
    "from langchain.text_splitter import RecursiveCharacterTextSplitter\n",
    "\n",
    "## The following loaders are used for options\n",
    "from langchain_community.document_loaders import UnstructuredMarkdownLoader\n",
    "from langchain_community.document_loaders import PyPDFium2Loader\n",
    "from langchain_community.document_loaders import PyMuPDFLoader\n",
    "from langchain_community.document_loaders import TextLoader\n",
    "from langchain_community.document_loaders import UnstructuredFileLoader\n",
    "from langchain_community.document_loaders import MathpixPDFLoader\n",
    "from langchain_community.document_loaders import PDFMinerLoader\n",
    "from langchain.document_loaders import PyPDFLoader"
   ]
  },
  {
   "cell_type": "markdown",
   "id": "84652248",
   "metadata": {},
   "source": [
    "## 1.2. Initial variable setup"
   ]
  },
  {
   "cell_type": "code",
   "execution_count": 2,
   "id": "35630ca8-a707-4445-b8a2-661fe3312d8b",
   "metadata": {},
   "outputs": [],
   "source": [
    "## Initial variable setup\n",
    "embeddings_model = OpenAIEmbeddings(model=\"text-embedding-3-large\")\n",
    "db_directory = \"./data/chroma_semantic\"\n",
    "USE_Anthropic = True\n",
    "\n",
    "if USE_Anthropic:\n",
    "    llm = ChatAnthropic(model_name=\"claude-3-sonnet-20240229\", temperature=0)\n",
    "else:\n",
    "    llm = ChatOpenAI(model_name=\"gpt-3.5-turbo\", temperature=0) # context window size 16k for GPT 3.5 Turbo\n",
    "\n",
    "collection_list=[\n",
    "    \"ASOP_life\",\n",
    "    \"Bermuda\",\n",
    "    \"CFT\",\n",
    "    \"PBR\",\n",
    "    \"VM21\",\n",
    "    \"VM22\",\n",
    "    \"Asset\",\n",
    "    \"IFRS17\"\n",
    "]\n",
    "#collection_list = [\"PBR\"] # for testing"
   ]
  },
  {
   "cell_type": "markdown",
   "id": "b04673e4",
   "metadata": {},
   "source": [
    "# 2. Load PDF files and convert to a vector DB\n",
    "## 2.1. Define functions"
   ]
  },
  {
   "cell_type": "code",
   "execution_count": 3,
   "id": "3c3b91d1",
   "metadata": {},
   "outputs": [],
   "source": [
    "# Define a function to load and extract text from PDFs in a folder\n",
    "def get_file_name(source_path):\n",
    "    return source_path.split('/')[-1]\n",
    "\n",
    "def load_pdfs_from_folder(folder_path, loader_option):\n",
    "    # Get a list of PDF files in the specified folder\n",
    "    pdf_files = glob.glob(f\"{folder_path}/*.pdf\")\n",
    "    docs = []\n",
    "    for pdf_file in pdf_files:\n",
    "        file_name = get_file_name(pdf_file)\n",
    "        \n",
    "        if loader_option == 1:\n",
    "            # Load the PDF file using the PyPDFLoader\n",
    "            loader = PyPDFLoader(pdf_file)\n",
    "        elif loader_option == 2:\n",
    "            # PyPDFium2Loader is known to be faster than PyPDFLoader\n",
    "            loader = PyPDFium2Loader(pdf_file)\n",
    "        elif loader_option == 3:\n",
    "            # PyMuPDFLoader is known to be general purpose, rich metadata\n",
    "            loader = PyMuPDFLoader(pdf_file)\n",
    "        elif loader_option == 4:\n",
    "            # Allows automated concatenate pages\n",
    "            loader = PDFMinerLoader(pdf_file, concatenate_pages=True)\n",
    "        \n",
    "        loaded_docs = loader.load()\n",
    "        \n",
    "        for doc in loaded_docs:\n",
    "            doc.metadata['source'] = file_name\n",
    "        \n",
    "        docs.extend(loaded_docs)\n",
    "    return docs\n",
    "\n",
    "def pdf_to_md(folder_path, download_path, loader_option):\n",
    "    # Get a list of PDF files in the specified folder\n",
    "    pdf_files = glob.glob(f\"{folder_path}/*.pdf\")\n",
    "    for pdf_file in pdf_files:\n",
    "        file_name = get_file_name(pdf_file)\n",
    "        base_name = file_name.replace('.pdf', '')\n",
    "        \n",
    "        if loader_option == 1:\n",
    "            # Load the PDF file using the PyPDFLoader\n",
    "            loader = PyPDFLoader(pdf_file)\n",
    "        elif loader_option == 2:\n",
    "            # PyPDFium2Loader is known to be faster than PyPDFLoader\n",
    "            loader = PyPDFium2Loader(pdf_file)\n",
    "        elif loader_option == 3:\n",
    "            # PyMuPDFLoader is known to be general purpose, rich metadata\n",
    "            loader = PyMuPDFLoader(pdf_file)\n",
    "        elif loader_option == 4:\n",
    "            # Allows automated concatenate pages\n",
    "            loader = PDFMinerLoader(pdf_file, concatenate_pages=True)\n",
    "        elif loader_option == 5:\n",
    "            # Use Mathpix OCR to load formula, tables\n",
    "            # may be slower, but higher quality than all above\n",
    "            # Require Mathpix API ID - 3 cents per pdf page\n",
    "            loader = MathpixPDFLoader(pdf_file)\n",
    "        \n",
    "        loaded_docs = loader.load()\n",
    "        \n",
    "        for i, doc in enumerate(loaded_docs):\n",
    "            doc.metadata['source'] = file_name\n",
    "            if loader_option > 3:\n",
    "                md_file_name = f\"{download_path}/{base_name}.md\"\n",
    "            else:\n",
    "                md_file_name = f\"{download_path}/{base_name}{i+1:03d}.md\"\n",
    "            with open(md_file_name, 'w', encoding='utf-8') as md_file:\n",
    "                md_file.write(doc.page_content)\n",
    "\n",
    "def load_mds_from_folder(folder_path):\n",
    "    # Get a list of md files in the specified folder\n",
    "    md_files = glob.glob(f\"{folder_path}/*.md\")\n",
    "    docs = []\n",
    "    for md_file in md_files:\n",
    "        file_name = get_file_name(md_file)\n",
    "        base_name = file_name.replace('.md', '')\n",
    "        pdf_file_name = f\"{base_name}.pdf\"\n",
    "        \n",
    "        loader = UnstructuredMarkdownLoader(md_file)\n",
    "        loaded_docs = loader.load()\n",
    "        \n",
    "        for doc in loaded_docs:\n",
    "            doc.metadata['source'] = pdf_file_name\n",
    "        \n",
    "        docs.extend(loaded_docs)\n",
    "    return docs\n"
   ]
  },
  {
   "cell_type": "markdown",
   "id": "be7ad53a",
   "metadata": {},
   "source": [
    "## 2.2. Convert PDFs to markdown files and then convert to vector database"
   ]
  },
  {
   "cell_type": "code",
   "execution_count": 4,
   "id": "fb282c6c",
   "metadata": {},
   "outputs": [
    {
     "name": "stdout",
     "output_type": "stream",
     "text": [
      "Status: loaded, waiting for processing to complete\n",
      "Status: loaded, waiting for processing to complete\n",
      "Status: loaded, waiting for processing to complete\n",
      "Status: loaded, waiting for processing to complete\n",
      "Status: loaded, waiting for processing to complete\n",
      "Status: split, waiting for processing to complete\n",
      "Status: loaded, waiting for processing to complete\n",
      "Status: split, waiting for processing to complete\n",
      "Status: loaded, waiting for processing to complete\n",
      "Status: split, waiting for processing to complete\n",
      "Status: loaded, waiting for processing to complete\n",
      "Status: loaded, waiting for processing to complete\n"
     ]
    }
   ],
   "source": [
    "############################################################################\n",
    "# Run only to convert pdf to markdown files\n",
    "############################################################################\n",
    "\n",
    "collection_list = [\"Cayman\"]\n",
    "for collection_name in collection_list:\n",
    "    # Put new files in the upload subfolder\n",
    "    folder_path = './data/upload/pdf/'+collection_name\n",
    "    download_path = './data/upload/md/'+collection_name\n",
    "    os.makedirs(download_path, exist_ok=True)\n",
    "\n",
    "    # Use loader option 5 to use Mathpix OCR to load formula, tables\n",
    "    pdf_to_md(folder_path, download_path, loader_option = 5)"
   ]
  },
  {
   "cell_type": "code",
   "execution_count": 5,
   "id": "bd36e5b4",
   "metadata": {},
   "outputs": [],
   "source": [
    "############################################################################\n",
    "# Run to load markdown files to vector database\n",
    "############################################################################\n",
    "collection_list=[\n",
    "    \"Cayman\",\n",
    "    #\"AI_BigData\",\n",
    "    #\"ASOP_life\",\n",
    "    # \"Bermuda\",\n",
    "    #\"CFT\",\n",
    "    # \"PBR\",\n",
    "    # \"VM21\",\n",
    "    # \"VM22\",\n",
    "    # \"Asset\",\n",
    "    # \"IFRS17\",\n",
    "]\n",
    "\n",
    "for collection_name in collection_list:\n",
    "    # Put new files in the upload subfolder\n",
    "    folder_path = './data/upload/md/'+collection_name\n",
    "\n",
    "    # Call the function to load and extract text from PDFs in the specified folder\n",
    "    docs = load_mds_from_folder(folder_path)\n",
    "    \n",
    "    # Create a text splitter object with specified parameters\n",
    "    # text_splitter = RecursiveCharacterTextSplitter(\n",
    "    #     chunk_size=1000, # 1000 splits a page into roughly 3 chunks\n",
    "    #     chunk_overlap=200,\n",
    "    #     length_function=len,)\n",
    "\n",
    "    # Use semantic chunker to increase meaningfulness of the chunks\n",
    "    text_splitter = SemanticChunker(embeddings_model)\n",
    "\n",
    "    # Split the documents into chunks using the text splitter\n",
    "    splits = text_splitter.split_documents(docs)\n",
    "\n",
    "    # Create a Chroma vector database from the document splits\n",
    "    Chroma.from_documents(\n",
    "        documents=splits, \n",
    "        embedding=embeddings_model, \n",
    "        persist_directory=db_directory,\n",
    "        collection_name=collection_name,\n",
    "    )"
   ]
  },
  {
   "cell_type": "markdown",
   "id": "a41b27f5",
   "metadata": {},
   "source": [
    "## 2.3. (NOT USED) Convert PDFs to vector database directly"
   ]
  },
  {
   "cell_type": "code",
   "execution_count": null,
   "id": "b938f14f",
   "metadata": {},
   "outputs": [],
   "source": [
    "############################################################################\n",
    "# Run to load pdf files to vector database\n",
    "############################################################################\n",
    "\n",
    "for collection_name in collection_list:\n",
    "    # Put new files in the upload subfolder\n",
    "    folder_path = './data/upload/pdf/'+collection_name\n",
    "\n",
    "    # Call the function to load and extract text from PDFs in the specified folder\n",
    "    docs = load_pdfs_from_folder(folder_path, loader_option = 1)\n",
    "    \n",
    "    # Create a text splitter object with specified parameters\n",
    "    # text_splitter = RecursiveCharacterTextSplitter(\n",
    "    #     chunk_size=1000, # 1000 splits a page into roughly 3 chunks\n",
    "    #     chunk_overlap=200,\n",
    "    #     length_function=len,)\n",
    "\n",
    "    # Use semantic chunker to increase meaningfulness of the chunks\n",
    "    text_splitter = SemanticChunker(embeddings_model)\n",
    "\n",
    "    # Split the documents into chunks using the text splitter\n",
    "    splits = text_splitter.split_documents(docs)\n",
    "\n",
    "    # Create a Chroma vector database from the document splits\n",
    "    Chroma.from_documents(\n",
    "        documents=splits, \n",
    "        embedding=embeddings_model, \n",
    "        persist_directory=db_directory,\n",
    "        collection_name=collection_name,\n",
    "    )"
   ]
  },
  {
   "cell_type": "markdown",
   "id": "d46105ba",
   "metadata": {},
   "source": [
    "# 3. For test purposes\n",
    "## 3.1. Define vector store from vector database "
   ]
  },
  {
   "cell_type": "code",
   "execution_count": null,
   "id": "e9abd0f7",
   "metadata": {},
   "outputs": [],
   "source": [
    "## a user may choose different collection name from the list\n",
    "# [\"ASOP_life\", \"Bermuda\", \"CFT\", \"VM21\", \"VM22\", \"Asset\", \"IFRS17\"]\n",
    "collection_name = collection_list[0] \n",
    "\n",
    "# Get a Chroma vector database with specified parameters\n",
    "vectorstore = Chroma(embedding_function=embeddings_model, \n",
    "                     persist_directory=db_directory,\n",
    "                     collection_name=collection_name)"
   ]
  },
  {
   "cell_type": "markdown",
   "id": "90a4d0e8",
   "metadata": {},
   "source": [
    "## 3.2. Retrieve from the vector store"
   ]
  },
  {
   "cell_type": "code",
   "execution_count": null,
   "id": "9744b63c",
   "metadata": {},
   "outputs": [],
   "source": [
    "## Retrieve and RAG chain\n",
    "# Create a retriever using the vector database as the search source\n",
    "# You may choose a specific document to filter the search\n",
    "retriever = vectorstore.as_retriever(search_type=\"mmr\", \n",
    "                                     search_kwargs={\n",
    "                                        'k': 6, \n",
    "                                        'lambda_mult': 0.5,\n",
    "                                        # 'filter': {'source': '201611-Guidance-Notes-for-Commercial-Insurers-and-Groups-Statutory-Reporting-Regime-30-Nov-2016.pdf'}\n",
    "                                        }\n",
    "                                    ) \n",
    "# Use MMR (Maximum Marginal Relevance) to find a set of documents that are both similar to the input query and diverse among themselves\n",
    "# Increase the number of documents to get, and increase diversity (lambda mult 0.5 being default, 0 being the most diverse, 1 being the least)\n",
    "\n",
    "# Load the RAG (Retrieval-Augmented Generation) prompt\n",
    "qa_system_prompt = \"\"\"You are a helpful assistant to help actuaries with question-answering tasks. \\\n",
    "Use the following pieces of retrieved context to answer the question. \\\n",
    "ASOP or asop means Actuarial Standards of Practice. \\\n",
    "CFT means Cash Flow Testing. AAT means Asset Adequacy Testing. \\\n",
    "BMA means Bermuda Monetary Authority. \\\n",
    "SBA means scenario-based approach. BEL means best estimate liabilities.\\\n",
    "After you answer, provide the sources you used to answer the question. \\\n",
    "If you don't know the answer, just say that you don't know. \\\n",
    "\n",
    "{context}\"\"\"\n",
    "prompt = ChatPromptTemplate.from_messages(\n",
    "    [\n",
    "        (\"system\", qa_system_prompt),\n",
    "        (\"human\", \"{question}\"),\n",
    "    ]\n",
    ")\n",
    "\n",
    "# Define a function to format the documents with their sources and pages\n",
    "def format_docs_with_sources(docs):\n",
    "    formatted_docs = \"\\n\\n\".join(doc.page_content for doc in docs)\n",
    "    #sources_pages = \"\\n\".join(f\"{doc.metadata['source']} (Page {doc.metadata['page'] + 1})\" for doc in docs)\n",
    "    sources_pages = \"\\n\".join(f\"{doc.metadata['source']})\" for doc in docs)\n",
    "    # Added 1 to the page number assuming 'page' starts at 0 and we want to present it in a user-friendly way\n",
    "\n",
    "    return f\"Documents:\\n{formatted_docs}\\n\\nSources and Pages:\\n{sources_pages}\"\n",
    "\n",
    "# Create a RAG chain using the formatted documents as the context\n",
    "rag_chain_from_docs = (\n",
    "    RunnablePassthrough.assign(context=(lambda x: format_docs_with_sources(x[\"context\"])))\n",
    "    | prompt\n",
    "    | llm\n",
    "    | StrOutputParser()\n",
    ")\n",
    "\n",
    "# Create a parallel chain for retrieving and generating answers\n",
    "rag_chain_with_source = RunnableParallel(\n",
    "    {\"context\": retriever, \"question\": RunnablePassthrough()}\n",
    ").assign(answer=rag_chain_from_docs)"
   ]
  },
  {
   "cell_type": "markdown",
   "id": "9243e34a",
   "metadata": {},
   "source": [
    "## 3.3. Generate Q&A Function"
   ]
  },
  {
   "cell_type": "code",
   "execution_count": null,
   "id": "1ceedb0b",
   "metadata": {},
   "outputs": [],
   "source": [
    "def generate_output():\n",
    "    # Prompt the user for a question on ASOP\n",
    "    usr_input = input(\"What is your question on ASOP?: \")\n",
    "\n",
    "    # Invoke the RAG chain with the user input as the question\n",
    "    output = rag_chain_with_source.invoke(usr_input)\n",
    "\n",
    "    # Generate the Markdown output with the question, answer, and context\n",
    "    markdown_output = \"### Question\\n{}\\n\\n### Answer\\n{}\\n\\n### Context\\n\".format(output['question'], output['answer'])\n",
    "\n",
    "    last_page_content = None  # Variable to store the last page content\n",
    "    i = 1 # Source indicator\n",
    "\n",
    "    # Iterate over the context documents to format and include them in the output\n",
    "    for doc in output['context']:\n",
    "        current_page_content = doc.page_content.replace('\\n', '  \\n')  # Get the current page content\n",
    "        \n",
    "        # Check if the current content is different from the last one\n",
    "        if current_page_content != last_page_content:\n",
    "            #markdown_output += \"- **Source {}**: {}, page {}:\\n\\n{}\\n\".format(i, doc.metadata['source'], doc.metadata['page'], current_page_content)\n",
    "            markdown_output += \"- **Source {}**: {}:\\n\\n{}\\n\".format(i, doc.metadata['source'], current_page_content)\n",
    "            i = i + 1\n",
    "        last_page_content = current_page_content  # Update the last page content\n",
    "    \n",
    "    # Display the Markdown output\n",
    "    display(Markdown(markdown_output))"
   ]
  },
  {
   "cell_type": "markdown",
   "id": "9d54daa6",
   "metadata": {},
   "source": [
    "### Example questions related to ASOPs\n",
    "- explain ASOP No. 14\n",
    "- How are expenses relfected in cash flow testing based on ASOP No. 22?\n",
    "- What is catastrophe risk?\n",
    "- When do I update assumptions?\n",
    "- What should I do when I do not have credible data to develop non-economic assumptions?"
   ]
  },
  {
   "cell_type": "code",
   "execution_count": null,
   "id": "36183436",
   "metadata": {},
   "outputs": [],
   "source": [
    "generate_output()"
   ]
  },
  {
   "cell_type": "markdown",
   "id": "b5938771",
   "metadata": {},
   "source": [
    "# 4. References\n",
    "- https://www.actuarialstandardsboard.org/standards-of-practice/\n",
    "- https://python.langchain.com/docs/use_cases/question_answering/quickstart\n",
    "- https://python.langchain.com/docs/use_cases/question_answering/sources\n",
    "- https://python.langchain.com/docs/integrations/text_embedding/\n",
    "- https://python.langchain.com/docs/integrations/vectorstores/chroma\n",
    "- https://docs.gpt4all.io/gpt4all_python_embedding.html#gpt4all.gpt4all.Embed4All\n",
    "- https://chat.langchain.com/\n",
    "- https://api.python.langchain.com/en/latest/vectorstores/langchain_community.vectorstores.chroma.Chroma.html"
   ]
  },
  {
   "cell_type": "markdown",
   "id": "628913a4",
   "metadata": {},
   "source": [
    "# 5. Management of the vector database"
   ]
  },
  {
   "cell_type": "code",
   "execution_count": 4,
   "id": "0bce4af6",
   "metadata": {},
   "outputs": [],
   "source": [
    "client = chromadb.PersistentClient(path=db_directory)"
   ]
  },
  {
   "cell_type": "code",
   "execution_count": null,
   "id": "1e514b59",
   "metadata": {},
   "outputs": [],
   "source": [
    "#client.delete_collection(name=\"VM20\") # Delete a collection and all associated files"
   ]
  },
  {
   "cell_type": "code",
   "execution_count": 5,
   "id": "8bdeddf9",
   "metadata": {},
   "outputs": [
    {
     "data": {
      "text/plain": [
       "333"
      ]
     },
     "execution_count": 5,
     "metadata": {},
     "output_type": "execute_result"
    }
   ],
   "source": [
    "collection = client.get_collection(name=\"Bermuda\") \n",
    "collection.count()\n"
   ]
  },
  {
   "cell_type": "code",
   "execution_count": null,
   "id": "5d06a843",
   "metadata": {},
   "outputs": [],
   "source": [
    "collection.peek(1)"
   ]
  },
  {
   "cell_type": "code",
   "execution_count": null,
   "id": "da5025ba",
   "metadata": {},
   "outputs": [],
   "source": [
    "#collection.modify(name=\"PBR\") rename"
   ]
  },
  {
   "cell_type": "code",
   "execution_count": 18,
   "id": "9d57899b",
   "metadata": {},
   "outputs": [
    {
     "data": {
      "text/plain": [
       "{'ids': ['0eec596d-fc92-4dad-9407-8e6384492227',\n",
       "  '1f61765d-1ec5-491a-ac29-a81f8bc6e66d',\n",
       "  '34ad350f-70f1-4635-8746-ae982020691d',\n",
       "  '3f67b969-f33d-46e1-b022-f3e3cccd6f0d',\n",
       "  '43141fbf-ec43-44d2-8040-2771c6cd04aa',\n",
       "  '4db65b3d-8b48-4d45-af0e-891897224ef3',\n",
       "  '56df91f1-d526-4c38-8a7c-05882a6f338a',\n",
       "  '5b56f858-0732-4386-b70e-18e4d4bae511',\n",
       "  '5d72c1ec-8e60-4013-a4d2-f7843fe2a3e6',\n",
       "  '6448e778-6bbd-4765-bb05-ee50b8193f75',\n",
       "  '7ecfc8d3-ae20-42eb-b697-74576bb10435',\n",
       "  '81ad8562-90c7-4313-9e6b-164e0fdfa395',\n",
       "  '988fd997-edd5-4c53-95bc-293f8819a224',\n",
       "  '9bc74288-6ec4-496d-9a3e-b24b10d5c860',\n",
       "  'cb2b3c23-6da8-457a-8506-3bac4de96050',\n",
       "  'cd0f74f2-8327-4ff3-aba3-f811d7f812a9',\n",
       "  'cf77e88a-cc1a-4ff5-834c-cb039eeff33d',\n",
       "  'd28b8a5b-ce7a-47b1-a19e-96dc24f6100d',\n",
       "  'd908f281-1fd6-4697-af66-a509eab75f5a',\n",
       "  'db548c73-fd60-4c69-b779-263d10818d39',\n",
       "  'ffab6690-382c-4a9b-9a46-9be4da83d67b'],\n",
       " 'embeddings': None,\n",
       " 'metadatas': [{'file_path': './data/Bermuda/BMA 202312-Supervision-and-Regulation-of-Private-Equity-Insurers.pdf',\n",
       "   'pdf_id': '2024_03_14_88ce6043f4f8b7c3f0deg',\n",
       "   'source': '2023_BMA-Supervision-and-Regulation-of-Private-Equity-Insurers.pdf'},\n",
       "  {'file_path': './data/Bermuda/BMA 202312-Supervision-and-Regulation-of-Private-Equity-Insurers.pdf',\n",
       "   'pdf_id': '2024_03_14_88ce6043f4f8b7c3f0deg',\n",
       "   'source': '2023_BMA-Supervision-and-Regulation-of-Private-Equity-Insurers.pdf'},\n",
       "  {'file_path': './data/Bermuda/BMA 202312-Supervision-and-Regulation-of-Private-Equity-Insurers.pdf',\n",
       "   'pdf_id': '2024_03_14_88ce6043f4f8b7c3f0deg',\n",
       "   'source': '2023_BMA-Supervision-and-Regulation-of-Private-Equity-Insurers.pdf'},\n",
       "  {'file_path': './data/Bermuda/BMA 202312-Supervision-and-Regulation-of-Private-Equity-Insurers.pdf',\n",
       "   'pdf_id': '2024_03_14_88ce6043f4f8b7c3f0deg',\n",
       "   'source': '2023_BMA-Supervision-and-Regulation-of-Private-Equity-Insurers.pdf'},\n",
       "  {'file_path': './data/Bermuda/BMA 202312-Supervision-and-Regulation-of-Private-Equity-Insurers.pdf',\n",
       "   'pdf_id': '2024_03_14_88ce6043f4f8b7c3f0deg',\n",
       "   'source': '2023_BMA-Supervision-and-Regulation-of-Private-Equity-Insurers.pdf'},\n",
       "  {'file_path': './data/Bermuda/BMA 202312-Supervision-and-Regulation-of-Private-Equity-Insurers.pdf',\n",
       "   'pdf_id': '2024_03_14_88ce6043f4f8b7c3f0deg',\n",
       "   'source': '2023_BMA-Supervision-and-Regulation-of-Private-Equity-Insurers.pdf'},\n",
       "  {'file_path': './data/Bermuda/BMA 202312-Supervision-and-Regulation-of-Private-Equity-Insurers.pdf',\n",
       "   'pdf_id': '2024_03_14_88ce6043f4f8b7c3f0deg',\n",
       "   'source': '2023_BMA-Supervision-and-Regulation-of-Private-Equity-Insurers.pdf'},\n",
       "  {'file_path': './data/Bermuda/BMA 202312-Supervision-and-Regulation-of-Private-Equity-Insurers.pdf',\n",
       "   'pdf_id': '2024_03_14_88ce6043f4f8b7c3f0deg',\n",
       "   'source': '2023_BMA-Supervision-and-Regulation-of-Private-Equity-Insurers.pdf'},\n",
       "  {'file_path': './data/Bermuda/BMA 202312-Supervision-and-Regulation-of-Private-Equity-Insurers.pdf',\n",
       "   'pdf_id': '2024_03_14_88ce6043f4f8b7c3f0deg',\n",
       "   'source': '2023_BMA-Supervision-and-Regulation-of-Private-Equity-Insurers.pdf'},\n",
       "  {'file_path': './data/Bermuda/BMA 202312-Supervision-and-Regulation-of-Private-Equity-Insurers.pdf',\n",
       "   'pdf_id': '2024_03_14_88ce6043f4f8b7c3f0deg',\n",
       "   'source': '2023_BMA-Supervision-and-Regulation-of-Private-Equity-Insurers.pdf'},\n",
       "  {'file_path': './data/Bermuda/BMA 202312-Supervision-and-Regulation-of-Private-Equity-Insurers.pdf',\n",
       "   'pdf_id': '2024_03_14_88ce6043f4f8b7c3f0deg',\n",
       "   'source': '2023_BMA-Supervision-and-Regulation-of-Private-Equity-Insurers.pdf'},\n",
       "  {'file_path': './data/Bermuda/BMA 202312-Supervision-and-Regulation-of-Private-Equity-Insurers.pdf',\n",
       "   'pdf_id': '2024_03_14_88ce6043f4f8b7c3f0deg',\n",
       "   'source': '2023_BMA-Supervision-and-Regulation-of-Private-Equity-Insurers.pdf'},\n",
       "  {'file_path': './data/Bermuda/BMA 202312-Supervision-and-Regulation-of-Private-Equity-Insurers.pdf',\n",
       "   'pdf_id': '2024_03_14_88ce6043f4f8b7c3f0deg',\n",
       "   'source': '2023_BMA-Supervision-and-Regulation-of-Private-Equity-Insurers.pdf'},\n",
       "  {'file_path': './data/Bermuda/BMA 202312-Supervision-and-Regulation-of-Private-Equity-Insurers.pdf',\n",
       "   'pdf_id': '2024_03_14_88ce6043f4f8b7c3f0deg',\n",
       "   'source': '2023_BMA-Supervision-and-Regulation-of-Private-Equity-Insurers.pdf'},\n",
       "  {'file_path': './data/Bermuda/BMA 202312-Supervision-and-Regulation-of-Private-Equity-Insurers.pdf',\n",
       "   'pdf_id': '2024_03_14_88ce6043f4f8b7c3f0deg',\n",
       "   'source': '2023_BMA-Supervision-and-Regulation-of-Private-Equity-Insurers.pdf'},\n",
       "  {'file_path': './data/Bermuda/BMA 202312-Supervision-and-Regulation-of-Private-Equity-Insurers.pdf',\n",
       "   'pdf_id': '2024_03_14_88ce6043f4f8b7c3f0deg',\n",
       "   'source': '2023_BMA-Supervision-and-Regulation-of-Private-Equity-Insurers.pdf'},\n",
       "  {'file_path': './data/Bermuda/BMA 202312-Supervision-and-Regulation-of-Private-Equity-Insurers.pdf',\n",
       "   'pdf_id': '2024_03_14_88ce6043f4f8b7c3f0deg',\n",
       "   'source': '2023_BMA-Supervision-and-Regulation-of-Private-Equity-Insurers.pdf'},\n",
       "  {'file_path': './data/Bermuda/BMA 202312-Supervision-and-Regulation-of-Private-Equity-Insurers.pdf',\n",
       "   'pdf_id': '2024_03_14_88ce6043f4f8b7c3f0deg',\n",
       "   'source': '2023_BMA-Supervision-and-Regulation-of-Private-Equity-Insurers.pdf'},\n",
       "  {'file_path': './data/Bermuda/BMA 202312-Supervision-and-Regulation-of-Private-Equity-Insurers.pdf',\n",
       "   'pdf_id': '2024_03_14_88ce6043f4f8b7c3f0deg',\n",
       "   'source': '2023_BMA-Supervision-and-Regulation-of-Private-Equity-Insurers.pdf'},\n",
       "  {'file_path': './data/Bermuda/BMA 202312-Supervision-and-Regulation-of-Private-Equity-Insurers.pdf',\n",
       "   'pdf_id': '2024_03_14_88ce6043f4f8b7c3f0deg',\n",
       "   'source': '2023_BMA-Supervision-and-Regulation-of-Private-Equity-Insurers.pdf'},\n",
       "  {'file_path': './data/Bermuda/BMA 202312-Supervision-and-Regulation-of-Private-Equity-Insurers.pdf',\n",
       "   'pdf_id': '2024_03_14_88ce6043f4f8b7c3f0deg',\n",
       "   'source': '2023_BMA-Supervision-and-Regulation-of-Private-Equity-Insurers.pdf'}],\n",
       " 'documents': [\"This goes beyond the joint onsite prudential reviews mentioned above. For example, for those illiquid assets that have a credit rating, the BMA sees value in regulators and other stakeholders jointly engaging rating agencies who rate these assets both to gain more visibility into their processes and confirm that there are no misalignments with regulators' prudential objectives. Where misalignments are identified, regulators should, together, promptly take corrective action to ensure prudential objectives continue to be met.\",\n",
       "  \"${ }^{9}$ https://www.iaisweb.org/uploads/2023/12/Global-Insurance-Market-Report-2023.pdf. [^3]:    ${ }^{10} \\\\mathrm{https}$ //content.naic.org/sites/default/files/inline-files/List\\\\%20of\\\\%20MWG\\\\%20Considerations\\\\%20\\\\%20PE\\\\%20Related\\\\%20and\\\\%200ther.pdf\\n\\n[^4]:    ${ }^{11}$ Consultation Papers template (bma.bm)\\n\\n    12 https://www.bma.bm/viewPDF/documents/2023-04-12-14-51-37-Consultation-Paper---Proposed-Enhancements-to-the-Regulatory-Regime-and-Fees-for-Commercial-Insurers.pdf\\n\\n    13 https://www.bma.bm/viewPDF/documents/2023-07-28-16-11-59-Consultation-Paper---Proposed-Enhancements-to-theRegulatory-Regime-and-Fees-for-Commercial-Insurers.pdf\\n\\n    14 https://www.bma.bm/viewPDF/documents/2023-11-30-10-40-19-Stakeholder-Letter---Consultation-Paper--Updates-toProposed-Enhancements-to-the-Regulatory-Regime-for-Commercial-Insurers.pdf\\n\\n[^5]:    ${ }^{15}$ Enhanced Capital Requirement is calculated as an insurer's statutory capital and surplus divided by the regulatory capital requirement output from the BSCR. Insurer's must clear 100\\\\%, although the BMA expects insurers to minimally hold $120 \\\\%$ (Target Capital Ratio) and has the power to impose capital add-ons to require higher amounts if it deems that the risk profile of the insurer warrants higher capital levels. [^6]:    ${ }_{16}$ Namely information on rationale, economics and key features of the transaction; information on fit to business, strategy (underwriting and investment), expertise, and risk and capital management; information on governance, risk management and Asset Liability Matching (ALM); reinsurance, collateral and investment agreements; impact on solvency and stress testing; total asset requirements (technical provisions plus capital requirements) under both the BMA and cedent regulatory basis. \",\n",
       "  '7. Disallow the split of insurance liabilities for the purposes of using the SBA. 8. Enhance the SBA supervisory process to ensure that the SBA is appropriately and prudently applied. 9. Specify minimum governance requirements for use of the SBA, including setting specific requirements for control functions with respect to the use and application of the SBA\\n10. Specify the minimum requirements on data used for SBA purposes.',\n",
       "  '2. SBA Eligibility - Lapse Risk - for eligibility to use the SBA, firms will need to satisfy either of the below conditions:\\n\\n1.1. The contracts underlying the insurance or reinsurance obligations include no options for the policyholder; or\\n\\n2.1.',\n",
       "  'If the reinsurer is unable or unwilling to address concerns, transactions will be declined as per current practice. This information facilitates the processing of the applications and discussions with the cedent regulator. This process allows both the BMA and the cedent\\'s regulator to evaluate the transaction. In the event either the BMA or cedent\\'s regulator conclude that the Bermuda reinsurer is not assigning adequate capital to support the ceded risk, the Authority will either decline the transaction or apply a capital add-on. The BMA would not approve a transaction that the cedent\\'s regulator does not support. In this regard, the Authority upholds strong cross-border collaboration and transparent exchange of information through transaction specific regulator-to-regulator discussions, ongoing[^5]exchange of information through written supervisor-to-supervisor enquiries and supervisory colleges where group-wide joint risk assessments amongst all involved regulators are performed and action plans formulated. The BMA has materially increased its number of life supervisors, actuaries and investment and other specialist resources and increased the fees for life and annuity insurers to support this. To better inform external stakeholders, the BMA will issue an annual report on the Bermuda life and annuity insurance market covering its profile and solvency position, including results of the BMAmandated stress testing. The first version of this report will be released in January 2024. ## Challenges and Supervisory Response\\n\\n## \\\\#1 Structure of cross-border transactions\\n\\nAs stressed several times in this paper, to ensure appropriate supervisory and regulatory cross-border oversight, transparency must exist amongst regulators. Many of the transactions between cedents and cross-border PE insurers are either coinsurance with funds withheld or Modified Coinsurance (ModCo). In such cases, the assets remain with the cedent, and the cedent directs the investment strategy. In theory, this allows for greater transparency since the cedent\\'s regulator, with appropriate reporting requirements, is aware of the composition of the assets supporting the liabilities. To progress beyond theory, as noted above, as of January 2023, a Bermuda PE insurer cannot effect a deal without the BMA\\'s prior approval. As stated earlier, during the approval process, the BMA collects a significant amount of information and engages with the cedent\\'s regulator. The BMA will not approve a deal without either it or the cedent\\'s regulator being comfortable. The fact that the BMA has the power to approve or decline the transaction, means that the cedant\\'s regulator need not have powers in this area (i.e., where a cedent\\'s regulator is uncomfortable, but does not have the power to prevent a transaction, the BMA would exercise its powers to prevent the transaction). The BMA has a variety of supervisory and regulatory tools available to it, including imposing requirements to increase target assets and/or imposing conditions, etc., if either the BMA or the cedent\\'s regulator believes such a requirement is necessary for comfort. Additionally, the BMA hosts and participates in supervisory colleges, and/or bilateral meetings with the cedent\\'s regulator so that the regulator and the BMA will have a holistic as opposed to a transaction-by-transaction view. Such meetings also facilitate amongst supervisors a better understanding of group structure and other risks associated with the PE insurer\\'s business model, allowing for better collaboration and coordination of regulatory and supervisory actions to address any regulatory gaps. Finally, the Authority also collects, monitors and analyses aggregate data on the insurance market to monitor trends and built of risk (e.g., from the cumulative impact of these transactions) and inform micro and macro prudential policy and supervisory measures. While not always the case, cross-border PE insurers may transact with affiliates or the fact that the parent or partner PE invests at least a portion of the assets, raises concerns regarding whether the arrangements are conducted at arm\\'s length. Under the BMA\\'s regulatory framework, the Board is required to ensure that, \"corporate governance policies and practices are developed and applied in a prudent manner that promotes the Board\\'s efficient, objective and independent judgment and decision-making.\" As mentioned previously, as part of the licensing process, the BMA requires a PE insurer to appoint an appropriate number of suitably qualified INEDs all of whom are vetted by the Authority to confirm they are fit and proper to discharge the responsibilities of the role. Further PE insurers are required to identify all sources of conflict of interest and put in place a conflicts of interest policy and often board conflict committees. Board empowerment is emphasised under the BMA\\'s regime and this takes different forms including but not limited to INEDs chairing conflict of interest committees, risk and audit committees etc. Indeed, it is good practice to find PE-insurers operating in Bermuda with conflict of interest committees made solely of INEDs. The BMA reviews the work such committees do including the resources they use to inform their decision making e.g., hiring independent third parties to render an opinion on transactions where potential for conflict of interest exists. It is the BMA\\'s supervisory practice to hold closed door sessions with board chairs and INEDs wherein privileged discussions are held to challenge and confirm PE-insurers are being run in a manner that protects policyholders\\' interests. Where concerns are identified the insurer is formally notified and required to take corrective action. As stated earlier, all block transactions now require regulatory approval and various reviews are done as part of this approval process including on conflict of interest. The Authority also discusses these matters with cedent regulators as part of bilateral discussions but also as part of supervisory colleges. Indeed, the BMA maintains intra-group and related party transaction logs for its PE-insurers which are shared and discussed with the college. In some cases, the BMA has enhanced such logs to cover the recording of all cashflows that occur between the PE-insurer and the PE firm and has found this to be helpful to the supervisory process. Accordingly, it is being extended to all PE-insurers. Overall, as with most competent frameworks, the BMA\\'s regime is robust enough to obtain visibility on the various sources of conflicts of interest and supervise accordingly. That said, conflict of interest is an insidious risk and it is important that it is elevated on the regulators\\' radar and mitigated in all its manifestations, both formal or informal. It is the BMA\\'s assessment that the mitigation of conflict of interest risk will continue to benefit from the input of a variety of stakeholders, engagement activities and information sharing amongst regulators and enhanced tailored reporting and disclosures. ## \\\\#3 Illiquid assets, prudent person principle\\n\\nRegulators across the globe have observed the increased allocation to illiquid assets by insurers with this trend being more pronounced for PE insurers. There are a number of reasons driving this trend including but not limited to:\\n\\n- A low interest rate environment which saw life insurers across the globe searching for yield in order to meet their promises to policyholders. Insurers, in general, have reached for the extra yield through reducing the average credit quality of their asset portfolios - This has resulted in a relative increase in credit risk in asset portfolios when compared to prior decades. PE insurers have, in part, addressed the search for yield through increased allocations to illiquid investments\\n- The need by PE insurers to hold long-term interest sensitive liabilities (e.g., annuities) to better match assets and liabilities. The improvement in asset-liability matching enhances balance sheet resilience to volatility in interest rates as witnessed over the past two years\\n- The need to manage reinvestment risk. Insurers often provide policyholder guarantees with fixed interest rates. Reinvestment risk poses a challenge when insurers are unable to replicate the original yield on maturing investments, potentially affecting their ability to fulfil these guarantees\\n- Insurer\\'s need to diversify asset portfolios. PE insurers have been able to diversify into illiquid assets largely driven by their enhanced access to investment underwriting capabilities. - Fulfil their Environmental, Social and Governance (ESG) goals e.g., through facilitating the public\\'s access to mortgage lending and investment in infrastructure assets\\n\\nIlliquid assets, while they have their benefits and risks, should be assessed in the context of the liabilities being supported by these assets and as part of a well-diversified asset portfolio including diversification within the illiquid assets themselves. The mitigation of ALM mismatches and reinvestment risks is a key benefit when the assets are matched with comparably illiquid liabilities. However, the risks of illiquid assets are also evident, meaning the assets are not publicly traded, and therefore, there can be uncertainty around valuations combined with the fact that insurers could suffer losses if forced to sell these assets e.g., to meet liquidity needs. Some illiquid assets are not rated by rating agencies which raises the question of whether insurers are holding the appropriate amounts of capital in such cases. It is important to note that, the BMA requires that companies hold a material portion of their portfolio in standard high-grade fixed income investments and manage assets through appropriate risk-based capital charges, appropriate investment and ALM policies and by following the prudent person principle. The prudent person approach requires companies to have a market risk framework that should include:\\n\\n- An investment strategy that is aligned with the strategic objectives, including the management of assets and liabilities\\n- Detailed policies on concentration and allocation limits\\n- Identification and quantification techniques\\n- Performance measurement techniques, including benchmarking\\n- Stress and scenario testing\\n\\nThe BMA reviews PE insurers\\' use of illiquid assets as part of the insurer licensing process, the transaction approval process and quarterly and annual (or more frequent) filings, as well as ongoing day-to-day supervision including through conducting targeted deep dive onsite prudential reviews. Further, the BMA facilitates and/or participates in focused holistic discussions/reviews as part of supervisory colleges or group-wide supervision.',\n",
       "  'Insurance technical provisions are decomposed into a best-estimate liability component and a risk margin component.',\n",
       "  'Where options exist, the residual risk arising from asset/liability portfolios with policyholder options is considered not significant. For this option, firms will need, for lapse risk, to demonstrate the following (both at approval and on an ongoing annual basis thereafter):\\n\\n1.2.1. Liquidity risk management plan and framework meeting minimum BMA specifications;\\n\\n2.2.1. Detailed liquidity stress tests - e.g., mass lapse combined with forced asset sales;\\n\\n3.2.1. Hold a Lapse Cost on top of the BEL. This shall be calculated using a prescribed BMA formula calibrated to 1 standard deviation level.',\n",
       "  \"Eligible capital and surplus are determined by evaluating capital instruments under the following criteria: loss-absorbing capacity, subordination, maturity, permanency and absence of encumbrances and mandatory charges. Additionally, they are subject to a three-tier system that sets limits in terms of the composition of such funds, ensuring that policyholder obligations are covered by high-quality capital.[^3]\\n\\nPillar Two of the BMA's regime sets out requirements for risk management, governance and insurers' Own Risk and Solvency Assessment (ORSA). Each insurer is required to assess the adequacy of its risk management system as well as the current and prospective solvency positions under normal and severe stress scenarios. This ensures that the regulatory framework is combined with each insurer's own risk management system to further enhance policyholder protection. As a result, the BMA utilises a wide range of supervisory tools throughout the lifecycle of regulated entities, including taking preventive, enforcement and remedial actions where necessary. Insurers are subject to both regulatory and insurer-specific stress and scenario testing covering a wide variety of risks, including investment and biometric risks. The BMA also conducts onsite and offsite inspections, focusing on critical areas, such as investment strategy, liquidity and asset liability management, risk management, governance, and solvency and capital adequacy. In support of cross-border collaboration and transparent exchange of information, the Authority establishes robust group supervision that includes actively hosting supervisory colleges at least annually to jointly assess insurers' risks and formulate work plans. The BMA also actively participates in various other supervisory colleges and engages in bilateral discussions as needed. Under Pillar Three, the Authority receives a wealth of information from commercial insurers, including but not limited to Generally Accepted Accounting Principles (GAAP) financial statements, statutory financial statements and statutory declaration of compliance. Additional filings comprise the capital and solvency return (which includes the EBS, key business, financial and actuarial information, stress testing results, the ORSA report and regulatory capital requirements, inter alia) and actuarial opinion. The actuarial opinion is provided by a BMA approved qualified actuary and provides an independent assurance of the reasonableness of the technical provisions. The BMA's Commercial Insurers need to publicly disclose the GAAP financial statements, the statutory declaration of compliance and the financial condition report, which includes information on business and financial performance, governance, structure, risk profile, solvency valuation, capital management, compliance with statutory requirements, and subsequent events. Bermuda's regulatory framework for commercial insurers complies with the Insurance Core Principles of the IAIS. The BMA is a founding member of the IAIS and actively participates in the organisation's work with representation at nearly all committees and sub-committees and holding several leadership positions. The BMA's supervisory approach is risk-based and forward-looking and adheres to international best practices. Its regulatory and supervisory frameworks have been assessed and continue to be regularly assessed by international regulatory setting bodies, including the European Commission, which granted Bermuda Full Solvency II Equivalence and the NAIC, which granted Bermuda Qualified and Reciprocal Jurisdiction status. The continuous dialogue and sharing of information and ideas with these bodies and other international peer regulatory bodies allow Bermuda to maintain its regulatory and supervisory frameworks at the international best practice level. The Supervisory collaboration aimed at transparency and the exchange of information is critical in the supervision of Bermuda insurers. This is achieved through mechanisms such as group-wide supervision. In addition, written regulator-to-regulator inquiries and bilateral meetings between the original and reinsuring jurisdictions are an avenue for any arising concerns to be discussed and resolved. The BMA is a signatory of the IAIS Multilateral Memorandum of Understanding (MoU) and has signed nearly 30 MoUs with foreign insurance regulators worldwide, including in the US and Europe. It is important to note that the Bermuda regime is not static. The BMA's remit is to ensure that the cornerstones of the regulatory regime for commercial insurers continue to be sound, serving the double goal of protecting policyholders and contributing to financial stability. The BMA's framework continues to capture risks and detect new risks while serving the needs of the Bermuda market. For this purpose, the BMA continually monitors trends and market developments, including evolving risks and business models. Like other peer regulators, the BMA assesses the adequacy of existing regulatory tools and performs changes when deemed appropriate. On 8 December 2022, the BMA published a Notice informing stakeholders about targeted enhancements to Bermuda's regulatory and supervisory regime for commercial insurers primarily focused on long-term (life and annuity) insurers ${ }^{11}$. On 24 February 2023, the Authority published a consultation paper on proposed enhancements to its regulatory regime and fees for long-term commercial insurers $(C P 1)^{12}$. The enhancements cover: the calculation of the technical provisions (insurance reserves); Bermuda Solvency Capital Requirement (BSCR) computation and the flexibility of the BSCR framework. Additionally, in terms of technical provisions, CP1 specified that the Authority would perform changes to the standard discount curve for liabilities denominated in Euros, changes to the calculation of the risk margin for Insurance Groups and changes to the Scenario-Based Approach (SBA) for discounting. Regarding the calculation of the BSCR, changes will be made to the 'other long-term insurance risk capital charge' to increase its risk sensitivity for lapse and expense risks. Changes will also be made to Property and Casualty (P\\\\&C) catastrophe risk charges to capture man-made risks more appropriately. CP1 outlined the BMA aims to revise its framework regarding application processes for modifying specific BSCR parameters in situations where the BSCR framework may not adequately reflect the insurer's risk profile. The revisions will seek to ensure that the framework is more clearly defined, standardised and transparent in terms of scope and requirements. On 28 July 2023, the Authority published a second consultation paper on the proposed enhancements to its regulatory regime $(C P 2)^{13}$. This included fine-tuning the aspects of the proposal previously consulted based on the feedback received from the stakeholders and results from the field-testing exercise. The substance of the changes has been finalised and the impact of these changes are material for Life \\\\& annuity insurers. The changes will come into force 31 March 2024 as confirmed in the Stakeholder letter on $\\\\mathrm{CP} 2^{14}$. ## Supervision of PE Insurers\\n\\n## 1) Licensing\\n\\nSupervision of PE insurers starts even before they are registered at the licensing stage review. The BMA performs a thorough review of incoming firms by a multidisciplinary committee consisting of a diverse pool of prudential supervisors, actuaries and anti-money laundering supervisors. A wealth of[^4]information is received within the application package including business plan, financial and solvency projections, reinsurance agreements, governance structure, risk management framework, policies (e.g., investment policy, risk management policy), draft reinsurance contracts, etc. Where the BMA's standards are not met, applications are declined or, where the risk profile warrants, conditions or required amendments may be imposed on licensing. Specifically for PE insurers, emphasis is put on the following areas:\\n\\n- Shareholder structure, including ultimate beneficial ownership whether the insurer will be subject or not to group supervision\\n- Rationale for setting up the insurer and sustainability of the business plan and business model\\n- Fit and proper assessment of the shareholder, board and senior and executive management\\n- Conflicts of interest, namely between shareholders, investment managers and related parties, through direct or indirect shareholder participation, voting rights, or influence over management\\n- Special attention is provided to both investment fees and reliance on outsourcing provided directly or indirectly by the PE firm/group, including in the sourcing of business, actuarial, etc. - Number and insurance and investment expertise of independent non-executive directors\\n- Charter, composition and leadership of board committees\\n- Existence and adequacy of conflict policy and conflict committers\\n- Rationale for the transaction\\n- Reinsurance and collateral agreements, namely subject business, contractual provisions including recapturing, ownership and economic risk bearing of the assets,\\n- Asset portfolio, including target asset allocation, eligible assets and limits and fit to liabilities/ALM\\n- Capital management policy, including target capitalisation and capital thresholds, access to funding including hard and contingent forms of capital\\n- Liquidity management\\n- Accuracy and realism of the financial and solvency projections. - Total asset requirements under both the cedant's and the BMA's basis\\n- Transparent and robust communication with the regulator of the cedant\\n\\nMore often than not, several changes are required in order for applications to be approved namely in terms of investment limits (specifically in terms of maximum exposure to below investment grade, unrated and illiquid assets), liquidity management, dividend restrictions, target capitalisation levels and access to capital, Board composition (in terms of number and quality of independent directors or Independent Non-Executive directors (INED)), executive and senior management composition and overall staffing levels, etc. ## 2) Supervisory collaboration\\n\\nEffective, transparent and robust cooperation and information sharing is essential in the supervision of PE insurers. The BMA has a strong commitment to working with regulators of the cedents, namely through group supervision and regulator-to-regulator requests. The key aspects of group supervision of PE insurers include:\\n\\n- Robust group supervision of Bermuda groups which includes hosting at least annual supervisory colleges: outputs include a joint risk assessment, a college feedback letter to the insurance group and a college work plan outlining how regulators will coordinate supervisory and regulatory efforts in relation to the group\\n- Participation in supervisory colleges hosted by other jurisdictions\\n- Bilateral discussions with supervisors on applications, acquisitions and other developments\\n- Capital fungibility simulation exercises\\n- Internal supervisory quasi-groups aimed at sharing views on risks including potential systemic risks\\n- Crisis management groups\\n- Recovery plans\\n\\nRegulator-to-regulator contacts are performed at the licence stage and whenever there are new transactions. ## 3) Intensified supervisorv engagement\\n\\nTo put it simply, PE insurers require an intensified supervisory engagement. Accordingly, within the $B M A$, they are scoped for close, intrusive and ongoing supervision due to the unique supervisory challenges they present. PE insurers require regular engagement of the BMA with the board/management, e.g., substantive quarterly/monthly meetings focusing on key risks. In-depth and intrusive onsite reviews are critical to the supervision of PE insurers, where the areas of focus include:\\n\\n- Investment Strategy\\n- Analysis of complexity and illiquidity risks associated with the investment portfolio\\n- Deep dive on alternative investments, concentration risks, valuation uncertainty (e.g., quality of independent valuation reports), susceptibility to market volatility (i.e., rating downgrade, spread widening, inability to access liquidity and disruptions impacting the functioning of capital markets)\\n- Analysis and challenge of forward-looking stress tests (e.g., severe market downturns, reverse stress testing, etc.)\\n- Risk appetite and limits, watch list\\n- Investment policy and governance - due diligence and demonstration of prudent person principle\\n- Liquidity and ALM\\n- Interest rate risk management and impact of prevailing and alternative interest rate environments\\n- Hedging strategy\\n- Liquidity management, appetite, limits, collateral/encumbrances, cash flow profile and liability profile\\n- Liquidity stress tests (forward-looking stress testing and scenario analysis, simultaneous shocks to assets and liabilities, cash flow stress tests and reverse stress tests)\\n- Recovery/contingency (liquidity) plans in the event of stress\\n- Risk Management\\n- Model risk management with a focus on ALM, liquidity and stress testing\\n- Management of conflicts of interest\\n\\nO Risk culture\\n\\n- Governance\\n- Appropriate governance structure for both board and senior management\\n- Board and sub-committees' terms of reference\\n- Review of the board composition, including the right level of skills, taking into consideration the complexity of the company\\n- Sufficient and skilled/qualified INEDs to ensure appropriate challenge (and independence from the PE)\\n- Assessment of the board's operations, governance and effectiveness\\n- Board's role in the management of conflicts of interest\\n- Solvency\\n- Quality of capital\\n- Economic capital and ORSA\\n- Contingency plans\\n- Capital management policy (i.e., dividend policy, etc.)\\n\\n\\n## 4) Recovery and resolution\\n\\nThe Insurance Act 1978 (Act) is the primary legislation governing insurance regulation in Bermuda. It has been amended to give the BMA powers to make rules for recovery planning.\",\n",
       "  'For example, for the years 2022 and 2023, the BMA led joint college onsites where together with regulators from other jurisdictions, deep dives on illiquid assets were carried out. These joint college onsites were in addition to the holding of separate\\nsupervisory college forums dedicated to wider discussions on PE insurers. Topics covered included PE insurers being challenged by a panel of regulators to demonstrate their application of the prudent person principle on specific illiquid asset case studies, independent valuation of illiquid assets and governance and management of conflicts of interest. The BMA views joint college reviews on illiquid assets as an important ingredient of robust and intense supervision for PE insurers that operate across different jurisdictions. This represents an important part of the future of supervision in an everdynamic environment and should continue to be embedded by supervisors as a compliment to solo supervision. As stated above, the BMA\\'s risk-based capital requirements are calibrated to 99\\\\% T-VaR over the 1year time horizon and cover all material quantifiable market and credit risks (i.e., equity, interest rate, currency, spread, migration and default and concentration risks). The higher the risk, the higher the capital charges, with alternative assets generally having higher capital charges than \"standard/traditional assets\". This results in insurers being required to hold significantly more capital to support unrated assets (i.e., insurers have to hold more than a third of the value of the unrated illiquid asset as capital on top of technical provisions). If the BMA deems that certain material investments are not being adequately captured by the standard formula capital charges, capital addons/bespoke charges are imposed. This is consistent with practices in other competent frameworks. In such cases when determining the appropriate risk-based capital, the BMA looks to the following:\\n\\n- Nature of the assets, including all the risks the assets are exposed to\\n- Available historical data - the company is typically asked to provide\\n- Relevant benchmarks and market indexes\\n- Other jurisdictions\\' capital charges (particularly when the investment is held by a subsidiary in that jurisdiction)\\n- The analysis performed by the company when they acquired the assets\\n\\nIt should be noted that Bermuda Internationally Active Insurance Groups (IAIGs) will, as is the case with all other IAIGs, have to comply with the IAIS Insurance Capital Standard (ICS) as a minimum standard starting on 1 January 2025. The BMA will consult on the implementation of the ICS in the Bermuda regime in 2025. As noted earlier, PE insurers holding illiquid assets run the risk of being forced sellers of such assets (at potentially steep haircuts) in order to meet liquidity needs. The BMA has a number of prescribed stress tests that PE insurers are expected to pass and has recently introduced a liquidity stress test for the 2023 year-end filing. The stress test takes a full balance sheet approach and stresses both assets and liabilities (mass lapse shocks). Insurers have to demonstrate that under such a stress they have more than adequate liquidity sources to meet excess liability cashflows. Illiquid assets are assigned a nil value for liquidity stress testing purposes (i.e., companies are not allowed to meet liability cashflows through sales of illiquid assets even with steep haircuts). This applies both under normal and stressed conditions. Over and above, PE insurers are required to carry out their own risk and solvency assessment and file with the Authority a Commercial Insurer Solvency Self-Assessment (CISSA or ORSA). They must demonstrate through additional insurer-specific stress tests that they not only understand the risks of the illiquid assets on their balance sheet but that they also hold appropriate amounts of capital and liquidity for the risks they have taken. This ORSA is subject to intense and ongoing scrutiny by the Authority and PE insurers receive written communication from the BMA on identified areas of feedback. While the phrase \\'illiquid assets\\' is often used to bundle all non-traditional assets into one bucket, these assets should also be viewed as distinct asset categories. Indeed, not only do illiquid assets themselves vary, but different PE insurers are also likely to take different approaches and hence risks when investing in these assets. This is where close and ongoing robust supervision is most effective; it, lays bare these differences and their implications but also identifies and swiftly enforces market discipline for those PE insurers that may be operating in a manner that is not aligned with the regulator\\'s prudential objectives. The BMA has and continues to dedicate increased resources and efforts in this area, both at the individual insurer and industry levels. The following extract from the BMA\\'s Stakeholder Letter issued to the public on 30 November 2023 is worth highlighting:\\n\\n## D. Prudent Person Principle (PPP)\\n\\nBoth CP1 and CP2 outlined the Authority\\'s requirements and expectations relating to insurers\\' investments in assets covering best estimate liabilities valued using the SBA. These requirements must be applied within the context of the PPP, clear structures of accountability, disciplined risk management, and strong but proportionate governance. The BMA would like to remind insurers, particularly long-term insurers, to pay close attention to compliance with the PPP. In particular, paragraph 46 of the Insurance Code of Conduct states that, in relation to the insurer, the PPP \"requires that the insurer, in determining the appropriate investment strategy and policy, may only assume investment risks that it can properly identify, measure, respond to, monitor, control and report while taking into consideration its capital requirements and adequacy, short-term and long-term liquidity requirements, and policyholder obligations. Further, the insurer must ensure that investment decisions have been executed in the best interest of its policyholders.\" The Authority reminds insurers that it assesses compliance with PPP on a case-by-case basis, taking into account the relevant facts and circumstances, but in an objective manner rather than focusing on the insurer\\'s own subjective view of PPP. While the Authority expects insurers to perform their own assessment of their compliance with PPP, the Authority will exercise its independent and objective judgement in assessing insurers\\' compliance with PPP, in line with the BMA\\'s supervisory approach to the application of its regulatory framework with emphasis on strengthened enforcement and market discipline interventions. The Authority would like to remind the boards and senior management of longterm insurers, especially those with high allocations to non-traditional investments, including those characterised by higher illiquidity, challenging valuation, lower transparency, embedded leverage and complex structures, among other risk factors, of their responsibility to comply with the PPP. ## E. Approval of Affiliate, Related or Connected Party Credit Exposure\\n\\nSection 2.9 of CP2 noted that Bermuda insurers generally fund long-term liabilities using investments in unaffiliated counterparties. The BMA proposed requiring prior approval of all assets having counterparty credit exposure to an affiliate, related party or connected party. Feedback Received: Stakeholders proposed limiting the scope of this approval to assets on the balance sheet of Bermuda insurance companies and not applying it to assets in modified coinsurance accounts on the balance sheet of ceding companies. They argued that assets held by ceding companies are subject to the insurance laws and rules of the ceding companies\\' jurisdiction. Application of Bermuda laws to ceding company accounts may present both regulatory duplication and regulatory incongruity. Stakeholders also sought additional clarification in relation to assets managed by affiliates but with no counterparty credit exposure to an affiliate, related party or connected party. BMA Response/Action: The Authority believes it is appropriate to require regulatory approval of all assets (that fund long-term liabilities) having counterparty credit exposure to an affiliate, related party or connected party. This includes assets held in modified coinsurance accounts on the balance sheet of ceding companies. The BMA\\'s supervisory experience has shown that affiliated, related or connected party assets can be complex and prone to a potential conflict of interest, creating additional risks and governance challenges. The ultimate responsibility for sound and prudent management of these risks rests with the insurer\\'s board of directors. The Authority\\'s review and approval process shall consider all of the relevant facts and circumstances of the affiliated, related or connected party exposure. To obtain regulatory approval, insurers must demonstrate that the decision to invest in an affiliated, related party or connected party comply with the PPP (i.e. the insurer must ensure that investment decisions have been executed in the best interest of its policyholders). The BMA expects it would be a high bar for insurers to demonstrate that such investments are appropriate for covering policyholder liabilities. Regarding clarification in relation to assets managed by affiliates, the BMA confirms that approval will apply to assets with affiliated, related or connected counterparty credit risk. Insurers shall look through the underlying counterparties (not asset managers) in determining the nature of the credit exposure.\"\\n\\nIt is the BMA\\'s assessment that there is much to be gained from close and ongoing supervision coupled with sustained engagement with all parties on supervision of PE insurers. Several supervisory interests will benefit from joint engagements among regulators.',\n",
       "  '11. Specify the minimum model risk management requirements for use of the SBA - model inventory, ongoing and third-party model validation, model risk reporting, assessment/quantification of model limitations and simplifications. 12.',\n",
       "  'The BMA supports all initiatives by different stakeholders in this regard. ## \\\\#4 Lapse risk\\n\\nLapses can pose potentially material risks for insurers with illiquid assets, especially in a mass lapse risk scenario. Recognising this situation, the BMA has revised its lapse and expenses risk charges as part of the referred enhancements. The standalone impact of these changes is very material. The changes include:\\n\\n- Increase the risk-sensitivity of lapse and expense charges by changing from a factor-based approach to using lapse and expense shocks\\n- The Solvency II lapse shocks will be adopted for European and UK business. For other regions, the lapse up and down shocks follow the ICS, while the mass lapse shocks are differentiated by product type (e.g., institutional verses retail) and product features, to account for the wide scope of Bermuda business and historical data\\n- The expense shocks follow the ICS specification\\n- The lapse and expense shocks introduce two new sub-modules into the solvency calculation, replacing the current long-term Other Insurance Risk charge. Aggregation is based on Solvency II correlations (which are also the same as in the ICS)\\n\\n\\n## \\\\#5 Valuation of technical provisions and regulatory differences\\n\\nIn Bermuda, life and annuity insurers can discount their insurance liabilities using the discount curves prescribed by the Authority, which is the so called standard approach, or they can use an alternative ALM approach called the Scenario Based Approach (SBA). Several but not all PE insurers use the SBA.',\n",
       "  '8 Ibid.',\n",
       "  \"In addition, two consultation papers, on the development of the recovery planning regime and the recovery planning rules respectively, have been published. The Authority is now in the process of finalising these 'Rules' and anticipate publishing the final 'Rules' by the end of this year. However, the Authority is currently requiring certain PE insurers to produce recovery and/or resolution plans and participating and contributing to relevant supervisory colleges and CMGs. In 2025 the BMA will publicly consult on the design and implementation of an insurance resolution regime in line with the requirements of the IAIS. ## 5) Tailored asset reporting\\n\\nThe BMA further enhanced investment reporting with effect of the 2022 year-end. These enhancements were introduced to ensure that the asset regulatory reporting and disclosure requirements remain appropriate, considering the evolution of asset allocations and investment strategies adopted by Commercial Insurers and Insurance Groups. The enhanced reporting requirements provided the Authority with more detailed information and visibility of the risks posed by insurers' differentiated investment strategies, including, risk concentrations, sector exposure of asset classes and risk profile. The enhanced disclosures also supported the BMA's prudential assessment of the exposure to illiquid and other non-traditional assets, including but not limited to private debt and other structured assets. The information collected also assists the Authority in its prudential supervision relating to downside exposure assessment,\\nunderstanding of the reliability and resilience of cashflows and understanding of the protections and covenants present in each asset class which are all key in the case of PE insurers. On a case-by-case basis, the BMA also requests additional tailored investment and stress test information. ## 6) Range of powers of intervention and supervisory measures\\n\\nThe Act provides the Authority with a broad range of powers of intervention and supervisory measures relevant for the supervision of PE owned insurers, amongst others:\\n\\n- Power to impose higher levels of capital: e.g., $150 \\\\%$ Enhanced Capital Requirement ${ }^{15}$ (ECR), prohibit dividends, request capital maintenance agreements and liquid contingent capital sources and/or request appropriate liquidity management and tools to be in place\\n- Power to impose capital add-ons and reserve add-ons\\n- Enhanced scrutiny/monitoring/reporting\\n- Power to request additional independent reserve review\\n- Coordination with cedent and group supervisor\\n- Restrictions on license\\n\\n\\n## 7) Supervisory enhancements (in place since January 2023)\\n\\nRelevant to the predominant business engaged in by PE insurers, the BMA requires prior approval of all long-term block reinsurance transactions and, in this process, includes a comprehensive set of information, namely information on rationale, economics and key features of the transaction; information on fit to business, strategy (underwriting and investment), expertise, and risk and capital management; information on governance, risk management and ALM; reinsurance, collateral and investment agreements; impact on solvency and stress testing; total asset requirements (technical provisions plus capital requirements) under both the BMA and cedent regulatory basis. Should material concerns arise, a number of changes can be requested (e.g., additional information (including detailed reporting and stress testing), additional levels of capital to be held, capital add-ons, changes to reserve assumptions, dividend restrictions/prohibition, capital maintenance agreements, etc.).\",\n",
       "  '8\\n\\n1) Licensing. ..... 8\\n2) Supervisory collaboration ..... 9\\n3) Intensified supervisory engagement ..... 10\\n4) Recovery and resolution ..... 11\\n5) Tailored asset reporting ..... 11\\n6) Range of powers of intervention and supervisory measures ..... 12\\n7) Supervisory enhancements (in place since January 2023) ..... 12\\nChallenges and Supervisory Response ..... 13\\n\\\\#1 Structure of cross-border transactions ..... 13\\n\\\\#2 Arm\\'s length transaction/conflicts of interest ..... 14\\n\\\\#3 Illiquid assets, prudent person principle. ..... 14\\n\\\\#4 Lapse risk ..... 18\\n\\\\#5 Valuation of technical provisions and regulatory differences ..... 19\\nFoundational Elements of a Long-term Insurer\\'s Balance Sheet and Use of the SBA ..... 19\\nCross-border Reinsurance to Explore Regulatory Differences Between Jurisdictions ..... 22\\nConclusion ..... 23\\n\\n## Executive Summary/Foreword\\n\\nThere are numerous insurance articles that, while acknowledging the benefits that could be brought by private equity and alternative asset managers, have outlined the risks and potential issues that arise from this participation. While such articles are invaluable, in reviewing this material, very little instruction has been provided regarding the steps that regulators could take to exercise effective oversight of such business models. With this paper, the Bermuda Monetary Authority (Authority or BMA) seeks to contribute to the literature by sharing examples of approaches that regulators could take when confronted with private equity/alternative asset manager-owned and/or supported insurers. As noted above, these insurers may provide benefits; however, they also present a number of risks that regulators must carefully attend to. Such risks potentially include but are not limited to:\\n\\n- Opacity and complex structures\\n- Conflicts of interest\\n- Higher proportions of investments in illiquid assets\\n- Misalignment of time horizons between shareholders and insurance liabilities\\n\\nThrough its experience and considering lessons learnt, the BMA has continued to proactively adapt its regulatory and supervisory framework to address these risks. A key ingredient is ensuring that transparency exists amongst the cedent regulator and the BMA. Additionally, the BMA applies several supervisory and regulatory tools when gaps are identified by either the cedent regulator or the BMA. Such tools are outlined in this paper. Through the practices outlined in this paper, the Authority believes that this material will be a valuable read for regulators who have such structures in their respective jurisdictions or are regulating an insurer that is ceding to such structures as well as other relevant stakeholders. This paper is for educational purposes only and should not in any way be interpreted as the BMA\\'s promotion of such structures. This paper provides a high level overview of the BMA\\'s regulatory and supervisory experience with private equity/alternative asset manager owned or supported insurers ${ }^{1}$ (Private Equity insurers). It must not be interpreted as the BMA promoting this business model. The topic was chosen because of the significant interest in the risks arising from these business models and to educate how they are effectively regulated in Bermuda. A number of PE insurers are domiciled in Bermuda. A high level overview of the BMA\\'s regulatory and supervisory approach is provided but it is not nearly exhaustive in its coverage of BMA practices and procedures applied to these businesses to mitigate risks. In order to understand the transformational trend in the Life and Annuity/Long-term ${ }^{2}$ industry associated with the rise of PE insurers, one first needs to explain the concept of a protection gap. An insurance protection gap refers to the difference between the actual insurance coverage persons have and the coverage that they ideally require to protect against various risks. A retirement/pension protection gap occurs when individuals do not save enough for retirement, relying on social benefits instead. This gap places a significant burden on many governments, often increasing social welfare costs. It leaves many unprepared for retirement, leading to higher elderly poverty rates and affecting quality of life. Additionally, this protection gap results in greater reliance upon government assistance programmes, can strain family resources, impair healthcare access, and hinder economic stability and/or slow economic growth. Demographic forces have contributed to the increasing rise of the retirement/pensions protection gap, namely the growth of the middle class in developing markets (e.g., in Asia) and an aging population in the developed market, increasing demand for retirement solutions. According to the Global Federation of Insurance Associations ${ }^{3}$ (GFIA), \"... pensions, cyber, health and natcat stand out due to their growing economic importance, impact on human lives and insurability. Exploring the current protection landscape and analysing the protection gaps related to these risks is particularly relevant due to their substantial economic and human impact.\" Of the four, GFIA estimates that the annual global pensions protection gap is the largest at USD $\\\\$ 1$ trillion. ${ }^{4}$ GFIA builds upon the Geneva Association\\'s definition of the pension protection gap. ${ }^{5}$\\n\\nCross-border life and annuity reinsurance is one of a number of public and private avenues to reduce the pensions protection gap, albeit a very important one. For a solution, such as reinsurance, to contribute to reducing a protection gap, it must meet certain criteria, including being available in time of need, accessible and affordable. Regulation enables fulfilment of the criteria by regulators both ensuring that standards are appropriate to facilitate product offering and insurers can meet their obligations when claims come due. Making reference to the International Association of Insurance Supervisors (IAIS) Insurance Core Principle 13, the Insurance Europe Reinsurance Advisory Board outlined the benefits of cross-border reinsurance, including effecting global diversification, contribution to narrowing insurance protection[^0]gaps, promoting innovation and improving financial resilience. ${ }^{6}$ While its focus was on climate change risk, in principle, the same applies in the case of retirement protection. This paper starts by discussing the growth of PE insurers, in the provision of retirement protection and then explains that there is a fine line between the benefits that PE insurers bring and the specific risks they contribute. The paper thereafter introduces key concepts of the BMA regulatory and supervisory framework and dives into specific aspects of the supervision of PE insurers in Bermuda, including specific challenges and respective supervisory responses. ## Growth of PE Insurers in the Provision of Retirement Protection\\n\\nPE insurers have been involved in the life and annuity sector since the 1980s; however, participation has exponentially increased since the \"Great Recession\" of 2008. Post 2008 and up to 2022, the prolonged period of low interest rates placed significant pressure on the viability of traditional life insurers offering retirement products with guaranteed rates of return. This was a primary driver for these insurers to reexamine their strategies and many deciding to transition away from offering such products and shifting towards fee business (e.g., unit-linked) thereby moving investment risks to policyholders. This left a large gap for persons requiring these products, simultaneously creating an opportunity for PE insurers with cross-border models to fill the void arising from their ability to apply their investment management expertise to earn higher yields in the challenging economic environment that characterised the period. Additionally, PE insurers have enabled the provision/mobilisation of additional capital to allow entity and block acquisitions, have the opportunity to reprice the insurance back book, and change the asset allocation to arguably achieve better Asset/Liability Matching (ALM) outcomes. Accordingly, PE insurers with cross-border models may be viewed as narrowing the protection gap by supplying annuity products to persons seeking to prepare for retirement by managing their investment and longevity risks. Globally, during the period of 2020 to 2022, Bermuda Life insurers paid 287 billion United Sates Dollar (USD) in claims to policyholders with Bermuda PE insurers paying 118 billion USD to policyholders for the same period. Bermuda\\'s long-term (life and annuity) insurance industry has experienced growth over the last few years. This growth has been primarily driven by demand from direct insurers or institutions using reinsurance for exposure, risk, balance sheet volatility and capital management in light of the challenging economic environment; and by an ageing population with improved mortality. The Bermuda market has also seen an increase in reinsurance of products that have a significant investment component (sometimes referred to as asset-intensive reinsurance); Bermuda firms often have better access to capital as well as significant expertise in investment and asset liability management to support this business. Asset intensive products typically have longevity risk which provides a natural hedge against the mortality risk that many reinsurers already carry. On top of that, Bermuda reinsurers have significant capacity making them better able to pool the risks from different insurers. Finally, many ceding companies in other jurisdictions take comfort in Bermuda\\'s strong regulatory framework which has full European Union (EU) Solvency II equivalence as well as reciprocal[^1]and qualified jurisdiction status by the United States (US) National Association of Insurance Commissioners (NAIC). ## Managing the Two-edged Sword\\n\\nAlthough PE insurers have contributed to narrowing the protection gap, they also present risks that regulators must be aware of and ensure that these risks are carefully monitored and managed. The participation of PE in many cases has resulted in higher yields, a more diversified investment portfolio and reduced balance sheet duration mismatch, benefiting policyholders by allowing them to collect on the financial guarantees that they were promised in their original insurance contracts and better prepared for or in retirement. PE insurers\\' access to unique expertise have allowed many to earn higher yields through investment in a higher proportion of illiquid assets. However, despite what were higher yields in a low-rate environment, in an environment of rapidly increasing interest rates, more options become available to policyholders; in the case of existing policies. This may give rise to the risk of policyholders surrendering their policies in masses (i.e., mass lapse) when faced with the prospect of higher newmoney yields elsewhere. Such mass lapses could have particularly severe consequences where illiquid assets have to be sold to cover the payments to policyholders. A number of PE insurers have adapted their products in recognition of this. According to AM Best in relation to its population of rated insurers: \"The business of PE-owned insurers are better insulated, with better surrender charges and protection and higher percentage of market value adjustment provisions than the rest of the industry.\"7 Market value adjustment provisions protect the PE insurer \"by adjusting the surrender value based upon interest rates and market conditions at the time of surrender - for example, in a high-interest rate environment, a policyholder may incur a higher surrender charge\", making surrenders less appealing. ${ }^{8}$\\n\\nNonetheless, the tendency to invest in higher proportions of illiquid assets, which are subject to valuation and concentration risks and the potential for opacity, conflicts of interest and non-arm\\'s length transactions between the PE firm and the insurer, requires special attention from regulators. Other risks often associated with PE insurers include but are not limited to:\\n\\n- Complex corporate structures\\n- More limited disclosures and visibility into the full spectrum of related parties and affiliations\\n- Potential conflict of interest which may be detrimental to policyholders due to misalignment of interest between the asset management firm and the insurer\\n- Potential weaknesses in governance and risk management\\n- Lack of insurance experience running a supervised entity\\n\\nThe potential risks associated with PE insurers are further detailed in the 2023 Global Insurance Monitoring Report of the International Association of Insurance Supervisors (IAIS) ${ }^{9}$.[^2]\\n\\nAppreciating the concerns related to PE insurers, in 2023, the NAIC announced a list of 13 considerations that were developed by its Macroprudential Working [E] Group ${ }^{10}$. The BMA fully endorses these considerations, which are aligned with the BMA\\'s supervision and regulation of PE insurers. ## Bermuda Regulatory and Supervisory Regime\\n\\nIn order to understand how the BMA regulates and supervises PE insurers, one needs to understand first how the BMA regulates and supervises (commercial) insurers, as PE insurers fall within the scope of that broad regulatory framework. Furthermore, the BMA\\'s regime provides the foundation to supervise PE insurers and then, very much like the NAIC 13 considerations, with an additional overlay of measures specifically for PE insurers or any other insurer (for that matter) that may not be PE insurer but in substance presents unique supervisory challenges. The BMA has developed over the years a robust risk-based solvency regime for the commercial sector that is appropriate to the Bermuda market\\'s nature, scale and complexity and in line with international standards as attested by international evaluations. Bermuda Insurance risk-based solvency regime was first implemented in 2008 for Property and Casualty (P\\\\&C) Insurers with the development of the Bermuda Solvency and Capital Requirement (BSCR), which was refined and expanded to long-term (life and annuity) Insurers and Insurance Groups in 2011. The regime has been subject to additional improvements over the years. The Bermuda Solvency Regime is anchored and addressed in three pillars:\\n\\n- Pillar one-Quantitative requirements\\n- Pillar two-Qualitative requirements, supervisory review process and powers\\n- Pillar three - Supervisory reporting and public disclosure\\n\\nThe BMA regime\\'s Pillar One quantitative requirements are predicated on risk-based capital requirements, an economic valuation framework of assets and liabilities, and criteria and limits for what constitutes eligible capital and surplus for regulatory purposes. The BMA\\'s capital requirements are calibrated to Tail Value-at-Risk (TVaR) at a $99 \\\\%$ confidence level over the one-year time horizon for all quantifiable material risks.',\n",
       "  'Specify the minimum documentation requirements for use of the SBA. 13. Introduce detailed SBA reporting covering a very wide range of data and assumptions. The new SBA reporting regime will provide a granular level of detail for asset and liability cashflow data, yields/spreads, liability assumptions, validation performed (e.g., sensitivity analysis, analysis of change/movement, etc.), liquidity risk metrics both under normal and stressed circumstances, model risk assessment, back-testing results, etc. 14. Additionally, the BMA continues to enhance SBA supervision with additional specialist resources to handle the above enhancements i.e., the approval process and the analysis of, and analytics on, the reported data that feeds into the SBA onsite review process. The enhanced reporting together with the addition of specialist resources also enable the BMA to perform its own projections/reviews of the SBA technical provisions and provide opinions on the level of SBA technical provisions set up by the supervised firms. The BMA notes that the above enhancements will likely have a significant quantitative impact on the Bermuda market. Firms will have to make a considerable investment (e.g., governance, model risk management, systems, reporting, people, etc.) in order to qualify to use the SBA and pass the ongoing more intrusive supervisory approach and standards. ## Cross-border Reinsurance to Explore Regulatory Differences Between Jurisdictions\\n\\nSome stakeholders have raised concerns about PE insurers using cross-border reinsurance to explore regulatory differences between jurisdictions namely in the area of technical provisions and/or capital requirements, jointly usually referred as total asset requirements. It is important to note that no two insurance solvency regimes are exactly the same and for good reasons because they should be appropriate to the nature, scale and complexity of the risks borne in the respective markets. The Bermuda market is a global reinsurance market and its regulatory regime should be fit for purpose for it. While distinct from the US and EU regulatory regimes, the Bermuda regulatory regime aims to be equivalent on an outcome basis to them and compliant with the IAIS Insurance Core principles. As mentioned several times in this paper, Bermuda has been deemed Fully Solvency II equivalent and NAIC Qualified and Reciprocal Jurisdiction status and is subject to periodical monitoring and assessment of such status. Ultimately, the expected result of the supervisory and regulatory enhancements will provide a higher level of policyholder protection (including higher total asset\\nrequirements). As part of this effort, Bermuda continues to provide an equivalent level of policyholder protection to the US and EU regimes. It is also important to note that if and when market participants try to explore regulatory differences, there are a number of regulatory and supervisory tools aimed at preventing, detecting and correcting such practices. In addition to a mutual recognition regulatory and supervisory process, compliance with IAIS standards, exchange of information through supervisory colleges and regulator-to-regulator requests, prior approval of life reinsurance transactions also serves to mitigate this risk. As mentioned above, the BMA requires prior approval of all long-term block reinsurance transactions and, in this process, includes a comprehensive set of information ${ }^{16}$, including the total asset requirement under both the BMA and cedent regulatory basis. This information facilitates the processing of the applications and discussions with the cedent regulator. This process allows both the BMA and the cedent\\'s regulator to evaluate the transaction. In the event either the BMA or cedent\\'s regulator concludes that the Bermuda reinsurer is not assigning adequate capital to support the ceded risk, the Authority will either decline the transaction or apply a capital add-on. The BMA would not approve a transaction that does not meet the minimum BMA approval requirements and/or is not supported by the cedent\\'s regulator. ## Conclusion\\n\\nPE insurers have seen material growth over the last few years fuelled by the global economic environment and demographic trends which resulted in an increase in the pensions and savings protection gap. While PE insurers are contributing to the reduction of this protection gap, bringing fresh capital to an industry that needs it and additional investment expertise, they are also accompanied by a number of significant risks that should be appropriately identified, supervised and addressed. These risks may include conflict of interest, inappropriate risk management and culture, inappropriate governance arrangements, excessive risk-taking on the asset side, potentially weak ALM and heightened exposure to liquidity and investment concentration and asset valuation issues and inadequate capital management, among other risks. Bermuda is home to several PE insurers and PE insurance groups and has been supervising this business model since 2008. The BMA\\'s risk-based regime which has EU Solvency II full equivalence and US NAIC Reciprocal and Qualified Jurisdiction status and is compliant with the insurance core principles of the IAIS, providing a strong foundation. In addition, very much like the NAIC 13 considerations, an additional overlay of measures specifically for PE insurers, which include: enhanced and bespoke due-diligence at licensing stage; effective, transparent and robust cooperation and information sharing with regulators of ceding companies; intensified supervisory engagement, including in-depth and intrusive onsite reviews with a heightened focus on investment policy and strategy, liquidity and ALM, risk management, governance and solvency; tailored asset reporting,[^6]recovery and resolution frameworks with an extensive range of powers of intervention and supervisory measures. Of particular importance are the supervisory enhancements that have been in-force since January 2023, namely the prior approval of all block reinsurance transactions, the prior approval of the SBA for new entities and liquidity stress testing (first reporting effective December 2023). Several in-depth SBA and investment onsite reviews, including jointly with college regulators where applicable, have been carried out by the BMA over 2022 and 2023 for existing entities particularly tailored to the application of the prudent person principle and use of illiquid assets. Equally important are the regulatory enhancements coming into force on 31 March 2024 relating to use of the SBA, approval of structured, affiliated and connected assets, prescribed default and downgrade costs as well as increased risk sensitivity on the lapse risk capital requirements. These enhancements will further strengthen ALM, balance sheet resilience, application of the prudent person principle and liquidity risk management all of which are core to the management and supervision of risks on the balance sheet of long-term PE insurers. The Authority has identified and provided supervisory and regulatory responses to a number of PEspecific challenges around the structure of cross-border transactions and the arm\\'s length nature of these, conflicts of interest, investment in illiquid assets and compliance with the prudent person principle, lapse risk and the valuation of technical provisions and regulatory differences. Finally, the BMA will continue to monitor trends and market developments, including evolving risks and business models around PE insurers. The BMA will continuously assess the adequacy of existing regulatory tools and perform additional changes if and when deemed appropriate, following due process. [^0]:    ${ }^{1}$ In this paper, unless otherwise stated, \"insurer\" and \"insurers\" also refers \"reinsurer\" and \"reinsurers\". ${ }^{2}$ Life (re)insurance in the Bermuda regime is denominated Long-term (re)insurance, hereafter both terms will be used interchangeably. 3 \"Global protection gaps and recommendations for bridging them\", March 2023.',\n",
       "  '${ }^{4}$ Ibid. 5 \"The pension gap, as defined by the Geneva Association, is the difference between the present value of the yearly lifetime income needed to sustain a reasonable standard of living (estimated to be $65-70 \\\\%$ of income) and the actual amount saved for retirement plus the present value of pay-as-you-go (PAYG) contributions over 40 years.\"\\n\\n[^1]:    ${ }^{6}$ Reinsurance Advisory Board, \"The power of reinsurance\". The Power of Reinsurance (insuranceeurope.eu)\\n\\n[^2]:    ${ }^{7}$ AM Best Special Report \"Private Equity and Investment Managers Continue to Enter Life/Annuity Market\", December 7, 2023.',\n",
       "  '4.2.1. Meet enhanced BMA reporting requirements on SBA, Lapse and Liquidity. 3. Continue capping the yield on assets acceptable on a limited basis including refining the capping approach further supported by enhanced disclosure/reporting of yields/spreads for every asset at CUSIP-level. 4. Requirement that SBA modelling should reflect the prudent running of the business and be aligned with actual business practices in line with the spirit of the SBA, i.e., cashflow matching, as an example, explicitly disallows the selling of illiquid assets to meet liability cashflows, disallow fungibility across subsidiaries and non-fungible blocks. 5. Separate identification and reporting of assets backing the SBA best estimate liability and requirement that such assets shall not be used for any other purpose other than meeting\\npolicyholder liabilities. This is in addition to the ring-fencing requirement that exists as part of the funds withheld and ModCo reinsurance arrangements.',\n",
       "  'Assets and liabilities are measured consistently according to the Economic Balance Sheet (EBS) framework - an economic valuation framework.',\n",
       "  '# Supervision and Regulation of PE Insurers in Bermuda \\n\\nContents\\nExecutive Summary/Foreword ..... 2\\nIntroduction ..... 3\\nGrowth of PE Insurers in the Provision of Retirement Protection ..... 4\\nManaging the Two-edged Sword ..... 5\\nBermuda Regulatory and Supervisory Regime ..... 6\\nSupervision of PE Insurers. .....',\n",
       "  'The SBA allows the spreads of eligible assets to be used in the valuation of insurance liabilities subject to a number of prudential guardrails, limits and ALM tests and is subject to approval. At a minimum, the liabilities should be demonstrated to have predictable and stable cashflows across a range of scenarios and be matched with suitable fixed-income assets that produce predictable and stable cashflows. Where a mismatch exists, the SBA assigns an explicit cost by running the calculation through eight alternative interest rate scenarios and picking the worst of the eight scenarios to determine the Best Estimate Liability (BEL). ## Foundational Elements of a Long-term Insurer\\'s Balance Sheet and Use of the SBA\\n\\nLong-term insurers have to manage their assets in the context of their liabilities i.e., ALM. Meeting minimum capital requirements alone is not enough for long-term insurers to weather the vagaries and shocks of the financial world over the life of the liabilities they hold. The BMA views (1) liquidity, (2) robust ALM and (3) capital and solvency applied in a strong governance and risk management framework as important foundations for managing a long-term insurer\\'s balance sheet. The BMA\\'s approach to the supervision of liquidity is covered elsewhere in this paper. The illustrative example below is provided to show the importance of taking a holistic approach when looking at capital, solvency and ALM, more so for PE insurers:\\n\\nIllustrative example:\\n\\nAssumptions: $1 \\\\%$ shock decrease in interest rates, asset duration is 14, BEL duration is 20. |  | \\\\$million <br> Before Shock | \\\\$million <br> After 1\\\\% Shock |\\n| :--- | :--- | :--- |\\n| Best Estimate Liability (BEL) | 10,000 | 12,000 |\\n| Risk Margin | 300 | 360 |\\n| Technical Provisions(TP) | $\\\\mathbf{1 0 , 3 0 0}$ | $\\\\mathbf{1 2 , 3 6 0}$ |\\n|  |  |  |\\n| Assets | $\\\\mathbf{1 1 , 1 0 0}$ | $\\\\mathbf{1 2 , 6 5 4}$ |\\n| Capital and Surplus | 800 | 294 |\\n| Capital Requirement (BSCR) | 500 | 569 |\\n| Solvency Ratio | $\\\\mathbf{1 6 0 \\\\%}$ | $\\\\mathbf{5 2 \\\\%}$ |\\n| Excess Capital and Surplus | 300 | $(275)$ |\\n\\nThe illustrative example shows an insurer with a starting solvency ratio of $160 \\\\%$ and weak assetliability matching as seen in the differences in duration (i.e., 14 years for assets, 20 years for liabilities). Looking at capital and solvency alone, the example insurer appears to be well-capitalised. Indeed, it has excess capital of $\\\\$ 300$ million which can be argued could compensate for some of the ALM weaknesses observed here. However, after a $1 \\\\%$ interest rate shock the solvency position drops to $52 \\\\%$ - i.e., a drop of 108 percentage points. For this example insurer, the solvency position is exposed to significant volatility due to a weak ALM position. A $1 \\\\%$ decrease in interest rates alone wipes out $63 \\\\%$ of the capital and surplus in this case. Thus, while there was an excess capital buffer at the start of $\\\\$ 300$ million, this alone was not enough to mitigate the impact of changes in interest rates. This impact would be more elevated at higher shocks as it manifests itself in a non-linear fashion and holding even more excess capital is unlikely to solve the root of the problem. This example shows that excess capital buffers by themselves are not sufficient to manage the risks long-term insurers\\' balance sheets are exposed to. The solution is to mitigate and monitor the risk of movements in interest rates at the source through robust asset-liability matching. The SBA is the BMA\\'s regulatory tool that not only ensures that insurers are resilient to risks driven by balance sheet mismatches but that this resilience is achieved in a sustainable manner by addressing the problem at the root source i.e., matching assets and liabilities. Under the BMA framework, insurers cannot use higher levels of capital alone to demonstrate resilience. The SBA not only allows the BMA as a regulator to obtain concrete visibility into insurers\\' ALM practices but also imposes the ALM discipline into an insurer\\'s \\'DNA\\' through the regulatory reserving process. It is in this vein, that the SBA is used for reserving. Insurers using the SBA are required to have a high degree of matching for all asset-liability portfolios for which the SBA is proposed to be used. Thus, by design, the SBA is a robust regulatory reserving and ALM tool. The ALM discipline is enforced through the stringent emphasis on cashflow matching i.e., insurers, by design of the SBA, are forced to demonstrate that for every liability cashflow to be paid out throughout the projection period for which the liabilities will be held, there is a matching stable and predictable asset cashflow. A significant proportion of such asset cashflow must be generated from high-quality investment grade fixedincome assets - the cashflows cannot be generated from the sale of illiquid assets. In short, unlike reserving through the simple discounting of liability cashflows which does not factor in ALM (i.e., only projects liability cashflows but not asset cashflows), the SBA enforces asset-liability matching by the amount, nature and timing of cashflows at all future points. It is in this way that the SBA mitigates the risk arising in the illustrative example above. Within the BMA\\'s regulatory framework, this demonstration of matching must be met both under the base scenario and through eight alternative interest rate scenarios, i.e., the SBA, again by design, accepts that there is no single truth about the future of interest rates (hence discount curves) and reflects this uncertainty and its potential impact on asset and liability cashflows in the BEL calculation. Where a mismatch exists, because of asset and liability cashflow dynamics, the SBA assigns an explicit cost by picking the worst of the eight scenarios to determine the BEL. Over the past two years, Bermuda insurers using the SBA have withstood even higher interest rate shocks than those shown in the illustrative example above. As part of its supervisory process, the Authority carries out several assessments, which include requiring insurers to demonstrate the degree of matching quantitatively and qualitatively for the insurer\\'s existing asset and liability portfolios for which the SBA is used or proposed to be used. While the BMA believes that the cornerstones of the SBA are sound, it has proposed a number of enhancements as referred in the \"Bermuda Regulatory and Supervisory regime\" section. As mentioned previously, the substance of the changes has been finalised and the impact of these changes is material for life and annuity insurers. The changes will come into force on 31 March 2024. The enhancement changes to the SBA will make it more restrictive and only available to insurers that can demonstrate robust risk management of their asset-liability portfolios. The changes include, but are not limited to:\\n\\n1. Requiring prior approval to use the SBA for Best Estimate Liability (BEL) calculation. This is an intrusive and detailed process. It includes review and approval of SBA model calculations, key assumptions, stability of asset and liability cashflows, stress tests (rating downgrade and mass lapse), liquidity plans and risk management infrastructure among many other things. 1.1. New Entities that want to use the SBA - BMA approval will be required by default as part of the licensing process. 2.1. Existing entities not using the SBA - these will be required to obtain BMA approval prior to using the SBA. 3.1. Existing entities already using the SBA - these will be subject to ongoing, tailored indepth BMA review of their models. Several in-depth SBA model reviews have been carried out in 2022 and 2023 for existing entities and these in substance, achieve the same objectives as SBA approval for new entities. Any material changes will require BMA approval. New block transactions will require BMA approval. The scope of this approval will include (but not limited to) transaction-specific SBA review, if applicable.',\n",
       "  '6. Prescribed defaults and downgrade costs for asset classes where data is available. Prudent company-specific assumptions with BMA approval and oversight for other asset classes.'],\n",
       " 'uris': None,\n",
       " 'data': None}"
      ]
     },
     "execution_count": 18,
     "metadata": {},
     "output_type": "execute_result"
    }
   ],
   "source": [
    "collection.get(\n",
    "    where={\"source\": \"2023_BMA-Supervision-and-Regulation-of-Private-Equity-Insurers.pdf\"}\n",
    ")"
   ]
  },
  {
   "cell_type": "code",
   "execution_count": null,
   "id": "d9f5264a",
   "metadata": {},
   "outputs": [],
   "source": [
    "collection.delete(\n",
    "    #ids=[\"id1\", \"id2\", \"id3\",...],\n",
    "    where={\"source\": \"VA_PN_Supplement_Exposure_Draft.pdf\"}\n",
    ")"
   ]
  },
  {
   "cell_type": "markdown",
   "id": "f66a6a9c",
   "metadata": {},
   "source": [
    "# Rename process"
   ]
  },
  {
   "cell_type": "code",
   "execution_count": 71,
   "id": "d1410cdb",
   "metadata": {},
   "outputs": [
    {
     "name": "stdout",
     "output_type": "stream",
     "text": [
      "['0155bc1d-6072-42dd-9eeb-f9fa8963e64a', '01e9a1cd-8fd3-4862-8da9-fa5c289478e2', '027ea317-f4cf-48cd-91fc-6fe941f13c1b', '02a1588f-e491-41df-8092-0e204ff7b6bd', '04eac448-61a0-4a52-97ec-c69456610fcc', '094efb4a-5ad4-43fa-b567-870f57ae6483', '0fa8c66a-2009-403b-8d0e-6a497177aefa', '16f97770-a6b1-47b5-994f-01401ac1900a', '18bdc3dc-58cc-4888-bfb8-7db46ab0a6cc', '1ac0c827-d089-48b4-8ee9-427239ee000b', '1d51fd56-722a-4dee-bc70-f768663e345f', '210e0a7d-8421-4461-9232-542d48872a23', '21dc59bd-8735-4f43-a69d-061a0799b092', '22c0eb0f-6ec5-4a54-b47c-3f3f58a7befd', '247ade0b-393b-4125-8ca7-ab66bcf1aa55', '24b15100-ee14-403a-bccd-912797e43dc4', '28eba040-ec18-440b-becf-5f189c9040d9', '293b4d74-6dc5-47e8-a1a4-8ea10d1a0f40', '297163cf-690d-4340-aa70-a38d69f19fcd', '2d080af5-9e66-423b-8661-1a59053f2de7', '323b78dd-bc3e-49cd-a1f4-993b49bbd2ae', '32e39474-f1d0-48e7-b659-b99b2fdc8f81', '3721f475-26dc-4b34-b8be-f04f2eda5696', '3861152c-fb17-4dc7-833c-3bf91f6c1aec', '42d7ca09-3fc5-4391-981d-6c9c19c337e6', '4553acf5-af7e-4d80-8c18-15ca1a5212cb', '48234c61-9bb3-4890-8bff-1476f13dd2b0', '4d7e9bb4-9da4-43f3-80c1-a0a6eff3a2d8', '4de0fb6c-b930-4079-90a5-da7f1ceea8b7', '4e8368f2-d966-4464-9593-2bf6dfc3bb79', '4f4e49f9-57c8-4ba5-8217-7ed7cb03c96b', '55b52066-2a3a-4fc2-a6b1-91f04adcc388', '58c87d98-4deb-4ecc-915b-57aa8200bb56', '5bb22974-25f1-4bcb-a2f4-b27802f75f84', '5d94d8ad-1b58-4dc6-acac-dd3a3ff057d3', '66c178e2-f705-42fa-a3b1-275e6c193e7e', '67b817db-68cf-4cad-bf2e-16ba1faa9059', '6d86763a-3cbd-426f-a948-460275c26d2b', '77fe27a0-690b-4c8d-8c66-d44e6a3030d2', '7cefa333-e682-406e-b2e7-22ef0b398462', '81ba03b7-7d2e-4c5d-a1f5-7866ee93e8e5', '866cffb4-dba8-4903-91c8-5b68df2bb9bc', '882e1b04-2665-4fc3-bb26-3d6070e310a8', '8b8fce4d-9a69-48df-b635-1d5f6cf34989', '90820b9d-573c-46c3-a7e6-e21bba58b7cf', '91782884-c010-4c8a-928e-4d3ac2d63547', '978d3e71-6ad2-4fe0-aa3e-30829201339e', '97ee5ea5-a3fc-4c88-b1c9-bccea65818d2', '9d29f14e-5341-4f7a-8de4-de7fe5a625fa', '9fae1d4f-3042-4328-9ead-1f6901a12aa2', 'a3895f41-d7ce-4787-983c-c93ce11ffd56', 'a4e451e6-cd92-4c8b-ac1e-9b43fc3ceb29', 'a62dc965-bf28-439a-bef9-265faf97f549', 'a7cc9b3e-9e25-413a-ba6a-edee2af6c7de', 'a8bc19a6-a93f-4075-aae9-220838899d31', 'ab8a838c-4589-4883-b055-95bc43507828', 'ad9c58f4-ae93-4768-8534-5b7b0328dc3c', 'ae847180-d08b-45d1-9447-710c637f4223', 'b3af1925-f47e-4208-82e7-40d6914f2c46', 'b4cea972-603d-4702-964d-3e2cbee36281', 'b7947451-0d03-4e03-b769-4e4bdda183ea', 'bb2a62b0-83d5-4c67-9dd9-9359e546341c', 'bb739158-b3cb-4b02-8b5b-a5d0e957ded1', 'bcba9c6d-0a70-4815-91f8-6c2d393bf6c2', 'bd515c09-51a3-4fd6-a541-15fb8fd04309', 'be88f446-15d4-4539-a818-c58b36e6a9b8', 'bf944d49-c32e-48f6-808a-4730ed15f468', 'c0fb5515-8480-4382-a6e1-a7741fc12dd9', 'c778484a-ae48-4186-8351-a3127be025e5', 'd3f4ec87-ff77-4c64-9f6a-bb4ff4926a37', 'd73094b2-2a9c-47d6-bc8b-09f5bf2c765e', 'd7eda026-0f35-486c-9fa3-aee4f3eb5c5f', 'ddae40e5-7b03-4f38-a0c6-9ee58de35b35', 'e19da3f1-2303-4f56-b0c7-f1d97e1c56fb', 'e1bf41dc-eda9-49f1-97ce-ff9357f4e87f', 'e639a589-210e-4c49-9342-a401e00067e5', 'e6f0f082-e811-4952-a8a3-38def75866e4', 'e72cd84c-8852-4e33-8c66-2ddcb7c5a2ed', 'e9f2210d-18df-442d-95cf-eb8db5cdb8f7', 'ebd28711-eba2-4051-8579-02f3852da9d2', 'ef18539a-3342-4909-a6d6-fc32f4288885', 'f1f8970d-fe6b-48ff-a546-2dd6778fed45', 'f917f3df-6865-4c0f-b1c9-1fad084e97d9', 'fb41ee33-dbf9-4a31-b3af-f50a21a2d96a', 'fc4f93ad-6108-47e6-825c-d1fa71831311']\n"
     ]
    }
   ],
   "source": [
    "# Rename process\n",
    "folder_name = \"VM22\"\n",
    "old_file_name = \"VM-22 Subgroup Draft July 2023 Clean.pdf\"\n",
    "new_file_name = \"202307-NAIC-VM-22 Subgroup Draft.pdf\"\n",
    "\n",
    "# Chroma DB update\n",
    "collection = client.get_collection(name=folder_name)\n",
    "results = collection.get(where={\"source\": old_file_name})\n",
    "ids_to_update = results['ids']\n",
    "print(ids_to_update)\n",
    "new_metadatas = [{\"source\": new_file_name} for _ in ids_to_update]\n",
    "collection.update(ids=ids_to_update, metadatas=new_metadatas)\n"
   ]
  },
  {
   "cell_type": "code",
   "execution_count": 72,
   "id": "69c56113",
   "metadata": {},
   "outputs": [],
   "source": [
    "\n",
    "# json file summary update\n",
    "with open('summary.json', 'r') as f:\n",
    "    data = json.load(f)\n",
    "# Update the existing data with the new key-value pair\n",
    "data[new_file_name] = data.pop(old_file_name)\n",
    "\n",
    "with open('summary.json', 'w') as f:\n",
    "    json.dump(data, f, indent=4)\n"
   ]
  },
  {
   "cell_type": "code",
   "execution_count": 73,
   "id": "aad6806d",
   "metadata": {},
   "outputs": [
    {
     "name": "stdout",
     "output_type": "stream",
     "text": [
      "Skipping MD file rename: data/md/VM22/VM-22 Subgroup Draft July 2023 Clean.md does not exist.\n"
     ]
    }
   ],
   "source": [
    "\n",
    "# md and pdf file update\n",
    "# Construct the paths to the folders\n",
    "md_folder = os.path.join(\"data/md\", folder_name)\n",
    "pdf_folder = os.path.join(\"data/pdf\", folder_name)\n",
    "\n",
    "# Construct the old and new file paths\n",
    "old_file_name_md = old_file_name.replace(\".pdf\", \".md\")\n",
    "new_file_name_md = new_file_name.replace(\".pdf\", \".md\")\n",
    "old_md_path = os.path.join(md_folder, old_file_name_md)\n",
    "new_md_path = os.path.join(md_folder, new_file_name_md)\n",
    "\n",
    "# Check if the old MD file exists before renaming\n",
    "if os.path.exists(old_md_path):\n",
    "    # Rename the MD file\n",
    "    os.rename(old_md_path, new_md_path)\n",
    "else:\n",
    "    print(f\"Skipping MD file rename: {old_md_path} does not exist.\")\n",
    "\n",
    "# Construct the old and new file paths\n",
    "old_pdf_path = os.path.join(pdf_folder, old_file_name)\n",
    "new_pdf_path = os.path.join(pdf_folder, new_file_name)\n",
    "\n",
    "# Rename the file\n",
    "os.rename(old_pdf_path, new_pdf_path)"
   ]
  },
  {
   "cell_type": "code",
   "execution_count": null,
   "id": "92954856",
   "metadata": {},
   "outputs": [],
   "source": []
  }
 ],
 "metadata": {
  "kernelspec": {
   "display_name": "ValAct_RAG",
   "language": "python",
   "name": "python3"
  },
  "language_info": {
   "codemirror_mode": {
    "name": "ipython",
    "version": 3
   },
   "file_extension": ".py",
   "mimetype": "text/x-python",
   "name": "python",
   "nbconvert_exporter": "python",
   "pygments_lexer": "ipython3",
   "version": "3.12.2"
  }
 },
 "nbformat": 4,
 "nbformat_minor": 5
}
