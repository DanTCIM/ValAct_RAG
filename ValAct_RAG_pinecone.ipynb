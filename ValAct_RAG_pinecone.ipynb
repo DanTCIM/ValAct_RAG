{
 "cells": [
  {
   "cell_type": "markdown",
   "id": "57226901",
   "metadata": {},
   "source": [
    "# Converting the PDF files into vector database"
   ]
  },
  {
   "cell_type": "markdown",
   "id": "7f7c8d88",
   "metadata": {},
   "source": [
    "# 1. Initial setup"
   ]
  },
  {
   "cell_type": "markdown",
   "id": "86986402",
   "metadata": {},
   "source": [
    "## 1.1 Imports\n",
    "This setup includes loading environment variables from a `.env` file, setting the required environment variables, and importing the necessary modules for further processing. It ensures that the code has access to the required APIs and functions for the subsequent tasks."
   ]
  },
  {
   "cell_type": "code",
   "execution_count": 8,
   "id": "06fc759e",
   "metadata": {},
   "outputs": [],
   "source": [
    "# Initial imports\n",
    "from dotenv import load_dotenv\n",
    "import glob\n",
    "import os\n",
    "from IPython.display import display, Markdown\n",
    "import chromadb\n",
    "import json\n",
    "\n",
    "# Load the variables from .env file and set the API key (or user may manually set the API key)\n",
    "load_dotenv()  \n",
    "\n",
    "os.environ[\"OPENAI_API_KEY\"] = os.getenv('OPENAI_API_KEY')\n",
    "os.environ[\"ANTHROPIC_API_KEY\"] = os.getenv('ANTHROPIC_API_KEY')\n",
    "os.environ[\"MATHPIX_API_ID\"] = os.getenv('MATHPIX_API_KEY')\n",
    "os.environ[\"PINECONE_API_KEY\"] = os.getenv('PINECONE_API_KEY')\n",
    "pinecone_api_key = os.getenv('PINECONE_API_KEY')\n",
    "import openai\n",
    "\n",
    "# Langchain framework\n",
    "from langchain import hub\n",
    "from langchain_community.vectorstores import Chroma\n",
    "from langchain_core.output_parsers import StrOutputParser\n",
    "from langchain_core.runnables import RunnablePassthrough\n",
    "from langchain_core.runnables import RunnableParallel # for RAG with source\n",
    "from langchain_core.prompts import ChatPromptTemplate\n",
    "from langchain_openai import ChatOpenAI, OpenAIEmbeddings\n",
    "from langchain_anthropic import ChatAnthropic\n",
    "from langchain_experimental.text_splitter import SemanticChunker\n",
    "from langchain.text_splitter import RecursiveCharacterTextSplitter\n",
    "from langchain_text_splitters import MarkdownHeaderTextSplitter\n",
    "from langchain_pinecone import PineconeVectorStore\n",
    "from pinecone import Pinecone\n",
    "\n",
    "## The following loaders are used for options\n",
    "from langchain_community.document_loaders import UnstructuredMarkdownLoader\n",
    "from langchain_community.document_loaders import PyPDFium2Loader\n",
    "from langchain_community.document_loaders import PyMuPDFLoader\n",
    "from langchain_community.document_loaders import TextLoader\n",
    "from langchain_community.document_loaders import UnstructuredFileLoader\n",
    "from langchain_community.document_loaders import MathpixPDFLoader\n",
    "from langchain_community.document_loaders import PDFMinerLoader\n",
    "from langchain.document_loaders import PyPDFLoader"
   ]
  },
  {
   "cell_type": "markdown",
   "id": "84652248",
   "metadata": {},
   "source": [
    "## 1.2 Initial variable setup"
   ]
  },
  {
   "cell_type": "code",
   "execution_count": 9,
   "id": "35630ca8-a707-4445-b8a2-661fe3312d8b",
   "metadata": {},
   "outputs": [],
   "source": [
    "## Initial variable setup\n",
    "embeddings_model = OpenAIEmbeddings(model=\"text-embedding-3-large\")\n",
    "\n",
    "USE_Anthropic = True\n",
    "\n",
    "if USE_Anthropic:\n",
    "    llm = ChatAnthropic(model_name=\"claude-3-sonnet-20240229\", temperature=0)\n",
    "else:\n",
    "    llm = ChatOpenAI(model_name=\"gpt-3.5-turbo\", temperature=0) # context window size 16k for GPT 3.5 Turbo"
   ]
  },
  {
   "cell_type": "markdown",
   "id": "b04673e4",
   "metadata": {},
   "source": [
    "# 2. Load PDF files and convert to a vector DB"
   ]
  },
  {
   "cell_type": "markdown",
   "id": "902bc784",
   "metadata": {},
   "source": [
    "## 2.1 Define functions (basic)"
   ]
  },
  {
   "cell_type": "code",
   "execution_count": 4,
   "id": "3c3b91d1",
   "metadata": {},
   "outputs": [],
   "source": [
    "# Define a function to load and extract text from PDFs in a folder\n",
    "def get_file_name(source_path):\n",
    "    return source_path.split('/')[-1]\n",
    "\n",
    "def load_pdfs_from_folder(folder_path, loader_option):\n",
    "    # Get a list of PDF files in the specified folder\n",
    "    pdf_files = glob.glob(f\"{folder_path}/*.pdf\")\n",
    "    docs = []\n",
    "    for pdf_file in pdf_files:\n",
    "        file_name = get_file_name(pdf_file)\n",
    "        \n",
    "        if loader_option == 1:\n",
    "            # Load the PDF file using the PyPDFLoader\n",
    "            loader = PyPDFLoader(pdf_file)\n",
    "        elif loader_option == 2:\n",
    "            # PyPDFium2Loader is known to be faster than PyPDFLoader\n",
    "            loader = PyPDFium2Loader(pdf_file)\n",
    "        elif loader_option == 3:\n",
    "            # PyMuPDFLoader is known to be general purpose, rich metadata\n",
    "            loader = PyMuPDFLoader(pdf_file)\n",
    "        elif loader_option == 4:\n",
    "            # Allows automated concatenate pages\n",
    "            loader = PDFMinerLoader(pdf_file, concatenate_pages=True)\n",
    "        \n",
    "        loaded_docs = loader.load()\n",
    "        \n",
    "        for doc in loaded_docs:\n",
    "            doc.metadata['source'] = file_name\n",
    "        \n",
    "        docs.extend(loaded_docs)\n",
    "    return docs\n",
    "\n",
    "def pdf_to_md(folder_path, download_path, loader_option):\n",
    "    # Get a list of PDF files in the specified folder\n",
    "    pdf_files = glob.glob(f\"{folder_path}/*.pdf\")\n",
    "    for pdf_file in pdf_files:\n",
    "        file_name = get_file_name(pdf_file)\n",
    "        base_name = file_name.replace('.pdf', '')\n",
    "        \n",
    "        if loader_option == 1:\n",
    "            # Load the PDF file using the PyPDFLoader\n",
    "            loader = PyPDFLoader(pdf_file)\n",
    "        elif loader_option == 2:\n",
    "            # PyPDFium2Loader is known to be faster than PyPDFLoader\n",
    "            loader = PyPDFium2Loader(pdf_file)\n",
    "        elif loader_option == 3:\n",
    "            # PyMuPDFLoader is known to be general purpose, rich metadata\n",
    "            loader = PyMuPDFLoader(pdf_file)\n",
    "        elif loader_option == 4:\n",
    "            # Allows automated concatenate pages\n",
    "            loader = PDFMinerLoader(pdf_file, concatenate_pages=True)\n",
    "        elif loader_option == 5:\n",
    "            # Use Mathpix OCR to load formula, tables\n",
    "            # may be slower, but higher quality than all above\n",
    "            # Require Mathpix API ID - 3 cents per pdf page\n",
    "            loader = MathpixPDFLoader(pdf_file)\n",
    "        \n",
    "        loaded_docs = loader.load()\n",
    "        \n",
    "        for i, doc in enumerate(loaded_docs):\n",
    "            doc.metadata['source'] = file_name\n",
    "            if loader_option > 3:\n",
    "                md_file_name = f\"{download_path}/{base_name}.md\"\n",
    "            else:\n",
    "                md_file_name = f\"{download_path}/{base_name}{i+1:03d}.md\"\n",
    "            with open(md_file_name, 'w', encoding='utf-8') as md_file:\n",
    "                md_file.write(doc.page_content)\n",
    "\n",
    "def load_mds_from_folder(folder_path):\n",
    "    # Get a list of md files in the specified folder\n",
    "    md_files = glob.glob(f\"{folder_path}/*.md\")\n",
    "    docs = []\n",
    "    for md_file in md_files:\n",
    "        file_name = get_file_name(md_file)\n",
    "        base_name = file_name.replace('.md', '')\n",
    "        pdf_file_name = f\"{base_name}.pdf\"\n",
    "        \n",
    "        loader = UnstructuredMarkdownLoader(md_file)\n",
    "        loaded_docs = loader.load()\n",
    "        \n",
    "        for doc in loaded_docs:\n",
    "            doc.metadata['source'] = pdf_file_name\n",
    "        \n",
    "        docs.extend(loaded_docs)\n",
    "    return docs\n",
    "\n"
   ]
  },
  {
   "cell_type": "markdown",
   "id": "7035ac58",
   "metadata": {},
   "source": [
    "## 2.2 Function to split MD files based on headers"
   ]
  },
  {
   "cell_type": "code",
   "execution_count": 361,
   "id": "d36cbf32",
   "metadata": {},
   "outputs": [],
   "source": [
    "# def split_mds_from_folder(folder_path, IsSemantic=False, chunk_size_input=2000, breakpoint_threshold_type_input=\"standard_deviation\", breakpoint_threshold_amount_input=3):\n",
    "#     # Get a list of md files in the specified folder\n",
    "#     md_files = glob.glob(f\"{folder_path}/*.md\")\n",
    "#     all_splits = []\n",
    "#     headers_to_split_on = [\n",
    "#         (\"#\", \"Header 1\"),\n",
    "#         (\"##\", \"Header 2\"),\n",
    "#         (\"###\", \"Header 3\"),\n",
    "#     ]\n",
    "#     markdown_splitter = MarkdownHeaderTextSplitter(\n",
    "#         headers_to_split_on=headers_to_split_on, \n",
    "#         strip_headers=False,\n",
    "#     )\n",
    "#     for md_file in md_files:\n",
    "#         file_name = get_file_name(md_file)\n",
    "#         base_name = file_name.replace('.md', '')\n",
    "#         pdf_file_name = f\"{base_name}.pdf\"\n",
    "        \n",
    "#         loader = TextLoader(md_file)\n",
    "#         loaded_docs = loader.load()\n",
    "#         # MD splits\n",
    "#         md_header_splits = markdown_splitter.split_text(loaded_docs[0].page_content)\n",
    "#         # Char-level splits or semantic splits\n",
    "#         if IsSemantic:\n",
    "#             text_splitter = SemanticChunker(\n",
    "#                 embeddings=embeddings_model,\n",
    "#                 breakpoint_threshold_type = breakpoint_threshold_type_input,\n",
    "#                 breakpoint_threshold_amount = breakpoint_threshold_amount_input,\n",
    "#             )\n",
    "#         else:\n",
    "#             chunk_size = chunk_size_input\n",
    "#             chunk_overlap = 50\n",
    "#             text_splitter = RecursiveCharacterTextSplitter(\n",
    "#                 chunk_size=chunk_size, \n",
    "#                 chunk_overlap=chunk_overlap\n",
    "#             )\n",
    "\n",
    "#         # Split\n",
    "#         splits = text_splitter.split_documents(md_header_splits)\n",
    "#         for split in splits:\n",
    "#             split.metadata['source'] = pdf_file_name\n",
    "#         all_splits.extend(splits)\n",
    "        \n",
    "#     return all_splits\n"
   ]
  },
  {
   "cell_type": "markdown",
   "id": "2ae319da",
   "metadata": {},
   "source": [
    "## 2.2-Updated Split MD files based on headers and on condition"
   ]
  },
  {
   "cell_type": "code",
   "execution_count": 10,
   "id": "8f9da2a5",
   "metadata": {},
   "outputs": [],
   "source": [
    "def split_mds(folder_path, IsSemantic=False, chunk_size_input=3000, breakpoint_threshold_type_input=\"standard_deviation\", breakpoint_threshold_amount_input=3):\n",
    "    # Get a list of md files in the specified folder\n",
    "    md_files = glob.glob(f\"{folder_path}/*.md\")\n",
    "    all_splits = []\n",
    "    headers_to_split_on = [\n",
    "        (\"#\", \"Header 1\"),\n",
    "        (\"##\", \"Header 2\"),\n",
    "        (\"###\", \"Header 3\"),\n",
    "        (\"####\", \"Header 4\"),\n",
    "        (\"#####\", \"Header 5\"),\n",
    "    ]\n",
    "    markdown_splitter = MarkdownHeaderTextSplitter(\n",
    "        headers_to_split_on=headers_to_split_on, \n",
    "        strip_headers=False,\n",
    "    )\n",
    "    for md_file in md_files:\n",
    "        file_name = get_file_name(md_file)\n",
    "        base_name = file_name.replace('.md', '')\n",
    "        pdf_file_name = f\"{base_name}.pdf\"\n",
    "        \n",
    "        loader = TextLoader(md_file)\n",
    "        loaded_docs = loader.load()\n",
    "        # MD splits\n",
    "        md_header_splits = markdown_splitter.split_text(loaded_docs[0].page_content)\n",
    "        \n",
    "        for doc in md_header_splits:\n",
    "            if len(doc.page_content) > 4000:\n",
    "                # Char-level splits or semantic splits\n",
    "                if IsSemantic:\n",
    "                    text_splitter = SemanticChunker(\n",
    "                        embeddings=embeddings_model,\n",
    "                        breakpoint_threshold_type=breakpoint_threshold_type_input,\n",
    "                        breakpoint_threshold_amount=breakpoint_threshold_amount_input,\n",
    "                    )\n",
    "                else:\n",
    "                    chunk_size = chunk_size_input\n",
    "                    chunk_overlap = 50\n",
    "                    text_splitter = RecursiveCharacterTextSplitter(\n",
    "                        chunk_size=chunk_size,\n",
    "                        chunk_overlap=chunk_overlap\n",
    "                    )\n",
    "\n",
    "                # Split\n",
    "                splits = text_splitter.split_documents([doc])\n",
    "                for split in splits:\n",
    "                    split.metadata['source'] = pdf_file_name\n",
    "                    all_splits.append(split)\n",
    "            else:\n",
    "                doc.metadata['source'] = pdf_file_name\n",
    "                all_splits.append(doc)\n",
    "        \n",
    "    return all_splits\n"
   ]
  },
  {
   "cell_type": "markdown",
   "id": "be7ad53a",
   "metadata": {},
   "source": [
    "## 2.3 Convert PDFs to markdown files"
   ]
  },
  {
   "cell_type": "code",
   "execution_count": 5,
   "id": "fb282c6c",
   "metadata": {},
   "outputs": [
    {
     "name": "stdout",
     "output_type": "stream",
     "text": [
      "Status: loaded, waiting for processing to complete\n",
      "Status: loaded, waiting for processing to complete\n",
      "Status: split, waiting for processing to complete\n",
      "Status: split, waiting for processing to complete\n",
      "Status: split, waiting for processing to complete\n"
     ]
    }
   ],
   "source": [
    "############################################################################\n",
    "# Run only to convert pdf to markdown files\n",
    "############################################################################\n",
    "\n",
    "collection_list=[\n",
    "    #\"Cayman\",\n",
    "    # \"AI_BigData\",\n",
    "    #\"ASOP_life\",\n",
    "    #\"Bermuda\",\n",
    "    # \"CFT\",\n",
    "    # \"GAAP\",\n",
    "    # \"RiskFinance\",\n",
    "    # \"PBR\",\n",
    "    # \"VM21\",\n",
    "    # \"VM22\",\n",
    "    # \"Asset\",\n",
    "    # \"IFRS17\",\n",
    "]\n",
    "for collection_name in collection_list:\n",
    "    # Put new files in the upload subfolder\n",
    "    folder_path = './data/upload/pdf/'+collection_name\n",
    "    download_path = './data/upload/md/'+collection_name\n",
    "    os.makedirs(download_path, exist_ok=True)\n",
    "\n",
    "    # Use loader option 5 to use Mathpix OCR to load formula, tables\n",
    "    pdf_to_md(folder_path, download_path, loader_option = 5)"
   ]
  },
  {
   "cell_type": "markdown",
   "id": "c6c1a99b",
   "metadata": {},
   "source": [
    "## 2.4 Set up pincone"
   ]
  },
  {
   "cell_type": "code",
   "execution_count": 11,
   "id": "249d8d14",
   "metadata": {},
   "outputs": [
    {
     "data": {
      "text/plain": [
       "langchain_pinecone.vectorstores.PineconeVectorStore"
      ]
     },
     "execution_count": 11,
     "metadata": {},
     "output_type": "execute_result"
    }
   ],
   "source": [
    "pc = Pinecone(api_key=pinecone_api_key)\n",
    "index_name = \"valact-rag\"\n",
    "index = pc.Index(index_name)\n",
    "index.describe_index_stats()\n",
    "vectorstore = PineconeVectorStore(\n",
    "    index = index,\n",
    "    embedding=embeddings_model,\n",
    ")\n",
    "type(vectorstore)"
   ]
  },
  {
   "cell_type": "markdown",
   "id": "ce916cb5",
   "metadata": {},
   "source": [
    "### Tests"
   ]
  },
  {
   "cell_type": "code",
   "execution_count": 241,
   "id": "f7872c64",
   "metadata": {},
   "outputs": [
    {
     "data": {
      "text/plain": [
       "[Document(page_content='An entity shall adjust the estimate of the present value of the future cash flows to reflect the compensation that the entity requires for bearing the uncertainty about the amount and timing of the cash flows that arises from non-financial risk.  \\nContractual service margin  \\nThe contractual service margin is a component of the asset or liability for the group of insurance contracts that represents the unearned profit the entity will recognise as it provides insurance contract services in the future. An entity shall measure the contractual service margin on initial recognition of a group of insurance contracts at an amount that, unless paragraph 47 (on onerous contracts) or paragraph B123A (on insurance revenue relating to paragraph 38(c)(ii)) applies, results in no income or expenses arising from:  \\n(a) the initial recognition of an amount for the fulfilment cash flows, measured by applying paragraphs $32-37$;', metadata={'source': 'ifrs-17-insurance-contracts.pdf'})]"
      ]
     },
     "execution_count": 241,
     "metadata": {},
     "output_type": "execute_result"
    }
   ],
   "source": [
    "query = \"Explain contractual service margin\"  \n",
    "vectorstore.similarity_search(  \n",
    "    query,  # our search query  \n",
    "    k=1,  # return 3 most relevant docs \n",
    "    namespace=\"IFRS17\", \n",
    ") "
   ]
  },
  {
   "cell_type": "code",
   "execution_count": 242,
   "id": "0a8f4ce8",
   "metadata": {},
   "outputs": [
    {
     "data": {
      "text/plain": [
       "{'query': 'Explain contractual service margin',\n",
       " 'result': 'The contractual service margin is a key concept in the accounting for insurance contracts under IFRS 17. It represents the unearned profit that an insurance entity will recognize as it provides services under an insurance contract in the future periods.\\n\\nSpecifically, the contractual service margin is a component of the asset or liability for a group of insurance contracts that is measured on initial recognition. It is calculated in a way that results in no income or expense arising on initial recognition, unless the contracts are onerous.\\n\\nThe contractual service margin is then adjusted over the coverage period as insurance services are provided and is recognized in profit or loss as part of insurance revenue. The adjustments to the contractual service margin include:\\n\\n1) Changes relating to future service (e.g. experience adjustments for non-financial risk)\\n2) The effect of any new contracts added to the group\\n3) Currency exchange differences\\n4) The amount recognized as insurance revenue for the transfer of services in the period\\n\\nFor insurance contracts with direct participation features, the carrying amount of the contractual service margin is adjusted based on the specific requirements outlined in the standard.\\n\\nIn essence, the contractual service margin represents the profit that the insurer will earn from providing services over the remaining coverage period of the insurance contracts. Its measurement and adjustments aim to appropriately reflect that unearned profit over the duration of the contracts.'}"
      ]
     },
     "execution_count": 242,
     "metadata": {},
     "output_type": "execute_result"
    }
   ],
   "source": [
    "from langchain.chains import RetrievalQA\n",
    "query = \"Explain contractual service margin\"  \n",
    "\n",
    "vectorstore = PineconeVectorStore(\n",
    "    index = index,\n",
    "    embedding=embeddings_model,\n",
    "    namespace=\"IFRS17\",\n",
    ")\n",
    "\n",
    "qa = RetrievalQA.from_chain_type(  \n",
    "    llm=llm,  \n",
    "    chain_type=\"stuff\",  \n",
    "    retriever=vectorstore.as_retriever()  \n",
    ")  \n",
    "qa.invoke(query) "
   ]
  },
  {
   "cell_type": "markdown",
   "id": "9a887433",
   "metadata": {},
   "source": [
    "## 2.5 Loading markdown files to vector database (Semantic Chunker)"
   ]
  },
  {
   "cell_type": "code",
   "execution_count": 237,
   "id": "bd36e5b4",
   "metadata": {},
   "outputs": [],
   "source": [
    "############################################################################\n",
    "# Run to load markdown files to vector database\n",
    "############################################################################\n",
    "vectorstore = PineconeVectorStore(\n",
    "    index = index,\n",
    "    embedding=embeddings_model,\n",
    ")\n",
    "\n",
    "collection_list=[\n",
    "    # \"Cayman\", #\n",
    "    # \"AI_BigData\", # use 1.75 stdev\n",
    "    # \"ASOP_life\", #\n",
    "    # \"Bermuda\", #\n",
    "    # \"CFT\",#\n",
    "    #\"GAAP\", # use 1.5 stdev\n",
    "    # \"RiskFinance\", # use 1.75 stdev\n",
    "    # \"PBR\", # use 1.75 stdev\n",
    "    # \"VM21\", # use 1.75 stdev\n",
    "    # \"VM22\", # use 1.75 stdev\n",
    "    # \"Asset\", # use 1.75 stdev\n",
    "    \"IFRS17\", #\n",
    "    # \"Product\", # use 1.75 stdev\n",
    "]\n",
    "\n",
    "for collection_name in collection_list:\n",
    "    # Put new files in the upload subfolder\n",
    "    # Upload from md folder\n",
    "    folder_path = './data/md/'+collection_name\n",
    "\n",
    "    # Call the function to load and extract text from PDFs in the specified folder\n",
    "    docs = load_mds_from_folder(folder_path)\n",
    "    \n",
    "    # Create a text splitter object with specified parameters\n",
    "    # text_splitter = RecursiveCharacterTextSplitter(\n",
    "    #     chunk_size=1000, # 1000 splits a page into roughly 3 chunks\n",
    "    #     chunk_overlap=200,\n",
    "    #     length_function=len,)\n",
    "\n",
    "    # Use semantic chunker to increase meaningfulness of the chunks\n",
    "    text_splitter = SemanticChunker(\n",
    "        embeddings=embeddings_model,\n",
    "        breakpoint_threshold_type = 'standard_deviation',\n",
    "        breakpoint_threshold_amount = 1.5,\n",
    "    )\n",
    "\n",
    "    # BREAKPOINT_DEFAULTS: Dict[BreakpointThresholdType, float] = {\n",
    "    #     \"percentile\": 95,\n",
    "    #     \"standard_deviation\": 3,\n",
    "    #     \"interquartile\": 1.5,\n",
    "    # }\n",
    "\n",
    "    splits = text_splitter.split_documents(docs)\n",
    "\n",
    "    # Create a vector database from the document splits\n",
    "    # vectorstore.add_documents(\n",
    "    #     documents=splits,\n",
    "    #     namespace=collection_name,\n",
    "    # )\n"
   ]
  },
  {
   "cell_type": "markdown",
   "id": "7e08bbd1",
   "metadata": {},
   "source": [
    "## 2.6 Loading markdown files to vector database (use Header Text Splitter)"
   ]
  },
  {
   "cell_type": "code",
   "execution_count": 26,
   "id": "71bf3dd7",
   "metadata": {},
   "outputs": [],
   "source": [
    "############################################################################\n",
    "# Run to load markdown files to vector database\n",
    "############################################################################\n",
    "collection_list=[\n",
    "    # \"Cayman\",\n",
    "    # \"AI_BigData\",\n",
    "    # \"ASOP_life\",\n",
    "    # \"Bermuda\",\n",
    "    # \"CFT\",\n",
    "    # \"GAAP\", # use this\n",
    "    # \"RiskFinance\",\n",
    "    # \"PBR\",\n",
    "    # \"VM21\",\n",
    "    # \"VM22\",\n",
    "    # \"Asset\",\n",
    "    # \"IFRS17\",\n",
    "    # \"Product\",\n",
    "]\n",
    "\n",
    "for collection_name in collection_list:\n",
    "    folder_path = './data/upload/md/'+collection_name\n",
    "\n",
    "    # Call the function to load and extract text from PDFs in the specified folder\n",
    "    splits = split_mds(\n",
    "        folder_path, \n",
    "        IsSemantic=True,\n",
    "        breakpoint_threshold_type_input=\"standard_deviation\",\n",
    "        breakpoint_threshold_amount_input=2,\n",
    "    )\n",
    "    # BREAKPOINT_DEFAULTS: Dict[BreakpointThresholdType, float] = {\n",
    "    #     \"percentile\": 95,\n",
    "    #     \"standard_deviation\": 3,\n",
    "    #     \"interquartile\": 1.5,\n",
    "    # }\n",
    "\n",
    "    # Create a vector database from the document splits\n",
    "    vectorstore.add_documents(\n",
    "        documents=splits,\n",
    "        namespace=collection_name,\n",
    "    )\n"
   ]
  },
  {
   "cell_type": "markdown",
   "id": "dd03b050",
   "metadata": {},
   "source": [
    "## 2.7 Pinecone Status"
   ]
  },
  {
   "cell_type": "code",
   "execution_count": 27,
   "id": "c93a9dc7",
   "metadata": {},
   "outputs": [
    {
     "data": {
      "text/plain": [
       "{'dimension': 3072,\n",
       " 'index_fullness': 0.0,\n",
       " 'namespaces': {'AI_BigData': {'vector_count': 780},\n",
       "                'ASOP_life': {'vector_count': 752},\n",
       "                'Asset': {'vector_count': 408},\n",
       "                'Bermuda': {'vector_count': 859},\n",
       "                'CFT': {'vector_count': 501},\n",
       "                'Cayman': {'vector_count': 184},\n",
       "                'GAAP': {'vector_count': 813},\n",
       "                'IFRS17': {'vector_count': 128},\n",
       "                'PBR': {'vector_count': 1057},\n",
       "                'Product': {'vector_count': 1463},\n",
       "                'RiskFinance': {'vector_count': 1445},\n",
       "                'VM21': {'vector_count': 186},\n",
       "                'VM22': {'vector_count': 134}},\n",
       " 'total_vector_count': 8710}"
      ]
     },
     "execution_count": 27,
     "metadata": {},
     "output_type": "execute_result"
    }
   ],
   "source": [
    "index.describe_index_stats()"
   ]
  },
  {
   "cell_type": "code",
   "execution_count": 382,
   "id": "510d7552",
   "metadata": {},
   "outputs": [],
   "source": [
    "collection_list=[\n",
    "    # \"Cayman\",\n",
    "    # \"AI_BigData\",\n",
    "    # \"ASOP_life\",\n",
    "    # \"Bermuda\",\n",
    "    # \"CFT\",\n",
    "    # \"GAAP\",\n",
    "    # \"RiskFinance\",\n",
    "    # \"PBR\",\n",
    "    # \"VM21\",\n",
    "    # \"VM22\",\n",
    "    # \"Asset\",\n",
    "    # \"IFRS17\",\n",
    "    # \"Product\",\n",
    "]\n",
    "\n",
    "for collection_name in collection_list:\n",
    "    index.delete(delete_all=True, namespace=collection_name)"
   ]
  },
  {
   "cell_type": "markdown",
   "id": "d46105ba",
   "metadata": {},
   "source": [
    "# 3. For test purposes"
   ]
  },
  {
   "cell_type": "markdown",
   "id": "90a4d0e8",
   "metadata": {},
   "source": [
    "## 3.1. Retrieve from the vector store"
   ]
  },
  {
   "cell_type": "code",
   "execution_count": 10,
   "id": "9744b63c",
   "metadata": {},
   "outputs": [],
   "source": [
    "## Retrieve and RAG chain\n",
    "# Create a retriever using the vector database as the search source\n",
    "# You may choose a specific document to filter the search\n",
    "retriever = vectorstore.as_retriever(search_type=\"mmr\", \n",
    "                                     search_kwargs={\n",
    "                                        'k': 6, \n",
    "                                        'lambda_mult': 0.5,\n",
    "                                        # 'filter': {'source': '201611-Guidance-Notes-for-Commercial-Insurers-and-Groups-Statutory-Reporting-Regime-30-Nov-2016.pdf'}\n",
    "                                        }\n",
    "                                    ) \n",
    "# Use MMR (Maximum Marginal Relevance) to find a set of documents that are both similar to the input query and diverse among themselves\n",
    "# Increase the number of documents to get, and increase diversity (lambda mult 0.5 being default, 0 being the most diverse, 1 being the least)\n",
    "\n",
    "# Load the RAG (Retrieval-Augmented Generation) prompt\n",
    "qa_system_prompt = \"\"\"You are a helpful assistant to help actuaries with question-answering tasks. \\\n",
    "Use the following pieces of retrieved context to answer the question. \\\n",
    "ASOP or asop means Actuarial Standards of Practice. \\\n",
    "CFT means Cash Flow Testing. AAT means Asset Adequacy Testing. \\\n",
    "BMA means Bermuda Monetary Authority. \\\n",
    "SBA means scenario-based approach. BEL means best estimate liabilities.\\\n",
    "After you answer, provide the sources you used to answer the question. \\\n",
    "If you don't know the answer, just say that you don't know. \\\n",
    "\n",
    "{context}\"\"\"\n",
    "prompt = ChatPromptTemplate.from_messages(\n",
    "    [\n",
    "        (\"system\", qa_system_prompt),\n",
    "        (\"human\", \"{question}\"),\n",
    "    ]\n",
    ")\n",
    "\n",
    "# Define a function to format the documents with their sources and pages\n",
    "def format_docs_with_sources(docs):\n",
    "    formatted_docs = \"\\n\\n\".join(doc.page_content for doc in docs)\n",
    "    #sources_pages = \"\\n\".join(f\"{doc.metadata['source']} (Page {doc.metadata['page'] + 1})\" for doc in docs)\n",
    "    sources_pages = \"\\n\".join(f\"{doc.metadata['source']})\" for doc in docs)\n",
    "    # Added 1 to the page number assuming 'page' starts at 0 and we want to present it in a user-friendly way\n",
    "\n",
    "    return f\"Documents:\\n{formatted_docs}\\n\\nSources and Pages:\\n{sources_pages}\"\n",
    "\n",
    "# Create a RAG chain using the formatted documents as the context\n",
    "rag_chain_from_docs = (\n",
    "    RunnablePassthrough.assign(context=(lambda x: format_docs_with_sources(x[\"context\"])))\n",
    "    | prompt\n",
    "    | llm\n",
    "    | StrOutputParser()\n",
    ")\n",
    "\n",
    "# Create a parallel chain for retrieving and generating answers\n",
    "rag_chain_with_source = RunnableParallel(\n",
    "    {\"context\": retriever, \"question\": RunnablePassthrough()}\n",
    ").assign(answer=rag_chain_from_docs)"
   ]
  },
  {
   "cell_type": "markdown",
   "id": "9243e34a",
   "metadata": {},
   "source": [
    "## 3.3. Generate Q&A Function"
   ]
  },
  {
   "cell_type": "code",
   "execution_count": 11,
   "id": "1ceedb0b",
   "metadata": {},
   "outputs": [],
   "source": [
    "def generate_output():\n",
    "    # Prompt the user for a question on ASOP\n",
    "    usr_input = input(\"What is your question on ASOP?: \")\n",
    "\n",
    "    # Invoke the RAG chain with the user input as the question\n",
    "    output = rag_chain_with_source.invoke(usr_input)\n",
    "\n",
    "    # Generate the Markdown output with the question, answer, and context\n",
    "    markdown_output = \"### Question\\n{}\\n\\n### Answer\\n{}\\n\\n### Context\\n\".format(output['question'], output['answer'])\n",
    "\n",
    "    last_page_content = None  # Variable to store the last page content\n",
    "    i = 1 # Source indicator\n",
    "\n",
    "    # Iterate over the context documents to format and include them in the output\n",
    "    for doc in output['context']:\n",
    "        current_page_content = doc.page_content.replace('\\n', '  \\n')  # Get the current page content\n",
    "        \n",
    "        # Check if the current content is different from the last one\n",
    "        if current_page_content != last_page_content:\n",
    "            #markdown_output += \"- **Source {}**: {}, page {}:\\n\\n{}\\n\".format(i, doc.metadata['source'], doc.metadata['page'], current_page_content)\n",
    "            markdown_output += \"- **Source {}**: {}:\\n\\n{}\\n\".format(i, doc.metadata['source'], current_page_content)\n",
    "            i = i + 1\n",
    "        last_page_content = current_page_content  # Update the last page content\n",
    "    \n",
    "    # Display the Markdown output\n",
    "    display(Markdown(markdown_output))"
   ]
  },
  {
   "cell_type": "markdown",
   "id": "9d54daa6",
   "metadata": {},
   "source": [
    "### Example questions related to ASOPs\n",
    "- explain ASOP No. 14\n",
    "- How are expenses relfected in cash flow testing based on ASOP No. 22?\n",
    "- What is catastrophe risk?\n",
    "- When do I update assumptions?\n",
    "- What should I do when I do not have credible data to develop non-economic assumptions?"
   ]
  },
  {
   "cell_type": "code",
   "execution_count": 82,
   "id": "36183436",
   "metadata": {},
   "outputs": [
    {
     "data": {
      "text/markdown": [
       "### Question\n",
       "Explain contractual service margin\n",
       "\n",
       "### Answer\n",
       "The contractual service margin (CSM) is a key concept introduced in IFRS 17 Insurance Contracts. It represents the unearned profit that the entity will recognize as it provides services under the insurance contract.\n",
       "\n",
       "Specifically, the CSM is calculated on initial recognition of a group of insurance contracts as the equalizing entry to ensure no income or expenses arise at initial recognition, unless the contracts are onerous. It is calculated as the excess of the premium over the fulfilment cash flows measured at that date.\n",
       "\n",
       "Over the coverage period, the CSM is recognized in profit or loss based on the passage of time and release of risk, reflecting the transfer of services provided under the contract. The amount recognized is determined by identifying the coverage units provided in the period.\n",
       "\n",
       "For insurance contracts with direct participation features, the CSM is adjusted for changes in the amount to be paid to policyholders arising from changes in underlying items like investment returns.\n",
       "\n",
       "The CSM essentially defers upfront profits at inception to be earned over the coverage period as the entity satisfies its performance obligation to provide services. It aims to faithfully represent the unearned profits in the balance sheet and profit or loss pattern.\n",
       "\n",
       "Sources:\n",
       "- ifrs-17-insurance-contracts.pdf (paragraphs 38, 44(e), 45(e), 66(e), B119, B101)\n",
       "\n",
       "### Context\n",
       "- **Source 1**: ifrs-17-insurance-contracts.pdf:\n",
       "\n",
       "An entity shall not make any adjustment for changes previously recognised in profit or loss. Recognition of the contractual service margin in profit or loss  \n",
       "  \n",
       "B119 An amount of the contractual service margin for a group of insurance contracts is recognised in profit or loss in each period to reflect the insurance contract services provided under the group of insurance contracts in that period (see paragraphs 44(e), 45(e) and 66(e)). The amount is determined by:  \n",
       "  \n",
       "(a) identifying the coverage units in the group.\n",
       "- **Source 2**: ifrs-17-insurance-contracts.pdf:\n",
       "\n",
       "A change in the discretionary cash flows is regarded as relating to future service, and accordingly adjusts the contractual service margin. To determine how to identify a change in discretionary cash flows, an entity shall specify at inception of the contract the basis on which it expects to determine its commitment under the contract; for example, based on a fixed interest rate, or on returns that vary based on specified asset returns. An entity shall use that specification to distinguish between the effect of changes in assumptions that relate to financial risk on that commitment (which do not adjust the contractual service margin) and the effect of discretionary changes to that commitment (which adjust the contractual service margin). B100 If an entity cannot specify at inception of the contract what it regards as its commitment under the contract and what it regards as discretionary, it shall regard its commitment to be the return implicit in the estimate of the fulfilment cash flows at inception of the contract, updated to reflect current assumptions that relate to financial risk. Changes in the carrying amount of the contractual service margin for insurance contracts with direct participation features (paragraph 45)  \n",
       "  \n",
       "B101 Insurance contracts with direct participation features are insurance contracts that are substantially investment-related service contracts under which an entity promises an investment return based on underlying items. Hence, they are defined as insurance contracts for which:  \n",
       "  \n",
       "(a) the contractual terms specify that the policyholder participates in a share of a clearly identified pool of underlying items (see paragraphs B105-B106);  \n",
       "  \n",
       "(b) the entity expects to pay to the policyholder an amount equal to a substantial share of the fair value returns on the underlying items (see paragraph B107); and  \n",
       "  \n",
       "(c) the entity expects a substantial proportion of any change in the amounts to be paid to the policyholder to vary with the change in fair value of the underlying items (see paragraph B107).\n",
       "- **Source 3**: ifrs-17-insurance-contracts.pdf:\n",
       "\n",
       "The consideration received or paid for the contracts excludes the consideration received or paid for any other assets and liabilities acquired in the same transaction. In a business combination within the scope of IFRS 3, the consideration received or paid is the fair value of the contracts at that date. In determining that fair value, an entity shall not apply paragraph 47 of IFRS 13 (relating to demand features). Unless the premium allocation approach for the liability for remaining coverage in paragraphs $55-59$ and $69-70 \\mathrm{~A}$ applies, on initial recognition the contractual service margin is calculated applying paragraph 38 for acquired insurance contracts issued and paragraph 65 for acquired reinsurance contracts held using the consideration received or paid for the contracts as a proxy for the premiums received or paid at the date of initial recognition. If acquired insurance contracts issued are onerous, applying paragraph 47, the entity shall recognise the excess of the fulfilment cash flows over the consideration paid or received as part of goodwill or gain on a bargain purchase for contracts acquired in a business combination within the scope of IFRS 3, or as a loss in profit or loss for contracts acquired in a transfer.\n",
       "- **Source 4**: ifrs-17-insurance-contracts.pdf:\n",
       "\n",
       "(iii) the change in the risk adjustment for non-financial risk caused by the release from risk before that date. The entity shall estimate this amount by reference to the release of risk for similar insurance contracts that the entity issues at the transition date. (iv) insurance acquisition cash flows paid (or for which a liability has been recognised applying another IFRS Standard) before the transition date that are allocated to the group (see paragraph C17A). (d) if (a)-(c) result in a contractual service margin-minus the amount of the contractual service margin that relates to services provided before that date.\n",
       "- **Source 5**: ifrs-17-insurance-contracts.pdf:\n",
       "\n",
       "To the extent that changes in the contractual service margin do not offset changes in the fulfilment cash flows for the liability for remaining coverage, an entity shall recognise income and expenses for the changes, applying paragraph 41. Onerous contracts  \n",
       "  \n",
       "An insurance contract is onerous at the date of initial recognition if the fulfilment cash flows allocated to the contract, any previously recognised insurance acquisition cash flows and any cash flows arising from the contract at the date of initial recognition in total are a net outflow. Applying paragraph 16(a), an entity shall group such contracts separately from contracts that are not onerous.\n",
       "- **Source 6**: ifrs-17-insurance-contracts.pdf:\n",
       "\n",
       "(c) the allocation of the contractual service margin (see paragraphs 44(e) and 45(e)) is modified so that the entity shall recognise the contractual service margin over the duration of the group of contracts in a systematic way that reflects the transfer of investment services under the contract. Modification and derecognition  \n",
       "  \n",
       "Modification of an insurance contract  \n",
       "  \n",
       "If the terms of an insurance contract are modified, for example by agreement between the parties to the contract or by a change in regulation, an entity shall derecognise the original contract and recognise the modified contract as a new contract, applying IFRS 17 or other applicable Standards if, and only if, any of the conditions in (a)-(c) are satisfied. The exercise of a right included in the terms of a contract is not a modification.\n"
      ],
      "text/plain": [
       "<IPython.core.display.Markdown object>"
      ]
     },
     "metadata": {},
     "output_type": "display_data"
    }
   ],
   "source": [
    "generate_output()"
   ]
  },
  {
   "cell_type": "markdown",
   "id": "628913a4",
   "metadata": {},
   "source": [
    "# 4. Management of the vector database"
   ]
  },
  {
   "cell_type": "code",
   "execution_count": 324,
   "id": "0bce4af6",
   "metadata": {},
   "outputs": [
    {
     "data": {
      "text/plain": [
       "{'dimension': 3072,\n",
       " 'index_fullness': 0.0,\n",
       " 'namespaces': {'ASOP_life': {'vector_count': 440},\n",
       "                'Asset': {'vector_count': 91},\n",
       "                'Bermuda': {'vector_count': 280},\n",
       "                'CFT': {'vector_count': 243},\n",
       "                'Cayman': {'vector_count': 63},\n",
       "                'GAAP': {'vector_count': 405},\n",
       "                'IFRS17': {'vector_count': 47},\n",
       "                'VM21': {'vector_count': 109},\n",
       "                'VM22': {'vector_count': 62}},\n",
       " 'total_vector_count': 1740}"
      ]
     },
     "execution_count": 324,
     "metadata": {},
     "output_type": "execute_result"
    }
   ],
   "source": [
    "index.describe_index_stats()"
   ]
  },
  {
   "cell_type": "code",
   "execution_count": 83,
   "id": "1e514b59",
   "metadata": {},
   "outputs": [
    {
     "data": {
      "text/plain": [
       "{}"
      ]
     },
     "execution_count": 83,
     "metadata": {},
     "output_type": "execute_result"
    }
   ],
   "source": [
    "# Delete all documents from the namespace\n",
    "index.delete(delete_all=True, namespace='IFRS17')"
   ]
  },
  {
   "cell_type": "markdown",
   "id": "6a69705c",
   "metadata": {},
   "source": [
    "## 4.1 Remove documents from the vector database"
   ]
  },
  {
   "cell_type": "code",
   "execution_count": null,
   "id": "7a3835ae",
   "metadata": {},
   "outputs": [],
   "source": [
    "metadata_filter = {\"source\": \"ifrs-17-insurance-contracts.pdf\"}\n",
    "namespace_name = 'IFRS17'\n",
    "\n",
    "# Query the index with the metadata filter\n",
    "results = index.query(\n",
    "    vector=[0.0]*3072, \n",
    "    top_k=10000, \n",
    "    include_metadata=True, \n",
    "    filter=metadata_filter,\n",
    "    namespace=namespace_name,\n",
    ")\n",
    "\n",
    "ids = [result.id for result in results['matches']]\n",
    "for id in ids:\n",
    "    print(id)\n",
    "    index.delete(ids=ids, namespace=namespace_name)"
   ]
  },
  {
   "cell_type": "markdown",
   "id": "354529f9",
   "metadata": {},
   "source": [
    "## 4.2 Print IDs for a document"
   ]
  },
  {
   "cell_type": "code",
   "execution_count": 107,
   "id": "7ca7b9c1",
   "metadata": {},
   "outputs": [
    {
     "name": "stdout",
     "output_type": "stream",
     "text": [
      "5ff9ad71-c593-4608-a3e8-040eb8d534b9\n",
      "9145b23e-6d11-42bc-ac8b-ec10a51ffd59\n",
      "072fb3cc-cdfb-42e2-b44a-6ee339636a80\n",
      "7251a633-1890-466c-96cb-c566daa14379\n"
     ]
    }
   ],
   "source": [
    "metadata_filter = {\"source\": \"asop014_082_whenToCFT.pdf\"}\n",
    "namespace_name = 'IFRS17'\n",
    "\n",
    "# Query the index with the metadata filter\n",
    "results = index.query(\n",
    "    vector=[0.0]*3072, \n",
    "    top_k=10000, \n",
    "    include_metadata=True, \n",
    "    filter=metadata_filter,\n",
    "    namespace=namespace_name,\n",
    ")\n",
    "\n",
    "ids = [result.id for result in results['matches']]\n",
    "for id in ids:\n",
    "    print(id)"
   ]
  },
  {
   "cell_type": "markdown",
   "id": "1f60081f",
   "metadata": {},
   "source": [
    "# 5. Tests - to remove"
   ]
  },
  {
   "cell_type": "code",
   "execution_count": 14,
   "id": "6bd988ae",
   "metadata": {},
   "outputs": [
    {
     "name": "stdout",
     "output_type": "stream",
     "text": [
      "180\n"
     ]
    },
    {
     "data": {
      "image/png": "[encoded data removed]",
      "text/plain": [
       "<Figure size 1000x600 with 1 Axes>"
      ]
     },
     "metadata": {},
     "output_type": "display_data"
    }
   ],
   "source": [
    "import matplotlib.pyplot as plt\n",
    "\n",
    "# Create a list to store the text lengths for each split\n",
    "text_lengths = []\n",
    "split_lentgh = len(splits)\n",
    "print(split_lentgh)\n",
    "for i, doc in enumerate(splits):\n",
    "    text_length = len(doc.page_content)\n",
    "    text_lengths.append(text_length)\n",
    "    if(text_length>40960):\n",
    "        print(doc.metadata['source'])\n",
    "\n",
    "# Create a histogram of text lengths\n",
    "plt.figure(figsize=(10, 6))\n",
    "plt.hist(text_lengths, bins=20, edgecolor='black')\n",
    "plt.xlabel('Text Length (bytes)')\n",
    "plt.ylabel('Frequency')\n",
    "plt.title('Histogram of Text Lengths')\n",
    "plt.grid(True)\n",
    "plt.show()"
   ]
  },
  {
   "cell_type": "code",
   "execution_count": 25,
   "id": "875b217f",
   "metadata": {},
   "outputs": [
    {
     "data": {
      "text/plain": [
       "Document(page_content='# Amendments to the FASB Accounting Standards Codification ${ }^{\\\\circledR}$  \\n## Introduction  \\n1. The Accounting Standards Codification is amended as described in paragraphs $2-41$. In some cases, to put the change in context, not only are the amended paragraphs shown but also the preceding and following paragraphs. Terms from the Master Glossary are in bold type. Added text is underlined, and deleted text is struck out.', metadata={'Header 1': 'Amendments to the FASB Accounting Standards Codification ${ }^{\\\\circledR}$', 'Header 2': 'Introduction', 'source': '2018-FASB-ASU_2018-12.pdf'})"
      ]
     },
     "execution_count": 25,
     "metadata": {},
     "output_type": "execute_result"
    }
   ],
   "source": [
    "splits[11]"
   ]
  },
  {
   "cell_type": "code",
   "execution_count": 378,
   "id": "9bd68491",
   "metadata": {},
   "outputs": [
    {
     "data": {
      "text/plain": [
       "42"
      ]
     },
     "execution_count": 378,
     "metadata": {},
     "output_type": "execute_result"
    }
   ],
   "source": [
    "md_file = \"./data/md/GAAP/2005-AAA-DIGB36_PracticNote.md\"\n",
    "\n",
    "headers_to_split_on = [\n",
    "    (\"#\", \"Header 1\"),\n",
    "    (\"##\", \"Header 2\"),\n",
    "    (\"###\", \"Header 3\"),\n",
    "]\n",
    "markdown_splitter = MarkdownHeaderTextSplitter(\n",
    "    headers_to_split_on=headers_to_split_on, \n",
    "    strip_headers=False,\n",
    ")\n",
    "loader = TextLoader(md_file)\n",
    "loaded_docs = loader.load()\n",
    "# MD splits\n",
    "md_header_splits = markdown_splitter.split_text(loaded_docs[0].page_content)\n",
    "len(md_header_splits)\n"
   ]
  },
  {
   "cell_type": "markdown",
   "id": "73f5ad02",
   "metadata": {},
   "source": []
  }
 ],
 "metadata": {
  "kernelspec": {
   "display_name": "ValAct_RAG",
   "language": "python",
   "name": "python3"
  },
  "language_info": {
   "codemirror_mode": {
    "name": "ipython",
    "version": 3
   },
   "file_extension": ".py",
   "mimetype": "text/x-python",
   "name": "python",
   "nbconvert_exporter": "python",
   "pygments_lexer": "ipython3",
   "version": "3.12.2"
  }
 },
 "nbformat": 4,
 "nbformat_minor": 5
}
